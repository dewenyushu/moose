{
 "cells": [
  {
   "cell_type": "code",
   "execution_count": 1,
   "metadata": {},
   "outputs": [],
   "source": [
    "import numpy as np\n",
    "import pandas as pd\n",
    "import matplotlib.pyplot as plt\n",
    "from mpl_toolkits.mplot3d import Axes3D\n",
    "import csv"
   ]
  },
  {
   "cell_type": "code",
   "execution_count": 2,
   "metadata": {},
   "outputs": [],
   "source": [
    "from matplotlib import rcParams\n",
    "rcParams['font.family'] = 'Serif'"
   ]
  },
  {
   "cell_type": "markdown",
   "metadata": {},
   "source": [
    "## Product parameter"
   ]
  },
  {
   "cell_type": "code",
   "execution_count": 3,
   "metadata": {},
   "outputs": [],
   "source": [
    "dx = [-2, 2] #mm\n",
    "\n",
    "dy = [-2, 2] #mm\n",
    "\n",
    "dz = [4, 24] # mm"
   ]
  },
  {
   "cell_type": "markdown",
   "metadata": {},
   "source": [
    "## Printing parameter"
   ]
  },
  {
   "cell_type": "code",
   "execution_count": 4,
   "metadata": {},
   "outputs": [],
   "source": [
    "h = 0.3 # layer thickness, mm\n",
    "\n",
    "d = 0.45 # hatch spacing, mm\n",
    "\n",
    "v_infill = 6.35 # infill scanning speed, mm/s\n",
    "\n",
    "v_outline = 10.58"
   ]
  },
  {
   "cell_type": "markdown",
   "metadata": {},
   "source": [
    "## Produce parallel scanning path\n",
    "\n",
    "### 1. outline"
   ]
  },
  {
   "cell_type": "code",
   "execution_count": 5,
   "metadata": {},
   "outputs": [],
   "source": [
    "def get_outline_path_A(dt, dx, dy, height, v_outline, x_full, y_full, z_full, t_full):\n",
    "    Lx = dx[1] - dx[0]\n",
    "    Ly = dy[1] - dy[0]\n",
    "    # assume A -> B-> C-> D as\n",
    "    # C --- B\n",
    "    # |     |\n",
    "    # D --- A\n",
    "    x_full.extend([dx[1], dx[1], dx[0], dx[0], dx[1]])\n",
    "    y_full.extend([dy[0], dy[1], dy[1], dy[0], dy[0]])\n",
    "    z_full.extend([height, height, height, height, height])\n",
    "    \n",
    "    t_full.append(dt)\n",
    "    t_full.append(Ly/v_outline)\n",
    "    t_full.append(Lx/v_outline)\n",
    "    t_full.append(Ly/v_outline)\n",
    "    t_full.append(Lx/v_outline)"
   ]
  },
  {
   "cell_type": "code",
   "execution_count": 6,
   "metadata": {},
   "outputs": [],
   "source": [
    "def get_outline_path_B(dt, dx, dy, height, v_outline, x_full, y_full, z_full, t_full):\n",
    "    Lx = dx[1] - dx[0]\n",
    "    Ly = dy[1] - dy[0]\n",
    "    # assume A -> B-> C-> D as\n",
    "    # C --- B\n",
    "    # |     |\n",
    "    # D --- A\n",
    "    x_full.extend([dx[1], dx[0], dx[0], dx[1], dx[1]])\n",
    "    y_full.extend([dy[1], dy[1], dy[0], dy[0], dy[1]])\n",
    "    z_full.extend([height, height, height, height, height])\n",
    "    \n",
    "    t_full.append(dt)\n",
    "    t_full.append(Lx/v_outline)\n",
    "    t_full.append(Ly/v_outline)\n",
    "    t_full.append(Lx/v_outline)\n",
    "    t_full.append(Ly/v_outline)"
   ]
  },
  {
   "cell_type": "code",
   "execution_count": 7,
   "metadata": {},
   "outputs": [],
   "source": [
    "def get_outline_path_C(dt, dx, dy, height, v_outline, x_full, y_full, z_full, t_full):\n",
    "    Lx = dx[1] - dx[0]\n",
    "    Ly = dy[1] - dy[0]\n",
    "    # assume A -> B-> C-> D as\n",
    "    # C --- B\n",
    "    # |     |\n",
    "    # D --- A\n",
    "    x_full.extend([ dx[0], dx[0], dx[1], dx[1], dx[0]])\n",
    "    y_full.extend([ dy[1], dy[0], dy[0], dy[1], dy[1]])\n",
    "    z_full.extend([height, height, height, height, height])\n",
    "    \n",
    "    t_full.append(dt)\n",
    "    t_full.append(Ly/v_outline)\n",
    "    t_full.append(Lx/v_outline)\n",
    "    t_full.append(Ly/v_outline)\n",
    "    t_full.append(Lx/v_outline)"
   ]
  },
  {
   "cell_type": "code",
   "execution_count": 8,
   "metadata": {},
   "outputs": [],
   "source": [
    "def get_outline_path_D(dt, dx, dy, height, v_outline, x_full, y_full, z_full, t_full):\n",
    "    Lx = dx[1] - dx[0]\n",
    "    Ly = dy[1] - dy[0]\n",
    "    # assume A -> B-> C-> D as\n",
    "    # C --- B\n",
    "    # |     |\n",
    "    # D --- A\n",
    "    x_full.extend([  dx[0], dx[1], dx[1], dx[0], dx[0]])\n",
    "    y_full.extend([  dy[0], dy[0], dy[1], dy[1], dy[0]])\n",
    "    z_full.extend([height, height, height, height, height])\n",
    "    \n",
    "    t_full.append(dt)\n",
    "    t_full.append(Lx/v_outline)\n",
    "    t_full.append(Ly/v_outline)\n",
    "    t_full.append(Lx/v_outline)\n",
    "    t_full.append(Ly/v_outline)"
   ]
  },
  {
   "cell_type": "markdown",
   "metadata": {},
   "source": [
    "### 2. filling path"
   ]
  },
  {
   "cell_type": "code",
   "execution_count": 9,
   "metadata": {},
   "outputs": [],
   "source": [
    "def get_horizontal_filling_path(dt, y_start, y_end, move_right,  dx, dy, hatch_spacing, height, v_infill, v_outline, x_full, y_full, z_full, t_full):\n",
    "    Lx = dx[1] - dx[0]\n",
    "    Ly = dy[1] - dy[0]\n",
    "    t_vert = hatch_spacing/v_outline\n",
    "    t_hor = Lx/v_infill\n",
    "    t_full.append(dt)\n",
    "    if move_right == False:\n",
    "        hatch_spacing = - hatch_spacing\n",
    "    for y in np.arange(y_start, y_end, hatch_spacing):\n",
    "        y_full.extend([y,y])\n",
    "        if move_right == True:\n",
    "            x_full.extend(dx)\n",
    "            move_right=False\n",
    "        else:\n",
    "            x_full.extend([dx[1], dx[0]])\n",
    "            move_right=True\n",
    "        z_full.extend([height, height])\n",
    "        t_full.extend([t_hor, t_vert])\n",
    "    del t_full[-1]"
   ]
  },
  {
   "cell_type": "code",
   "execution_count": 10,
   "metadata": {},
   "outputs": [],
   "source": [
    "def get_vertical_filling_path(dt, x_start, x_end, move_up, dx, dy, hatch_spacing, height, v_infill, v_outline, x_full, y_full, z_full, t_full):\n",
    "    Lx = dx[1] - dx[0]\n",
    "    Ly = dy[1] - dy[0]\n",
    "    t_hor = hatch_spacing/v_outline\n",
    "    t_vert = Ly/v_infill\n",
    "    t_full.append(dt)\n",
    "    if move_up == False:\n",
    "        hatch_spacing = -hatch_spacing\n",
    "    for x in np.arange(x_start, x_end, hatch_spacing):\n",
    "        x_full.extend([x,x])\n",
    "        if move_up == True:\n",
    "            y_full.extend(dy)\n",
    "            move_up=False\n",
    "        else:\n",
    "            y_full.extend([dy[1], dy[0]])\n",
    "            move_up=True\n",
    "        z_full.extend([height, height])\n",
    "        t_full.extend([t_vert, t_hor])\n",
    "    del t_full[-1]"
   ]
  },
  {
   "cell_type": "code",
   "execution_count": 11,
   "metadata": {},
   "outputs": [],
   "source": [
    "x_full = []\n",
    "y_full = []\n",
    "z_full = []\n",
    "t_full = []\n",
    "\n",
    "x_start = -1.8\n",
    "x_end = 2.0\n",
    "y_start = -1.8\n",
    "y_end = 2.0\n",
    "hatch_spacing = 0.45\n",
    "\n",
    "height = 0.0\n",
    "\n",
    "# get_outline_path_D(dx, dy, 0.0, v_outline,  x_full, y_full, z_full, t_full)\n",
    "\n",
    "\n",
    "\n",
    "# get_outline_path_B(dx, dy, 0.3, v_outline, dt,  x_full, y_full, z_full, t_full)\n",
    "\n",
    "# print(x_full)\n",
    "# print(y_full)\n",
    "# print(z_full)\n",
    "# print(t_full)"
   ]
  },
  {
   "cell_type": "markdown",
   "metadata": {},
   "source": [
    "### get one-layer printing path"
   ]
  },
  {
   "cell_type": "code",
   "execution_count": 12,
   "metadata": {},
   "outputs": [
    {
     "name": "stdout",
     "output_type": "stream",
     "text": [
      "[-1.8, -1.8, -1.35, -1.35, -0.9000000000000001, -0.9000000000000001, -0.4500000000000002, -0.4500000000000002, -2.220446049250313e-16, -2.220446049250313e-16, 0.44999999999999996, 0.44999999999999996, 0.8999999999999997, 0.8999999999999997, 1.3499999999999994, 1.3499999999999994, 1.7999999999999996, 1.7999999999999996]\n",
      "[-2, 2, 2, -2, -2, 2, 2, -2, -2, 2, 2, -2, -2, 2, 2, -2, -2, 2]\n",
      "[0.0, 0.0, 0.0, 0.0, 0.0, 0.0, 0.0, 0.0, 0.0, 0.0, 0.0, 0.0, 0.0, 0.0, 0.0, 0.0, 0.0, 0.0]\n",
      "[0.1, 0.6299212598425197, 0.04253308128544424, 0.6299212598425197, 0.04253308128544424, 0.6299212598425197, 0.04253308128544424, 0.6299212598425197, 0.04253308128544424, 0.6299212598425197, 0.04253308128544424, 0.6299212598425197, 0.04253308128544424, 0.6299212598425197, 0.04253308128544424, 0.6299212598425197, 0.04253308128544424, 0.6299212598425197]\n"
     ]
    }
   ],
   "source": [
    "x_full = []\n",
    "y_full = []\n",
    "z_full = []\n",
    "t_full = []\n",
    "\n",
    "dt = 0.1;\n",
    "# get_outline_path_D(dt, dx, dy, height, v_outline,  x_full, y_full, z_full, t_full)\n",
    "get_vertical_filling_path(dt, -1.8, 2.0, True, dx, dy, hatch_spacing, height, v_infill, v_outline, x_full, y_full, z_full, t_full)\n",
    "# dt = 0.1;\n",
    "# get_outline_path_B(dt, dx, dy, height+0.3, v_outline,  x_full, y_full, z_full, t_full)\n",
    "# get_horizontal_filling_path(2.0, -1.8, False, dx, dy, hatch_spacing, height+0.3, v_infill, x_full, y_full, z_full, t_full)\n",
    "\n",
    "print(x_full)\n",
    "print(y_full)\n",
    "print(z_full)\n",
    "print(t_full)"
   ]
  },
  {
   "cell_type": "code",
   "execution_count": 13,
   "metadata": {},
   "outputs": [
    {
     "data": {
      "image/png": "[encoded data removed]",
      "text/plain": [
       "<Figure size 432x288 with 1 Axes>"
      ]
     },
     "metadata": {
      "needs_background": "light"
     },
     "output_type": "display_data"
    }
   ],
   "source": [
    "# %matplotlib qt\n",
    "%matplotlib inline\n",
    "fig = plt.figure()\n",
    "# ax = fig.add_subplot(111, projection='3d')\n",
    "# ax.plot(x,y,z, '-or')\n",
    "plt.plot(x_full,y_full, ':or')\n",
    "# plt.axis('equal')\n",
    "plt.axis([-2, 2, -2, 2])\n",
    "# plt.xticks([-10, -5, 0, 5, 10])\n",
    "# plt.yticks([-10, -5, 0, 5, 10])\n",
    "plt.gca().set_aspect('equal', adjustable='box')\n",
    "plt.xlabel(\"$x$\", usetex=True, fontsize = 14)\n",
    "plt.ylabel(\"$y$\", usetex=True,fontsize = 14)\n",
    "\n",
    "\n",
    "# fig.savefig('printing_path_2D.pdf', bbox_inches='tight')\n",
    "\n",
    "# show the plot\n",
    "plt.show()"
   ]
  },
  {
   "cell_type": "code",
   "execution_count": 14,
   "metadata": {},
   "outputs": [
    {
     "name": "stdout",
     "output_type": "stream",
     "text": [
      "[2, -2, -2, 2, 2, -2, -2, 2, 2, -2, -2, 2, 2, -2, -2, 2, 2, -2]\n",
      "[1.8, 1.8, 1.35, 1.35, 0.9000000000000001, 0.9000000000000001, 0.4500000000000002, 0.4500000000000002, 2.220446049250313e-16, 2.220446049250313e-16, -0.44999999999999996, -0.44999999999999996, -0.8999999999999997, -0.8999999999999997, -1.3499999999999994, -1.3499999999999994, -1.7999999999999996, -1.7999999999999996]\n",
      "[0.0, 0.0, 0.0, 0.0, 0.0, 0.0, 0.0, 0.0, 0.0, 0.0, 0.0, 0.0, 0.0, 0.0, 0.0, 0.0, 0.0, 0.0]\n",
      "[0.1, 0.6299212598425197, 0.04253308128544424, 0.6299212598425197, 0.04253308128544424, 0.6299212598425197, 0.04253308128544424, 0.6299212598425197, 0.04253308128544424, 0.6299212598425197, 0.04253308128544424, 0.6299212598425197, 0.04253308128544424, 0.6299212598425197, 0.04253308128544424, 0.6299212598425197, 0.04253308128544424, 0.6299212598425197]\n"
     ]
    }
   ],
   "source": [
    "x_full = []\n",
    "y_full = []\n",
    "z_full = []\n",
    "t_full = []\n",
    "\n",
    "dt = 0.1;\n",
    "get_horizontal_filling_path(dt, 1.8, -2.0, False, dx, dy, hatch_spacing, 0.0, v_infill, v_outline, x_full, y_full, z_full, t_full)\n",
    "\n",
    "print(x_full)\n",
    "print(y_full)\n",
    "print(z_full)\n",
    "print(t_full)"
   ]
  },
  {
   "cell_type": "code",
   "execution_count": 15,
   "metadata": {},
   "outputs": [
    {
     "data": {
      "image/png": "[encoded data removed]",
      "text/plain": [
       "<Figure size 432x288 with 1 Axes>"
      ]
     },
     "metadata": {
      "needs_background": "light"
     },
     "output_type": "display_data"
    }
   ],
   "source": [
    "# %matplotlib qt\n",
    "%matplotlib inline\n",
    "fig = plt.figure()\n",
    "# ax = fig.add_subplot(111, projection='3d')\n",
    "# ax.plot(x,y,z, '-or')\n",
    "plt.plot(x_full,y_full, ':or')\n",
    "# plt.axis('equal')\n",
    "plt.axis([-2, 2, -2, 2])\n",
    "# plt.xticks([-10, -5, 0, 5, 10])\n",
    "# plt.yticks([-10, -5, 0, 5, 10])\n",
    "plt.gca().set_aspect('equal', adjustable='box')\n",
    "plt.xlabel(\"$x$\", usetex=True, fontsize = 14)\n",
    "plt.ylabel(\"$y$\", usetex=True,fontsize = 14)\n",
    "\n",
    "\n",
    "# fig.savefig('printing_path_2D.pdf', bbox_inches='tight')\n",
    "\n",
    "# show the plot\n",
    "plt.show()"
   ]
  },
  {
   "cell_type": "markdown",
   "metadata": {},
   "source": [
    "### get multi-layer printing path"
   ]
  },
  {
   "cell_type": "code",
   "execution_count": 16,
   "metadata": {},
   "outputs": [
    {
     "name": "stdout",
     "output_type": "stream",
     "text": [
      "4.0\n",
      "4.3\n",
      "4.6\n",
      "4.8999999999999995\n",
      "5.199999999999999\n",
      "5.499999999999999\n",
      "5.799999999999999\n",
      "6.099999999999999\n",
      "6.399999999999999\n",
      "6.699999999999998\n",
      "6.999999999999998\n",
      "7.299999999999998\n",
      "7.599999999999998\n",
      "7.899999999999998\n",
      "8.199999999999998\n",
      "8.499999999999996\n",
      "8.799999999999997\n",
      "9.099999999999998\n",
      "9.399999999999997\n",
      "9.699999999999996\n",
      "9.999999999999996\n",
      "10.299999999999997\n",
      "10.599999999999996\n",
      "10.899999999999995\n",
      "11.199999999999996\n",
      "11.499999999999996\n",
      "11.799999999999995\n",
      "12.099999999999994\n",
      "12.399999999999995\n",
      "12.699999999999996\n",
      "12.999999999999995\n",
      "13.299999999999994\n",
      "13.599999999999994\n",
      "13.899999999999995\n",
      "14.199999999999994\n",
      "14.499999999999993\n",
      "14.799999999999994\n",
      "15.099999999999994\n",
      "15.399999999999993\n",
      "15.699999999999992\n",
      "15.999999999999993\n",
      "16.299999999999994\n",
      "16.599999999999994\n",
      "16.89999999999999\n",
      "17.199999999999992\n",
      "17.499999999999993\n",
      "17.79999999999999\n",
      "18.09999999999999\n",
      "18.39999999999999\n",
      "18.699999999999992\n",
      "18.999999999999993\n",
      "19.29999999999999\n",
      "19.59999999999999\n",
      "19.89999999999999\n",
      "20.19999999999999\n",
      "20.49999999999999\n",
      "20.79999999999999\n",
      "21.09999999999999\n",
      "21.39999999999999\n",
      "21.69999999999999\n",
      "21.99999999999999\n",
      "22.29999999999999\n",
      "22.599999999999987\n",
      "22.899999999999988\n",
      "23.19999999999999\n",
      "23.49999999999999\n",
      "23.79999999999999\n"
     ]
    }
   ],
   "source": [
    "x_full = []\n",
    "y_full = []\n",
    "z_full = []\n",
    "t_full = []\n",
    "\n",
    "dt = 0.02\n",
    "dz = 0.3\n",
    "height_substrate = 4\n",
    "total_height = 24\n",
    "\n",
    "\n",
    "vertical_fill = True\n",
    "for z in np.arange(height_substrate, total_height, dz):\n",
    "    print(z)\n",
    "    if vertical_fill == True:\n",
    "#         get_outline_path_D(dt, dx, dy, z, v_outline,  x_full, y_full, z_full, t_full)\n",
    "        get_vertical_filling_path(dt, -1.8, 2.0, True, dx, dy, hatch_spacing, z, v_infill, v_outline, x_full, y_full, z_full, t_full)\n",
    "        vertical_fill = False\n",
    "    else:\n",
    "#         get_outline_path_B(dt, dx, dy, z, v_outline,  x_full, y_full, z_full, t_full)\n",
    "        get_horizontal_filling_path(dt, 1.8, -2.0, False, dx, dy, hatch_spacing, z, v_infill, v_outline, x_full, y_full, z_full, t_full)\n",
    "        vertical_fill = True\n",
    "\n",
    "\n",
    "# print(x_full)\n",
    "# print(y_full)\n",
    "# print(z_full)\n",
    "# print(t_full)"
   ]
  },
  {
   "cell_type": "code",
   "execution_count": 17,
   "metadata": {},
   "outputs": [
    {
     "data": {
      "image/png": "[encoded data removed]",
      "text/plain": [
       "<Figure size 432x288 with 1 Axes>"
      ]
     },
     "metadata": {
      "needs_background": "light"
     },
     "output_type": "display_data"
    }
   ],
   "source": [
    "# %matplotlib qt\n",
    "%matplotlib inline\n",
    "fig = plt.figure()\n",
    "ax = fig.add_subplot(111, projection='3d')\n",
    "ax.plot(x_full,y_full,z_full, '-or')\n",
    "ax.set_xlim([-3, 3])\n",
    "ax.set_ylim([-3, 3])\n",
    "ax.set_zlim([0, total_height])\n",
    "# ax.set_xticks([-10, -5, 0, 5, 10])\n",
    "# ax.set_yticks([-10, -5, 0, 5, 10])\n",
    "# ax.set_zticks([5, 7, 9, 11, 13, 15, 17, 19, 21, 23])\n",
    "ax.set_xlabel(\"$x$\", usetex=True, fontsize = 14)\n",
    "ax.set_ylabel(\"$y$\", usetex=True,fontsize = 14)\n",
    "ax.set_zlabel(\"$z$\", usetex=True,fontsize = 14)\n",
    "\n",
    "# fig.tight_layout()\n",
    "# fig.savefig('box_printing_path_3layers.pdf', bbox_inches='tight')\n",
    "\n",
    "# show the plot\n",
    "plt.show()"
   ]
  },
  {
   "cell_type": "markdown",
   "metadata": {},
   "source": [
    "### Get accumulated time"
   ]
  },
  {
   "cell_type": "code",
   "execution_count": 18,
   "metadata": {},
   "outputs": [
    {
     "name": "stdout",
     "output_type": "stream",
     "text": [
      "[  0.           0.62992126   0.67245434 ... 403.28779691 403.33032999\n",
      " 403.96025125]\n"
     ]
    }
   ],
   "source": [
    "t_full[0] = 0\n",
    "t_accum = np.cumsum(t_full,axis=0)\n",
    "print(t_accum)"
   ]
  },
  {
   "cell_type": "code",
   "execution_count": 19,
   "metadata": {},
   "outputs": [],
   "source": [
    "xt_data=np.vstack((t_accum, x_full)).T\n",
    "xt_df=pd.DataFrame(xt_data)\n",
    "\n",
    "yt_data=np.vstack((t_accum, y_full)).T\n",
    "yt_df=pd.DataFrame(yt_data)\n",
    "\n",
    "zt_data=np.vstack((t_accum, z_full)).T\n",
    "zt_df=pd.DataFrame(zt_data)"
   ]
  },
  {
   "cell_type": "code",
   "execution_count": 20,
   "metadata": {},
   "outputs": [],
   "source": [
    "# xt_df.to_csv('path_x_box_h20.csv', index=False, header=False)\n",
    "# yt_df.to_csv('path_y_box_h20.csv', index=False, header=False)\n",
    "# zt_df.to_csv('path_z_box_h20.csv', index=False, header=False)"
   ]
  },
  {
   "cell_type": "code",
   "execution_count": 21,
   "metadata": {},
   "outputs": [],
   "source": [
    "xt_df.to_csv('./../AM_Brick/path_x_box_h20_no_outline.csv', index=False, header=False)\n",
    "yt_df.to_csv('./../AM_Brick/path_y_box_h20_no_outline.csv', index=False, header=False)\n",
    "zt_df.to_csv('./../AM_Brick/path_z_box_h20_no_outline.csv', index=False, header=False)"
   ]
  },
  {
   "cell_type": "code",
   "execution_count": null,
   "metadata": {},
   "outputs": [],
   "source": []
  }
 ],
 "metadata": {
  "kernelspec": {
   "display_name": "Python 3",
   "language": "python",
   "name": "python3"
  },
  "language_info": {
   "codemirror_mode": {
    "name": "ipython",
    "version": 3
   },
   "file_extension": ".py",
   "mimetype": "text/x-python",
   "name": "python",
   "nbconvert_exporter": "python",
   "pygments_lexer": "ipython3",
   "version": "3.7.8"
  }
 },
 "nbformat": 4,
 "nbformat_minor": 4
}
