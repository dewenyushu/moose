{
 "cells": [
  {
   "cell_type": "code",
   "execution_count": 30,
   "metadata": {},
   "outputs": [],
   "source": [
    "import numpy as np\n",
    "import matplotlib.pyplot as plt\n",
    "import matplotlib as mpl\n",
    "import csv\n",
    "import pandas as pd\n",
    "\n",
    "from matplotlib import cm\n",
    "\n",
    "# plt.rcParams[\"font.family\"] = \"serif\"\n",
    "\n",
    "plt.rcParams['font.sans-serif'] = \"Times New Roman\"\n",
    "# Then, \"ALWAYS use sans-serif fonts\"\n",
    "plt.rcParams['font.family'] = \"sans-serif\""
   ]
  },
  {
   "cell_type": "code",
   "execution_count": 37,
   "metadata": {},
   "outputs": [],
   "source": [
    "df = pd.read_csv('output.csv')"
   ]
  },
  {
   "cell_type": "code",
   "execution_count": 38,
   "metadata": {},
   "outputs": [
    {
     "data": {
      "text/html": [
       "<div>\n",
       "<style scoped>\n",
       "    .dataframe tbody tr th:only-of-type {\n",
       "        vertical-align: middle;\n",
       "    }\n",
       "\n",
       "    .dataframe tbody tr th {\n",
       "        vertical-align: top;\n",
       "    }\n",
       "\n",
       "    .dataframe thead th {\n",
       "        text-align: right;\n",
       "    }\n",
       "</style>\n",
       "<table border=\"1\" class=\"dataframe\">\n",
       "  <thead>\n",
       "    <tr style=\"text-align: right;\">\n",
       "      <th></th>\n",
       "      <th>time</th>\n",
       "      <th>strain_xx_bot</th>\n",
       "      <th>strain_xx_center</th>\n",
       "      <th>strain_xx_left</th>\n",
       "      <th>strain_xx_right</th>\n",
       "      <th>strain_xx_top</th>\n",
       "      <th>stress_xx_bot</th>\n",
       "      <th>stress_xx_center</th>\n",
       "      <th>stress_xx_left</th>\n",
       "      <th>stress_xx_right</th>\n",
       "      <th>stress_xx_top</th>\n",
       "    </tr>\n",
       "  </thead>\n",
       "  <tbody>\n",
       "    <tr>\n",
       "      <th>0</th>\n",
       "      <td>0.0</td>\n",
       "      <td>0.000000</td>\n",
       "      <td>0.000000</td>\n",
       "      <td>0.000000</td>\n",
       "      <td>0.000000</td>\n",
       "      <td>0.000000</td>\n",
       "      <td>0.000000</td>\n",
       "      <td>0.000000</td>\n",
       "      <td>0.000000</td>\n",
       "      <td>0.000000</td>\n",
       "      <td>0.000000</td>\n",
       "    </tr>\n",
       "    <tr>\n",
       "      <th>1</th>\n",
       "      <td>0.1</td>\n",
       "      <td>0.000873</td>\n",
       "      <td>0.000873</td>\n",
       "      <td>0.000873</td>\n",
       "      <td>0.000873</td>\n",
       "      <td>0.000873</td>\n",
       "      <td>174.537325</td>\n",
       "      <td>174.537325</td>\n",
       "      <td>174.537325</td>\n",
       "      <td>174.537325</td>\n",
       "      <td>174.537325</td>\n",
       "    </tr>\n",
       "    <tr>\n",
       "      <th>2</th>\n",
       "      <td>0.2</td>\n",
       "      <td>0.001746</td>\n",
       "      <td>0.001746</td>\n",
       "      <td>0.001746</td>\n",
       "      <td>0.001746</td>\n",
       "      <td>0.001746</td>\n",
       "      <td>348.923804</td>\n",
       "      <td>348.923804</td>\n",
       "      <td>348.923804</td>\n",
       "      <td>348.923804</td>\n",
       "      <td>348.923804</td>\n",
       "    </tr>\n",
       "    <tr>\n",
       "      <th>3</th>\n",
       "      <td>0.3</td>\n",
       "      <td>0.002621</td>\n",
       "      <td>0.002621</td>\n",
       "      <td>0.002621</td>\n",
       "      <td>0.002621</td>\n",
       "      <td>0.002621</td>\n",
       "      <td>522.669311</td>\n",
       "      <td>522.669311</td>\n",
       "      <td>522.669311</td>\n",
       "      <td>522.669311</td>\n",
       "      <td>522.669311</td>\n",
       "    </tr>\n",
       "    <tr>\n",
       "      <th>4</th>\n",
       "      <td>0.4</td>\n",
       "      <td>0.003502</td>\n",
       "      <td>0.003502</td>\n",
       "      <td>0.003502</td>\n",
       "      <td>0.003502</td>\n",
       "      <td>0.003502</td>\n",
       "      <td>694.670129</td>\n",
       "      <td>694.670129</td>\n",
       "      <td>694.670129</td>\n",
       "      <td>694.670129</td>\n",
       "      <td>694.670129</td>\n",
       "    </tr>\n",
       "  </tbody>\n",
       "</table>\n",
       "</div>"
      ],
      "text/plain": [
       "   time  strain_xx_bot  strain_xx_center  strain_xx_left  strain_xx_right  \\\n",
       "0   0.0       0.000000          0.000000        0.000000         0.000000   \n",
       "1   0.1       0.000873          0.000873        0.000873         0.000873   \n",
       "2   0.2       0.001746          0.001746        0.001746         0.001746   \n",
       "3   0.3       0.002621          0.002621        0.002621         0.002621   \n",
       "4   0.4       0.003502          0.003502        0.003502         0.003502   \n",
       "\n",
       "   strain_xx_top  stress_xx_bot  stress_xx_center  stress_xx_left  \\\n",
       "0       0.000000       0.000000          0.000000        0.000000   \n",
       "1       0.000873     174.537325        174.537325      174.537325   \n",
       "2       0.001746     348.923804        348.923804      348.923804   \n",
       "3       0.002621     522.669311        522.669311      522.669311   \n",
       "4       0.003502     694.670129        694.670129      694.670129   \n",
       "\n",
       "   stress_xx_right  stress_xx_top  \n",
       "0         0.000000       0.000000  \n",
       "1       174.537325     174.537325  \n",
       "2       348.923804     348.923804  \n",
       "3       522.669311     522.669311  \n",
       "4       694.670129     694.670129  "
      ]
     },
     "execution_count": 38,
     "metadata": {},
     "output_type": "execute_result"
    }
   ],
   "source": [
    "df.head()"
   ]
  },
  {
   "cell_type": "code",
   "execution_count": 39,
   "metadata": {},
   "outputs": [
    {
     "data": {
      "image/png": "[encoded data removed]",
      "text/plain": [
       "<Figure size 518.4x320.4 with 1 Axes>"
      ]
     },
     "metadata": {
      "needs_background": "light"
     },
     "output_type": "display_data"
    }
   ],
   "source": [
    "fig, ax = plt.subplots(figsize=(7.2,4.45))\n",
    "ax.plot(df['strain_xx_top'], df['stress_xx_top'], '--',color='C0', linewidth=2.5, label='$P_1$')\n",
    "ax.plot(df['strain_xx_center'], df['stress_xx_center'],'--', color='C1', linewidth=2.5, label='$P_2$')\n",
    "ax.plot(df['strain_xx_bot'], df['stress_xx_bot'], '--',color='C2', linewidth=2.5, label='$P_3$')\n",
    "ax.plot(df['strain_xx_left'], df['stress_xx_left'], '--',color='C3', linewidth=2.5, label='$P_4$')\n",
    "ax.plot(df['strain_xx_right'], df['stress_xx_right'], '--',color='C4', linewidth=2.5, label='$P_5$')\n",
    "\n",
    "ax.set_xlabel('Strain', fontsize = '22')\n",
    "ax.set_xlim([0, 0.1])\n",
    "# ax.set_xticks(range(-2, 3))\n",
    "\n",
    "ax.set_ylabel('Stress [MPa]', fontsize = '22')\n",
    "ax.set_ylim([0, 2500])\n",
    "# ax.set_yticks(range(0,500,3000))\n",
    "\n",
    "ax.tick_params(labelsize ='20')\n",
    "ax.legend(fontsize = '20', frameon=False, loc='best')\n",
    "\n",
    "# fig.savefig('stress_strain_side_loading.pdf', bbox_inches='tight' )"
   ]
  },
  {
   "cell_type": "code",
   "execution_count": null,
   "metadata": {},
   "outputs": [],
   "source": []
  }
 ],
 "metadata": {
  "kernelspec": {
   "display_name": "Python 3",
   "language": "python",
   "name": "python3"
  },
  "language_info": {
   "codemirror_mode": {
    "name": "ipython",
    "version": 3
   },
   "file_extension": ".py",
   "mimetype": "text/x-python",
   "name": "python",
   "nbconvert_exporter": "python",
   "pygments_lexer": "ipython3",
   "version": "3.7.8"
  }
 },
 "nbformat": 4,
 "nbformat_minor": 4
}
