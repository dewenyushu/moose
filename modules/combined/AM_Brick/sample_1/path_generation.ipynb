{
 "cells": [
  {
   "cell_type": "code",
   "execution_count": 1,
   "metadata": {},
   "outputs": [],
   "source": [
    "import numpy as np\n",
    "import pandas as pd\n",
    "import matplotlib.pyplot as plt\n",
    "from mpl_toolkits.mplot3d import Axes3D\n",
    "import csv"
   ]
  },
  {
   "cell_type": "code",
   "execution_count": 2,
   "metadata": {},
   "outputs": [],
   "source": [
    "from matplotlib import rcParams\n",
    "rcParams['font.family'] = 'Serif'"
   ]
  },
  {
   "cell_type": "markdown",
   "metadata": {},
   "source": [
    "## Product parameter"
   ]
  },
  {
   "cell_type": "code",
   "execution_count": 3,
   "metadata": {},
   "outputs": [],
   "source": [
    "dx = [-2, 2] #mm\n",
    "\n",
    "dy = [-2, 2] #mm\n",
    "\n",
    "dz = [4, 24] # mm"
   ]
  },
  {
   "cell_type": "markdown",
   "metadata": {},
   "source": [
    "## Printing parameter"
   ]
  },
  {
   "cell_type": "code",
   "execution_count": 4,
   "metadata": {},
   "outputs": [],
   "source": [
    "h = 0.3 # layer thickness, mm\n",
    "\n",
    "d = 0.45 # hatch spacing, mm\n",
    "\n",
    "v_infill = 6.35 # infill scanning speed, mm/s\n",
    "\n",
    "v_outline = 10.58"
   ]
  },
  {
   "cell_type": "markdown",
   "metadata": {},
   "source": [
    "## Produce parallel scanning path\n",
    "\n",
    "### 1. outline"
   ]
  },
  {
   "cell_type": "code",
   "execution_count": 5,
   "metadata": {},
   "outputs": [],
   "source": [
    "def get_outline_path_A(dt, dx, dy, height, v_outline, x_full, y_full, z_full, t_full):\n",
    "    Lx = dx[1] - dx[0]\n",
    "    Ly = dy[1] - dy[0]\n",
    "    # assume A -> B-> C-> D as\n",
    "    # C --- B\n",
    "    # |     |\n",
    "    # D --- A\n",
    "    x_full.extend([dx[1], dx[1], dx[0], dx[0], dx[1]])\n",
    "    y_full.extend([dy[0], dy[1], dy[1], dy[0], dy[0]])\n",
    "    z_full.extend([height, height, height, height, height])\n",
    "    \n",
    "    t_full.append(dt)\n",
    "    t_full.append(Ly/v_outline)\n",
    "    t_full.append(Lx/v_outline)\n",
    "    t_full.append(Ly/v_outline)\n",
    "    t_full.append(Lx/v_outline)"
   ]
  },
  {
   "cell_type": "code",
   "execution_count": 6,
   "metadata": {},
   "outputs": [],
   "source": [
    "def get_outline_path_B(dt, dx, dy, height, v_outline, x_full, y_full, z_full, t_full):\n",
    "    Lx = dx[1] - dx[0]\n",
    "    Ly = dy[1] - dy[0]\n",
    "    # assume A -> B-> C-> D as\n",
    "    # C --- B\n",
    "    # |     |\n",
    "    # D --- A\n",
    "    x_full.extend([dx[1], dx[0], dx[0], dx[1], dx[1]])\n",
    "    y_full.extend([dy[1], dy[1], dy[0], dy[0], dy[1]])\n",
    "    z_full.extend([height, height, height, height, height])\n",
    "    \n",
    "    t_full.append(dt)\n",
    "    t_full.append(Lx/v_outline)\n",
    "    t_full.append(Ly/v_outline)\n",
    "    t_full.append(Lx/v_outline)\n",
    "    t_full.append(Ly/v_outline)"
   ]
  },
  {
   "cell_type": "code",
   "execution_count": 7,
   "metadata": {},
   "outputs": [],
   "source": [
    "def get_outline_path_C(dt, dx, dy, height, v_outline, x_full, y_full, z_full, t_full):\n",
    "    Lx = dx[1] - dx[0]\n",
    "    Ly = dy[1] - dy[0]\n",
    "    # assume A -> B-> C-> D as\n",
    "    # C --- B\n",
    "    # |     |\n",
    "    # D --- A\n",
    "    x_full.extend([ dx[0], dx[0], dx[1], dx[1], dx[0]])\n",
    "    y_full.extend([ dy[1], dy[0], dy[0], dy[1], dy[1]])\n",
    "    z_full.extend([height, height, height, height, height])\n",
    "    \n",
    "    t_full.append(dt)\n",
    "    t_full.append(Ly/v_outline)\n",
    "    t_full.append(Lx/v_outline)\n",
    "    t_full.append(Ly/v_outline)\n",
    "    t_full.append(Lx/v_outline)"
   ]
  },
  {
   "cell_type": "code",
   "execution_count": 8,
   "metadata": {},
   "outputs": [],
   "source": [
    "def get_outline_path_D(dt, dx, dy, height, v_outline, x_full, y_full, z_full, t_full):\n",
    "    Lx = dx[1] - dx[0]\n",
    "    Ly = dy[1] - dy[0]\n",
    "    # assume A -> B-> C-> D as\n",
    "    # C --- B\n",
    "    # |     |\n",
    "    # D --- A\n",
    "    x_full.extend([  dx[0], dx[1], dx[1], dx[0], dx[0]])\n",
    "    y_full.extend([  dy[0], dy[0], dy[1], dy[1], dy[0]])\n",
    "    z_full.extend([height, height, height, height, height])\n",
    "    \n",
    "    t_full.append(dt)\n",
    "    t_full.append(Lx/v_outline)\n",
    "    t_full.append(Ly/v_outline)\n",
    "    t_full.append(Lx/v_outline)\n",
    "    t_full.append(Ly/v_outline)"
   ]
  },
  {
   "cell_type": "markdown",
   "metadata": {},
   "source": [
    "### 2. filling path"
   ]
  },
  {
   "cell_type": "code",
   "execution_count": 9,
   "metadata": {},
   "outputs": [],
   "source": [
    "def get_horizontal_filling_path(dt, y_start, y_end, move_right,  dx, dy, hatch_spacing, height, v_infill, v_outline, x_full, y_full, z_full, t_full):\n",
    "    Lx = dx[1] - dx[0]\n",
    "    Ly = dy[1] - dy[0]\n",
    "    t_vert = hatch_spacing/v_outline\n",
    "    t_hor = Lx/v_infill\n",
    "    t_full.append(dt)\n",
    "    if move_right == False:\n",
    "        hatch_spacing = - hatch_spacing\n",
    "    for y in np.arange(y_start, y_end, hatch_spacing):\n",
    "        y_full.extend([y,y])\n",
    "        if move_right == True:\n",
    "            x_full.extend(dx)\n",
    "            move_right=False\n",
    "        else:\n",
    "            x_full.extend([dx[1], dx[0]])\n",
    "            move_right=True\n",
    "        z_full.extend([height, height])\n",
    "        t_full.extend([t_hor, t_vert])\n",
    "    del t_full[-1]"
   ]
  },
  {
   "cell_type": "code",
   "execution_count": 10,
   "metadata": {},
   "outputs": [],
   "source": [
    "def get_vertical_filling_path(dt, x_start, x_end, move_up, dx, dy, hatch_spacing, height, v_infill, v_outline, x_full, y_full, z_full, t_full):\n",
    "    Lx = dx[1] - dx[0]\n",
    "    Ly = dy[1] - dy[0]\n",
    "    t_hor = hatch_spacing/v_outline\n",
    "    t_vert = Ly/v_infill\n",
    "    t_full.append(dt)\n",
    "    if move_up == False:\n",
    "        hatch_spacing = -hatch_spacing\n",
    "    for x in np.arange(x_start, x_end, hatch_spacing):\n",
    "        x_full.extend([x,x])\n",
    "        if move_up == True:\n",
    "            y_full.extend(dy)\n",
    "            move_up=False\n",
    "        else:\n",
    "            y_full.extend([dy[1], dy[0]])\n",
    "            move_up=True\n",
    "        z_full.extend([height, height])\n",
    "        t_full.extend([t_vert, t_hor])\n",
    "    del t_full[-1]"
   ]
  },
  {
   "cell_type": "code",
   "execution_count": 11,
   "metadata": {},
   "outputs": [],
   "source": [
    "x_full = []\n",
    "y_full = []\n",
    "z_full = []\n",
    "t_full = []\n",
    "\n",
    "x_start = -1.8\n",
    "x_end = 2.0\n",
    "y_start = -1.8\n",
    "y_end = 2.0\n",
    "hatch_spacing = 0.45\n",
    "\n",
    "height = 0.0\n",
    "\n",
    "total_height = 24\n",
    "\n",
    "dt = 0.01;\n",
    "\n",
    "# get_outline_path_D(dx, dy, 0.0, v_outline,  x_full, y_full, z_full, t_full)\n",
    "\n",
    "\n",
    "\n",
    "# get_outline_path_B(dx, dy, 0.3, v_outline, dt,  x_full, y_full, z_full, t_full)\n",
    "\n",
    "# print(x_full)\n",
    "# print(y_full)\n",
    "# print(z_full)\n",
    "# print(t_full)"
   ]
  },
  {
   "cell_type": "markdown",
   "metadata": {},
   "source": [
    "### get one-layer printing path"
   ]
  },
  {
   "cell_type": "code",
   "execution_count": 12,
   "metadata": {},
   "outputs": [
    {
     "name": "stdout",
     "output_type": "stream",
     "text": [
      "[-1.8, -1.8, -1.35, -1.35, -0.9000000000000001, -0.9000000000000001, -0.4500000000000002, -0.4500000000000002, -2.220446049250313e-16, -2.220446049250313e-16, 0.44999999999999996, 0.44999999999999996, 0.8999999999999997, 0.8999999999999997, 1.3499999999999994, 1.3499999999999994, 1.7999999999999996, 1.7999999999999996]\n",
      "[-2, 2, 2, -2, -2, 2, 2, -2, -2, 2, 2, -2, -2, 2, 2, -2, -2, 2]\n",
      "[0.0, 0.0, 0.0, 0.0, 0.0, 0.0, 0.0, 0.0, 0.0, 0.0, 0.0, 0.0, 0.0, 0.0, 0.0, 0.0, 0.0, 0.0]\n",
      "[0.01, 0.6299212598425197, 0.04253308128544424, 0.6299212598425197, 0.04253308128544424, 0.6299212598425197, 0.04253308128544424, 0.6299212598425197, 0.04253308128544424, 0.6299212598425197, 0.04253308128544424, 0.6299212598425197, 0.04253308128544424, 0.6299212598425197, 0.04253308128544424, 0.6299212598425197, 0.04253308128544424, 0.6299212598425197]\n"
     ]
    }
   ],
   "source": [
    "x_full = []\n",
    "y_full = []\n",
    "z_full = []\n",
    "t_full = []\n",
    "\n",
    "# get_outline_path_D(dt, dx, dy, height, v_outline,  x_full, y_full, z_full, t_full)\n",
    "get_vertical_filling_path(dt, x_start, x_end, True, dx, dy, hatch_spacing, height, v_infill, v_outline, x_full, y_full, z_full, t_full)\n",
    "# dt = 0.1;\n",
    "# get_outline_path_B(dt, dx, dy, height+0.3, v_outline,  x_full, y_full, z_full, t_full)\n",
    "# get_horizontal_filling_path(2.0, -1.8, False, dx, dy, hatch_spacing, height+0.3, v_infill, x_full, y_full, z_full, t_full)\n",
    "\n",
    "print(x_full)\n",
    "print(y_full)\n",
    "print(z_full)\n",
    "print(t_full)"
   ]
  },
  {
   "cell_type": "code",
   "execution_count": 13,
   "metadata": {},
   "outputs": [
    {
     "data": {
      "image/png": "[encoded data removed]",
      "text/plain": [
       "<Figure size 432x288 with 1 Axes>"
      ]
     },
     "metadata": {
      "needs_background": "light"
     },
     "output_type": "display_data"
    }
   ],
   "source": [
    "# %matplotlib qt\n",
    "%matplotlib inline\n",
    "fig = plt.figure()\n",
    "# ax = fig.add_subplot(111, projection='3d')\n",
    "# ax.plot(x,y,z, '-or')\n",
    "plt.plot(x_full,y_full, ':or')\n",
    "# plt.axis('equal')\n",
    "plt.axis([-2, 2, -2, 2])\n",
    "# plt.xticks([-10, -5, 0, 5, 10])\n",
    "# plt.yticks([-10, -5, 0, 5, 10])\n",
    "plt.gca().set_aspect('equal', adjustable='box')\n",
    "plt.xlabel(\"$x$\", usetex=True, fontsize = 14)\n",
    "plt.ylabel(\"$y$\", usetex=True,fontsize = 14)\n",
    "\n",
    "\n",
    "# fig.savefig('printing_path_2D.pdf', bbox_inches='tight')\n",
    "\n",
    "# show the plot\n",
    "plt.show()"
   ]
  },
  {
   "cell_type": "code",
   "execution_count": 14,
   "metadata": {},
   "outputs": [
    {
     "name": "stdout",
     "output_type": "stream",
     "text": [
      "[2, -2, -2, 2, 2, -2, -2, 2, 2, -2, -2, 2, 2, -2, -2, 2, 2, -2]\n",
      "[1.8, 1.8, 1.35, 1.35, 0.9000000000000001, 0.9000000000000001, 0.4500000000000002, 0.4500000000000002, 2.220446049250313e-16, 2.220446049250313e-16, -0.44999999999999996, -0.44999999999999996, -0.8999999999999997, -0.8999999999999997, -1.3499999999999994, -1.3499999999999994, -1.7999999999999996, -1.7999999999999996]\n",
      "[0.0, 0.0, 0.0, 0.0, 0.0, 0.0, 0.0, 0.0, 0.0, 0.0, 0.0, 0.0, 0.0, 0.0, 0.0, 0.0, 0.0, 0.0]\n",
      "[0.1, 0.6299212598425197, 0.04253308128544424, 0.6299212598425197, 0.04253308128544424, 0.6299212598425197, 0.04253308128544424, 0.6299212598425197, 0.04253308128544424, 0.6299212598425197, 0.04253308128544424, 0.6299212598425197, 0.04253308128544424, 0.6299212598425197, 0.04253308128544424, 0.6299212598425197, 0.04253308128544424, 0.6299212598425197]\n"
     ]
    }
   ],
   "source": [
    "x_full = []\n",
    "y_full = []\n",
    "z_full = []\n",
    "t_full = []\n",
    "\n",
    "get_horizontal_filling_path(dt, -y_start, -y_end, False, dx, dy, hatch_spacing, 0.0, v_infill, v_outline, x_full, y_full, z_full, t_full)\n",
    "\n",
    "print(x_full)\n",
    "print(y_full)\n",
    "print(z_full)\n",
    "print(t_full)"
   ]
  },
  {
   "cell_type": "code",
   "execution_count": 15,
   "metadata": {},
   "outputs": [
    {
     "data": {
      "image/png": "[encoded data removed]",
      "text/plain": [
       "<Figure size 432x288 with 1 Axes>"
      ]
     },
     "metadata": {
      "needs_background": "light"
     },
     "output_type": "display_data"
    }
   ],
   "source": [
    "# %matplotlib qt\n",
    "%matplotlib inline\n",
    "fig = plt.figure()\n",
    "# ax = fig.add_subplot(111, projection='3d')\n",
    "# ax.plot(x,y,z, '-or')\n",
    "plt.plot(x_full,y_full, ':or')\n",
    "# plt.axis('equal')\n",
    "plt.axis([-2, 2, -2, 2])\n",
    "# plt.xticks([-10, -5, 0, 5, 10])\n",
    "# plt.yticks([-10, -5, 0, 5, 10])\n",
    "plt.gca().set_aspect('equal', adjustable='box')\n",
    "plt.xlabel(\"$x$\", usetex=True, fontsize = 14)\n",
    "plt.ylabel(\"$y$\", usetex=True,fontsize = 14)\n",
    "\n",
    "\n",
    "# fig.savefig('printing_path_2D.pdf', bbox_inches='tight')\n",
    "\n",
    "# show the plot\n",
    "plt.show()"
   ]
  },
  {
   "cell_type": "markdown",
   "metadata": {},
   "source": [
    "### get multi-layer printing path"
   ]
  },
  {
   "cell_type": "code",
   "execution_count": 16,
   "metadata": {},
   "outputs": [
    {
     "name": "stdout",
     "output_type": "stream",
     "text": [
      "4.0\n",
      "4.3\n",
      "4.6\n",
      "4.8999999999999995\n",
      "5.199999999999999\n",
      "5.499999999999999\n",
      "5.799999999999999\n",
      "6.099999999999999\n",
      "6.399999999999999\n",
      "6.699999999999998\n",
      "6.999999999999998\n",
      "7.299999999999998\n",
      "7.599999999999998\n",
      "7.899999999999998\n",
      "8.199999999999998\n",
      "8.499999999999996\n",
      "8.799999999999997\n",
      "9.099999999999998\n",
      "9.399999999999997\n",
      "9.699999999999996\n",
      "9.999999999999996\n",
      "10.299999999999997\n",
      "10.599999999999996\n",
      "10.899999999999995\n",
      "11.199999999999996\n",
      "11.499999999999996\n",
      "11.799999999999995\n"
     ]
    }
   ],
   "source": [
    "x_full = []\n",
    "y_full = []\n",
    "z_full = []\n",
    "t_full = []\n",
    "\n",
    "dz = 0.3\n",
    "height_substrate = 4\n",
    "\n",
    "\n",
    "vertical_fill = True\n",
    "for z in np.arange(height_substrate, total_height, dz):\n",
    "    print(z)\n",
    "    if vertical_fill == True:\n",
    "#         get_outline_path_D(dt, dx, dy, z, v_outline,  x_full, y_full, z_full, t_full)\n",
    "        get_vertical_filling_path(dt, x_start, x_end, True, dx, dy, hatch_spacing, z, v_infill, v_outline, x_full, y_full, z_full, t_full)\n",
    "        vertical_fill = False\n",
    "    else:\n",
    "#         get_outline_path_B(dt, dx, dy, z, v_outline,  x_full, y_full, z_full, t_full)\n",
    "        get_horizontal_filling_path(dt, -y_start, -y_end, False, dx, dy, hatch_spacing, z, v_infill, v_outline, x_full, y_full, z_full, t_full)\n",
    "        vertical_fill = True\n",
    "\n",
    "\n",
    "# print(x_full)\n",
    "# print(y_full)\n",
    "# print(z_full)\n",
    "# print(t_full)"
   ]
  },
  {
   "cell_type": "code",
   "execution_count": 17,
   "metadata": {},
   "outputs": [
    {
     "data": {
      "image/png": "[encoded data removed]",
      "text/plain": [
       "<Figure size 432x288 with 1 Axes>"
      ]
     },
     "metadata": {
      "needs_background": "light"
     },
     "output_type": "display_data"
    }
   ],
   "source": [
    "# %matplotlib qt\n",
    "%matplotlib inline\n",
    "fig = plt.figure()\n",
    "ax = fig.add_subplot(111, projection='3d')\n",
    "ax.plot(x_full,y_full,z_full, '-or')\n",
    "ax.set_xlim([-3, 3])\n",
    "ax.set_ylim([-3, 3])\n",
    "ax.set_zlim([0, total_height])\n",
    "# ax.set_xticks([-10, -5, 0, 5, 10])\n",
    "# ax.set_yticks([-10, -5, 0, 5, 10])\n",
    "# ax.set_zticks([5, 7, 9, 11, 13, 15, 17, 19, 21, 23])\n",
    "ax.set_xlabel(\"$x$\", usetex=True, fontsize = 14)\n",
    "ax.set_ylabel(\"$y$\", usetex=True,fontsize = 14)\n",
    "ax.set_zlabel(\"$z$\", usetex=True,fontsize = 14)\n",
    "\n",
    "# fig.tight_layout()\n",
    "# fig.savefig('box_printing_path_3layers.pdf', bbox_inches='tight')\n",
    "\n",
    "# show the plot\n",
    "plt.show()"
   ]
  },
  {
   "cell_type": "markdown",
   "metadata": {},
   "source": [
    "### Get accumulated time"
   ]
  },
  {
   "cell_type": "code",
   "execution_count": 18,
   "metadata": {},
   "outputs": [
    {
     "name": "stdout",
     "output_type": "stream",
     "text": [
      "[  0.           0.62992126   0.67245434   1.3023756    1.34490868\n",
      "   1.97482994   2.01736302   2.64728428   2.68981736   3.31973862\n",
      "   3.36227171   3.99219297   4.03472605   4.66464731   4.70718039\n",
      "   5.33710165   5.37963473   6.00955599   6.02955599   6.65947725\n",
      "   6.70201033   7.33193159   7.37446467   8.00438593   8.04691901\n",
      "   8.67684027   8.71937335   9.34929461   9.39182769  10.02174895\n",
      "  10.06428204  10.6942033   10.73673638  11.36665764  11.40919072\n",
      "  12.03911198  12.05911198  12.68903324  12.73156632  13.36148758\n",
      "  13.40402066  14.03394192  14.076475    14.70639626  14.74892934\n",
      "  15.3788506   15.42138368  16.05130494  16.09383802  16.72375928\n",
      "  16.76629237  17.39621363  17.43874671  18.06866797  18.08866797\n",
      "  18.71858923  18.76112231  19.39104357  19.43357665  20.06349791\n",
      "  20.10603099  20.73595225  20.77848533  21.40840659  21.45093967\n",
      "  22.08086093  22.12339401  22.75331527  22.79584835  23.42576961\n",
      "  23.4683027   24.09822396  24.11822396  24.74814522  24.7906783\n",
      "  25.42059956  25.46313264  26.0930539   26.13558698  26.76550824\n",
      "  26.80804132  27.43796258  27.48049566  28.11041692  28.15295\n",
      "  28.78287126  28.82540434  29.4553256   29.49785868  30.12777994\n",
      "  30.14777994  30.7777012   30.82023429  31.45015555  31.49268863\n",
      "  32.12260989  32.16514297  32.79506423  32.83759731  33.46751857\n",
      "  33.51005165  34.13997291  34.18250599  34.81242725  34.85496033\n",
      "  35.48488159  35.52741467  36.15733593  36.17733593  36.80725719\n",
      "  36.84979027  37.47971153  37.52224462  38.15216588  38.19469896\n",
      "  38.82462022  38.8671533   39.49707456  39.53960764  40.1695289\n",
      "  40.21206198  40.84198324  40.88451632  41.51443758  41.55697066\n",
      "  42.18689192  42.20689192  42.83681318  42.87934626  43.50926752\n",
      "  43.5518006   44.18172186  44.22425495  44.85417621  44.89670929\n",
      "  45.52663055  45.56916363  46.19908489  46.24161797  46.87153923\n",
      "  46.91407231  47.54399357  47.58652665  48.21644791  48.23644791\n",
      "  48.86636917  48.90890225  49.53882351  49.58135659  50.21127785\n",
      "  50.25381093  50.88373219  50.92626528  51.55618654  51.59871962\n",
      "  52.22864088  52.27117396  52.90109522  52.9436283   53.57354956\n",
      "  53.61608264  54.2460039   54.2660039   54.89592516  54.93845824\n",
      "  55.5683795   55.61091258  56.24083384  56.28336692  56.91328818\n",
      "  56.95582126  57.58574252  57.62827561  58.25819687  58.30072995\n",
      "  58.93065121  58.97318429  59.60310555  59.64563863  60.27555989\n",
      "  60.29555989  60.92548115  60.96801423  61.59793549  61.64046857\n",
      "  62.27038983  62.31292291  62.94284417  62.98537725  63.61529851\n",
      "  63.65783159  64.28775285  64.33028594  64.9602072   65.00274028\n",
      "  65.63266154  65.67519462  66.30511588  66.32511588  66.95503714\n",
      "  66.99757022  67.62749148  67.67002456  68.29994582  68.3424789\n",
      "  68.97240016  69.01493324  69.6448545   69.68738758  70.31730884\n",
      "  70.35984192  70.98976318  71.03229627  71.66221753  71.70475061\n",
      "  72.33467187  72.35467187  72.98459313  73.02712621  73.65704747\n",
      "  73.69958055  74.32950181  74.37203489  75.00195615  75.04448923\n",
      "  75.67441049  75.71694357  76.34686483  76.38939791  77.01931917\n",
      "  77.06185225  77.69177351  77.7343066   78.36422786  78.38422786\n",
      "  79.01414912  79.0566822   79.68660346  79.72913654  80.3590578\n",
      "  80.40159088  81.03151214  81.07404522  81.70396648  81.74649956\n",
      "  82.37642082  82.4189539   83.04887516  83.09140824  83.7213295\n",
      "  83.76386258  84.39378384  84.41378384  85.0437051   85.08623819\n",
      "  85.71615945  85.75869253  86.38861379  86.43114687  87.06106813\n",
      "  87.10360121  87.73352247  87.77605555  88.40597681  88.44850989\n",
      "  89.07843115  89.12096423  89.75088549  89.79341857  90.42333983\n",
      "  90.44333983  91.07326109  91.11579417  91.74571543  91.78824852\n",
      "  92.41816978  92.46070286  93.09062412  93.1331572   93.76307846\n",
      "  93.80561154  94.4355328   94.47806588  95.10798714  95.15052022\n",
      "  95.78044148  95.82297456  96.45289582  96.47289582  97.10281708\n",
      "  97.14535016  97.77527142  97.8178045   98.44772576  98.49025885\n",
      "  99.12018011  99.16271319  99.79263445  99.83516753 100.46508879\n",
      " 100.50762187 101.13754313 101.18007621 101.80999747 101.85253055\n",
      " 102.48245181 102.50245181 103.13237307 103.17490615 103.80482741\n",
      " 103.84736049 104.47728175 104.51981483 105.14973609 105.19226918\n",
      " 105.82219044 105.86472352 106.49464478 106.53717786 107.16709912\n",
      " 107.2096322  107.83955346 107.88208654 108.5120078  108.5320078\n",
      " 109.16192906 109.20446214 109.8343834  109.87691648 110.50683774\n",
      " 110.54937082 111.17929208 111.22182516 111.85174642 111.89427951\n",
      " 112.52420077 112.56673385 113.19665511 113.23918819 113.86910945\n",
      " 113.91164253 114.54156379 114.56156379 115.19148505 115.23401813\n",
      " 115.86393939 115.90647247 116.53639373 116.57892681 117.20884807\n",
      " 117.25138115 117.88130241 117.92383549 118.55375675 118.59628984\n",
      " 119.2262111  119.26874418 119.89866544 119.94119852 120.57111978\n",
      " 120.59111978 121.22104104 121.26357412 121.89349538 121.93602846\n",
      " 122.56594972 122.6084828  123.23840406 123.28093714 123.9108584\n",
      " 123.95339148 124.58331274 124.62584582 125.25576708 125.29830017\n",
      " 125.92822143 125.97075451 126.60067577 126.62067577 127.25059703\n",
      " 127.29313011 127.92305137 127.96558445 128.59550571 128.63803879\n",
      " 129.26796005 129.31049313 129.94041439 129.98294747 130.61286873\n",
      " 130.65540181 131.28532307 131.32785615 131.95777741 132.0003105\n",
      " 132.63023176 132.65023176 133.28015301 133.3226861  133.95260736\n",
      " 133.99514044 134.6250617  134.66759478 135.29751604 135.34004912\n",
      " 135.96997038 136.01250346 136.64242472 136.6849578  137.31487906\n",
      " 137.35741214 137.9873334  138.02986648 138.65978774 138.67978774\n",
      " 139.309709   139.35224209 139.98216334 140.02469643 140.65461769\n",
      " 140.69715077 141.32707203 141.36960511 141.99952637 142.04205945\n",
      " 142.67198071 142.71451379 143.34443505 143.38696813 144.01688939\n",
      " 144.05942247 144.68934373 144.70934373 145.33926499 145.38179807\n",
      " 146.01171933 146.05425242 146.68417367 146.72670676 147.35662802\n",
      " 147.3991611  148.02908236 148.07161544 148.7015367  148.74406978\n",
      " 149.37399104 149.41652412 150.04644538 150.08897846 150.71889972\n",
      " 150.73889972 151.36882098 151.41135406 152.04127532 152.0838084\n",
      " 152.71372966 152.75626275 153.386184   153.42871709 154.05863835\n",
      " 154.10117143 154.73109269 154.77362577 155.40354703 155.44608011\n",
      " 156.07600137 156.11853445 156.74845571 156.76845571 157.39837697\n",
      " 157.44091005 158.07083131 158.11336439 158.74328565 158.78581873\n",
      " 159.41573999 159.45827308 160.08819433 160.13072742 160.76064868\n",
      " 160.80318176 161.43310302 161.4756361  162.10555736 162.14809044\n",
      " 162.7780117 ]\n"
     ]
    }
   ],
   "source": [
    "t_full[0] = 0\n",
    "t_accum = np.cumsum(t_full,axis=0)\n",
    "print(t_accum)"
   ]
  },
  {
   "cell_type": "code",
   "execution_count": 19,
   "metadata": {},
   "outputs": [],
   "source": [
    "xt_data=np.vstack((t_accum, x_full)).T\n",
    "xt_df=pd.DataFrame(xt_data)\n",
    "\n",
    "yt_data=np.vstack((t_accum, y_full)).T\n",
    "yt_df=pd.DataFrame(yt_data)\n",
    "\n",
    "zt_data=np.vstack((t_accum, z_full)).T\n",
    "zt_df=pd.DataFrame(zt_data)"
   ]
  },
  {
   "cell_type": "code",
   "execution_count": 20,
   "metadata": {},
   "outputs": [],
   "source": [
    "xt_df.to_csv('path_x.csv', index=False, header=False)\n",
    "yt_df.to_csv('path_y.csv', index=False, header=False)\n",
    "zt_df.to_csv('path_z.csv', index=False, header=False)"
   ]
  }
 ],
 "metadata": {
  "kernelspec": {
   "display_name": "Python 3",
   "language": "python",
   "name": "python3"
  },
  "language_info": {
   "codemirror_mode": {
    "name": "ipython",
    "version": 3
   },
   "file_extension": ".py",
   "mimetype": "text/x-python",
   "name": "python",
   "nbconvert_exporter": "python",
   "pygments_lexer": "ipython3",
   "version": "3.7.8"
  }
 },
 "nbformat": 4,
 "nbformat_minor": 4
}
