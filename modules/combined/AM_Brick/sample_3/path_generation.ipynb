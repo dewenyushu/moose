{
 "cells": [
  {
   "cell_type": "code",
   "execution_count": 1,
   "metadata": {},
   "outputs": [],
   "source": [
    "import numpy as np\n",
    "import pandas as pd\n",
    "import matplotlib.pyplot as plt\n",
    "from mpl_toolkits.mplot3d import Axes3D\n",
    "import csv"
   ]
  },
  {
   "cell_type": "code",
   "execution_count": 2,
   "metadata": {},
   "outputs": [],
   "source": [
    "from matplotlib import rcParams\n",
    "rcParams['font.family'] = 'Serif'"
   ]
  },
  {
   "cell_type": "markdown",
   "metadata": {},
   "source": [
    "## Product parameter"
   ]
  },
  {
   "cell_type": "code",
   "execution_count": 3,
   "metadata": {},
   "outputs": [],
   "source": [
    "dx = [-2, 2] #mm\n",
    "\n",
    "dy = [-2, 2] #mm\n",
    "\n",
    "dz = [4, 14] # mm"
   ]
  },
  {
   "cell_type": "markdown",
   "metadata": {},
   "source": [
    "## Printing parameter"
   ]
  },
  {
   "cell_type": "code",
   "execution_count": 4,
   "metadata": {},
   "outputs": [],
   "source": [
    "h = 0.3 # layer thickness, mm\n",
    "\n",
    "d = 0.39 # hatch spacing, mm\n",
    "\n",
    "v_infill = 6.35 # infill scanning speed, mm/s\n",
    "\n",
    "v_outline = 10.58"
   ]
  },
  {
   "cell_type": "markdown",
   "metadata": {},
   "source": [
    "## Produce parallel scanning path\n",
    "\n",
    "### 1. outline"
   ]
  },
  {
   "cell_type": "code",
   "execution_count": 5,
   "metadata": {},
   "outputs": [],
   "source": [
    "def get_outline_path_A(dt, dx, dy, height, v_outline, x_full, y_full, z_full, t_full):\n",
    "    Lx = dx[1] - dx[0]\n",
    "    Ly = dy[1] - dy[0]\n",
    "    # assume A -> B-> C-> D as\n",
    "    # C --- B\n",
    "    # |     |\n",
    "    # D --- A\n",
    "    x_full.extend([dx[1], dx[1], dx[0], dx[0], dx[1]])\n",
    "    y_full.extend([dy[0], dy[1], dy[1], dy[0], dy[0]])\n",
    "    z_full.extend([height, height, height, height, height])\n",
    "    \n",
    "    t_full.append(dt)\n",
    "    t_full.append(Ly/v_outline)\n",
    "    t_full.append(Lx/v_outline)\n",
    "    t_full.append(Ly/v_outline)\n",
    "    t_full.append(Lx/v_outline)"
   ]
  },
  {
   "cell_type": "code",
   "execution_count": 6,
   "metadata": {},
   "outputs": [],
   "source": [
    "def get_outline_path_B(dt, dx, dy, height, v_outline, x_full, y_full, z_full, t_full):\n",
    "    Lx = dx[1] - dx[0]\n",
    "    Ly = dy[1] - dy[0]\n",
    "    # assume A -> B-> C-> D as\n",
    "    # C --- B\n",
    "    # |     |\n",
    "    # D --- A\n",
    "    x_full.extend([dx[1], dx[0], dx[0], dx[1], dx[1]])\n",
    "    y_full.extend([dy[1], dy[1], dy[0], dy[0], dy[1]])\n",
    "    z_full.extend([height, height, height, height, height])\n",
    "    \n",
    "    t_full.append(dt)\n",
    "    t_full.append(Lx/v_outline)\n",
    "    t_full.append(Ly/v_outline)\n",
    "    t_full.append(Lx/v_outline)\n",
    "    t_full.append(Ly/v_outline)"
   ]
  },
  {
   "cell_type": "code",
   "execution_count": 7,
   "metadata": {},
   "outputs": [],
   "source": [
    "def get_outline_path_C(dt, dx, dy, height, v_outline, x_full, y_full, z_full, t_full):\n",
    "    Lx = dx[1] - dx[0]\n",
    "    Ly = dy[1] - dy[0]\n",
    "    # assume A -> B-> C-> D as\n",
    "    # C --- B\n",
    "    # |     |\n",
    "    # D --- A\n",
    "    x_full.extend([ dx[0], dx[0], dx[1], dx[1], dx[0]])\n",
    "    y_full.extend([ dy[1], dy[0], dy[0], dy[1], dy[1]])\n",
    "    z_full.extend([height, height, height, height, height])\n",
    "    \n",
    "    t_full.append(dt)\n",
    "    t_full.append(Ly/v_outline)\n",
    "    t_full.append(Lx/v_outline)\n",
    "    t_full.append(Ly/v_outline)\n",
    "    t_full.append(Lx/v_outline)"
   ]
  },
  {
   "cell_type": "code",
   "execution_count": 8,
   "metadata": {},
   "outputs": [],
   "source": [
    "def get_outline_path_D(dt, dx, dy, height, v_outline, x_full, y_full, z_full, t_full):\n",
    "    Lx = dx[1] - dx[0]\n",
    "    Ly = dy[1] - dy[0]\n",
    "    # assume A -> B-> C-> D as\n",
    "    # C --- B\n",
    "    # |     |\n",
    "    # D --- A\n",
    "    x_full.extend([  dx[0], dx[1], dx[1], dx[0], dx[0]])\n",
    "    y_full.extend([  dy[0], dy[0], dy[1], dy[1], dy[0]])\n",
    "    z_full.extend([height, height, height, height, height])\n",
    "    \n",
    "    t_full.append(dt)\n",
    "    t_full.append(Lx/v_outline)\n",
    "    t_full.append(Ly/v_outline)\n",
    "    t_full.append(Lx/v_outline)\n",
    "    t_full.append(Ly/v_outline)"
   ]
  },
  {
   "cell_type": "markdown",
   "metadata": {},
   "source": [
    "### 2. filling path"
   ]
  },
  {
   "cell_type": "code",
   "execution_count": 9,
   "metadata": {},
   "outputs": [],
   "source": [
    "def get_horizontal_filling_path(dt, y_start, y_end, move_right,  dx, dy, hatch_spacing, height, v_infill, v_outline, x_full, y_full, z_full, t_full):\n",
    "    Lx = dx[1] - dx[0]\n",
    "    Ly = dy[1] - dy[0]\n",
    "    t_vert = hatch_spacing/v_outline\n",
    "    t_hor = Lx/v_infill\n",
    "    t_full.append(dt)\n",
    "    if move_right == False:\n",
    "        hatch_spacing = - hatch_spacing\n",
    "    for y in np.arange(y_start, y_end, hatch_spacing):\n",
    "        y_full.extend([y,y])\n",
    "        if move_right == True:\n",
    "            x_full.extend(dx)\n",
    "            move_right=False\n",
    "        else:\n",
    "            x_full.extend([dx[1], dx[0]])\n",
    "            move_right=True\n",
    "        z_full.extend([height, height])\n",
    "        t_full.extend([t_hor, t_vert])\n",
    "    del t_full[-1]"
   ]
  },
  {
   "cell_type": "code",
   "execution_count": 10,
   "metadata": {},
   "outputs": [],
   "source": [
    "def get_vertical_filling_path(dt, x_start, x_end, move_up, dx, dy, hatch_spacing, height, v_infill, v_outline, x_full, y_full, z_full, t_full):\n",
    "    Lx = dx[1] - dx[0]\n",
    "    Ly = dy[1] - dy[0]\n",
    "    t_hor = hatch_spacing/v_outline\n",
    "    t_vert = Ly/v_infill\n",
    "    t_full.append(dt)\n",
    "    if move_up == False:\n",
    "        hatch_spacing = -hatch_spacing\n",
    "    for x in np.arange(x_start, x_end, hatch_spacing):\n",
    "        x_full.extend([x,x])\n",
    "        if move_up == True:\n",
    "            y_full.extend(dy)\n",
    "            move_up=False\n",
    "        else:\n",
    "            y_full.extend([dy[1], dy[0]])\n",
    "            move_up=True\n",
    "        z_full.extend([height, height])\n",
    "        t_full.extend([t_vert, t_hor])\n",
    "    del t_full[-1]"
   ]
  },
  {
   "cell_type": "code",
   "execution_count": 11,
   "metadata": {},
   "outputs": [],
   "source": [
    "x_full = []\n",
    "y_full = []\n",
    "z_full = []\n",
    "t_full = []\n",
    "\n",
    "x_start = -1.95\n",
    "x_end = 2.0\n",
    "y_start = -1.95\n",
    "y_end = 2.0\n",
    "hatch_spacing = 0.39\n",
    "\n",
    "height = 0.0\n",
    "\n",
    "total_height = 14\n",
    "\n",
    "dt = 0.04;\n",
    "\n",
    "# get_outline_path_D(dx, dy, 0.0, v_outline,  x_full, y_full, z_full, t_full)\n",
    "\n",
    "\n",
    "\n",
    "# get_outline_path_B(dx, dy, 0.3, v_outline, dt,  x_full, y_full, z_full, t_full)\n",
    "\n",
    "# print(x_full)\n",
    "# print(y_full)\n",
    "# print(z_full)\n",
    "# print(t_full)"
   ]
  },
  {
   "cell_type": "markdown",
   "metadata": {},
   "source": [
    "### get one-layer printing path"
   ]
  },
  {
   "cell_type": "code",
   "execution_count": 12,
   "metadata": {},
   "outputs": [
    {
     "name": "stdout",
     "output_type": "stream",
     "text": [
      "[-1.95, -1.95, -1.56, -1.56, -1.1700000000000002, -1.1700000000000002, -0.7800000000000002, -0.7800000000000002, -0.39000000000000035, -0.39000000000000035, -4.440892098500626e-16, -4.440892098500626e-16, 0.38999999999999946, 0.38999999999999946, 0.7799999999999996, 0.7799999999999996, 1.1699999999999993, 1.1699999999999993, 1.559999999999999, 1.559999999999999, 1.949999999999999, 1.949999999999999]\n",
      "[-2, 2, 2, -2, -2, 2, 2, -2, -2, 2, 2, -2, -2, 2, 2, -2, -2, 2, 2, -2, -2, 2]\n",
      "[0.0, 0.0, 0.0, 0.0, 0.0, 0.0, 0.0, 0.0, 0.0, 0.0, 0.0, 0.0, 0.0, 0.0, 0.0, 0.0, 0.0, 0.0, 0.0, 0.0, 0.0, 0.0]\n",
      "[0.04, 0.6299212598425197, 0.036862003780718335, 0.6299212598425197, 0.036862003780718335, 0.6299212598425197, 0.036862003780718335, 0.6299212598425197, 0.036862003780718335, 0.6299212598425197, 0.036862003780718335, 0.6299212598425197, 0.036862003780718335, 0.6299212598425197, 0.036862003780718335, 0.6299212598425197, 0.036862003780718335, 0.6299212598425197, 0.036862003780718335, 0.6299212598425197, 0.036862003780718335, 0.6299212598425197]\n"
     ]
    }
   ],
   "source": [
    "x_full = []\n",
    "y_full = []\n",
    "z_full = []\n",
    "t_full = []\n",
    "\n",
    "# get_outline_path_D(dt, dx, dy, height, v_outline,  x_full, y_full, z_full, t_full)\n",
    "get_vertical_filling_path(dt, x_start, x_end, True, dx, dy, hatch_spacing, height, v_infill, v_outline, x_full, y_full, z_full, t_full)\n",
    "# dt = 0.1;\n",
    "# get_outline_path_B(dt, dx, dy, height+0.3, v_outline,  x_full, y_full, z_full, t_full)\n",
    "# get_horizontal_filling_path(2.0, -1.8, False, dx, dy, hatch_spacing, height+0.3, v_infill, x_full, y_full, z_full, t_full)\n",
    "\n",
    "print(x_full)\n",
    "print(y_full)\n",
    "print(z_full)\n",
    "print(t_full)"
   ]
  },
  {
   "cell_type": "code",
   "execution_count": 13,
   "metadata": {},
   "outputs": [
    {
     "data": {
      "image/png": "[encoded data removed]",
      "text/plain": [
       "<Figure size 432x288 with 1 Axes>"
      ]
     },
     "metadata": {
      "needs_background": "light"
     },
     "output_type": "display_data"
    }
   ],
   "source": [
    "# %matplotlib qt\n",
    "%matplotlib inline\n",
    "fig = plt.figure()\n",
    "# ax = fig.add_subplot(111, projection='3d')\n",
    "# ax.plot(x,y,z, '-or')\n",
    "plt.plot(x_full,y_full, ':or')\n",
    "# plt.axis('equal')\n",
    "plt.axis([-2, 2, -2, 2])\n",
    "# plt.xticks([-10, -5, 0, 5, 10])\n",
    "# plt.yticks([-10, -5, 0, 5, 10])\n",
    "plt.gca().set_aspect('equal', adjustable='box')\n",
    "plt.xlabel(\"$x$\", usetex=True, fontsize = 14)\n",
    "plt.ylabel(\"$y$\", usetex=True,fontsize = 14)\n",
    "\n",
    "\n",
    "# fig.savefig('printing_path_2D.pdf', bbox_inches='tight')\n",
    "\n",
    "# show the plot\n",
    "plt.show()"
   ]
  },
  {
   "cell_type": "code",
   "execution_count": 14,
   "metadata": {},
   "outputs": [
    {
     "name": "stdout",
     "output_type": "stream",
     "text": [
      "[2, -2, -2, 2, 2, -2, -2, 2, 2, -2, -2, 2, 2, -2, -2, 2, 2, -2, -2, 2, 2, -2]\n",
      "[1.95, 1.95, 1.56, 1.56, 1.1700000000000002, 1.1700000000000002, 0.7800000000000002, 0.7800000000000002, 0.39000000000000035, 0.39000000000000035, 4.440892098500626e-16, 4.440892098500626e-16, -0.38999999999999946, -0.38999999999999946, -0.7799999999999996, -0.7799999999999996, -1.1699999999999993, -1.1699999999999993, -1.559999999999999, -1.559999999999999, -1.949999999999999, -1.949999999999999]\n",
      "[0.0, 0.0, 0.0, 0.0, 0.0, 0.0, 0.0, 0.0, 0.0, 0.0, 0.0, 0.0, 0.0, 0.0, 0.0, 0.0, 0.0, 0.0, 0.0, 0.0, 0.0, 0.0]\n",
      "[0.04, 0.6299212598425197, 0.036862003780718335, 0.6299212598425197, 0.036862003780718335, 0.6299212598425197, 0.036862003780718335, 0.6299212598425197, 0.036862003780718335, 0.6299212598425197, 0.036862003780718335, 0.6299212598425197, 0.036862003780718335, 0.6299212598425197, 0.036862003780718335, 0.6299212598425197, 0.036862003780718335, 0.6299212598425197, 0.036862003780718335, 0.6299212598425197, 0.036862003780718335, 0.6299212598425197]\n"
     ]
    }
   ],
   "source": [
    "x_full = []\n",
    "y_full = []\n",
    "z_full = []\n",
    "t_full = []\n",
    "\n",
    "get_horizontal_filling_path(dt, -y_start, -y_end, False, dx, dy, hatch_spacing, 0.0, v_infill, v_outline, x_full, y_full, z_full, t_full)\n",
    "\n",
    "print(x_full)\n",
    "print(y_full)\n",
    "print(z_full)\n",
    "print(t_full)"
   ]
  },
  {
   "cell_type": "code",
   "execution_count": 15,
   "metadata": {},
   "outputs": [
    {
     "data": {
      "image/png": "[encoded data removed]",
      "text/plain": [
       "<Figure size 432x288 with 1 Axes>"
      ]
     },
     "metadata": {
      "needs_background": "light"
     },
     "output_type": "display_data"
    }
   ],
   "source": [
    "# %matplotlib qt\n",
    "%matplotlib inline\n",
    "fig = plt.figure()\n",
    "# ax = fig.add_subplot(111, projection='3d')\n",
    "# ax.plot(x,y,z, '-or')\n",
    "plt.plot(x_full,y_full, ':or')\n",
    "# plt.axis('equal')\n",
    "plt.axis([-2, 2, -2, 2])\n",
    "# plt.xticks([-10, -5, 0, 5, 10])\n",
    "# plt.yticks([-10, -5, 0, 5, 10])\n",
    "plt.gca().set_aspect('equal', adjustable='box')\n",
    "plt.xlabel(\"$x$\", usetex=True, fontsize = 14)\n",
    "plt.ylabel(\"$y$\", usetex=True,fontsize = 14)\n",
    "\n",
    "\n",
    "# fig.savefig('printing_path_2D.pdf', bbox_inches='tight')\n",
    "\n",
    "# show the plot\n",
    "plt.show()"
   ]
  },
  {
   "cell_type": "markdown",
   "metadata": {},
   "source": [
    "### get multi-layer printing path"
   ]
  },
  {
   "cell_type": "code",
   "execution_count": 16,
   "metadata": {},
   "outputs": [
    {
     "name": "stdout",
     "output_type": "stream",
     "text": [
      "4.0\n",
      "4.3\n",
      "4.6\n",
      "4.8999999999999995\n",
      "5.199999999999999\n",
      "5.499999999999999\n",
      "5.799999999999999\n",
      "6.099999999999999\n",
      "6.399999999999999\n",
      "6.699999999999998\n",
      "6.999999999999998\n",
      "7.299999999999998\n",
      "7.599999999999998\n",
      "7.899999999999998\n",
      "8.199999999999998\n",
      "8.499999999999996\n",
      "8.799999999999997\n",
      "9.099999999999998\n",
      "9.399999999999997\n",
      "9.699999999999996\n",
      "9.999999999999996\n",
      "10.299999999999997\n",
      "10.599999999999996\n",
      "10.899999999999995\n",
      "11.199999999999996\n",
      "11.499999999999996\n",
      "11.799999999999995\n",
      "12.099999999999994\n",
      "12.399999999999995\n",
      "12.699999999999996\n",
      "12.999999999999995\n",
      "13.299999999999994\n",
      "13.599999999999994\n",
      "13.899999999999995\n"
     ]
    }
   ],
   "source": [
    "x_full = []\n",
    "y_full = []\n",
    "z_full = []\n",
    "t_full = []\n",
    "\n",
    "dz = 0.3\n",
    "height_substrate = 4\n",
    "\n",
    "\n",
    "vertical_fill = True\n",
    "for z in np.arange(height_substrate, total_height, dz):\n",
    "    print(z)\n",
    "    if vertical_fill == True:\n",
    "#         get_outline_path_D(dt, dx, dy, z, v_outline,  x_full, y_full, z_full, t_full)\n",
    "        get_vertical_filling_path(dt, x_start, x_end, True, dx, dy, hatch_spacing, z, v_infill, v_outline, x_full, y_full, z_full, t_full)\n",
    "        vertical_fill = False\n",
    "    else:\n",
    "#         get_outline_path_B(dt, dx, dy, z, v_outline,  x_full, y_full, z_full, t_full)\n",
    "        get_horizontal_filling_path(dt, -y_start, -y_end, False, dx, dy, hatch_spacing, z, v_infill, v_outline, x_full, y_full, z_full, t_full)\n",
    "        vertical_fill = True\n",
    "\n",
    "\n",
    "# print(x_full)\n",
    "# print(y_full)\n",
    "# print(z_full)\n",
    "# print(t_full)"
   ]
  },
  {
   "cell_type": "code",
   "execution_count": 17,
   "metadata": {},
   "outputs": [
    {
     "data": {
      "image/png": "[encoded data removed]",
      "text/plain": [
       "<Figure size 432x288 with 1 Axes>"
      ]
     },
     "metadata": {
      "needs_background": "light"
     },
     "output_type": "display_data"
    }
   ],
   "source": [
    "# %matplotlib qt\n",
    "%matplotlib inline\n",
    "fig = plt.figure()\n",
    "ax = fig.add_subplot(111, projection='3d')\n",
    "ax.plot(x_full,y_full,z_full, '-or')\n",
    "ax.set_xlim([-3, 3])\n",
    "ax.set_ylim([-3, 3])\n",
    "ax.set_zlim([0, total_height])\n",
    "# ax.set_xticks([-10, -5, 0, 5, 10])\n",
    "# ax.set_yticks([-10, -5, 0, 5, 10])\n",
    "# ax.set_zticks([5, 7, 9, 11, 13, 15, 17, 19, 21, 23])\n",
    "ax.set_xlabel(\"$x$\", usetex=True, fontsize = 14)\n",
    "ax.set_ylabel(\"$y$\", usetex=True,fontsize = 14)\n",
    "ax.set_zlabel(\"$z$\", usetex=True,fontsize = 14)\n",
    "\n",
    "# fig.tight_layout()\n",
    "# fig.savefig('box_printing_path_3layers.pdf', bbox_inches='tight')\n",
    "\n",
    "# show the plot\n",
    "plt.show()"
   ]
  },
  {
   "cell_type": "markdown",
   "metadata": {},
   "source": [
    "### Get accumulated time"
   ]
  },
  {
   "cell_type": "code",
   "execution_count": 18,
   "metadata": {},
   "outputs": [
    {
     "name": "stdout",
     "output_type": "stream",
     "text": [
      "[  0.           0.62992126   0.66678326   1.29670452   1.33356653\n",
      "   1.96348779   2.00034979   2.63027105   2.66713305   3.29705431\n",
      "   3.33391632   3.96383758   4.00069958   4.63062084   4.66748285\n",
      "   5.29740411   5.33426611   5.96418737   6.00104937   6.63097063\n",
      "   6.66783264   7.2977539    7.3377539    7.96767516   8.00453716\n",
      "   8.63445842   8.67132042   9.30124168   9.33810369   9.96802495\n",
      "  10.00488695  10.63480821  10.67167021  11.30159147  11.33845348\n",
      "  11.96837474  12.00523674  12.635158    12.67202001  13.30194126\n",
      "  13.33880327  13.96872453  14.00558653  14.63550779  14.67550779\n",
      "  15.30542905  15.34229106  15.97221232  16.00907432  16.63899558\n",
      "  16.67585758  17.30577884  17.34264085  17.97256211  18.00942411\n",
      "  18.63934537  18.67620737  19.30612863  19.34299064  19.9729119\n",
      "  20.0097739   20.63969516  20.67655716  21.30647842  21.34334043\n",
      "  21.97326169  22.01326169  22.64318295  22.68004495  23.30996621\n",
      "  23.34682822  23.97674948  24.01361148  24.64353274  24.68039474\n",
      "  25.310316    25.34717801  25.97709927  26.01396127  26.64388253\n",
      "  26.68074453  27.31066579  27.3475278   27.97744906  28.01431106\n",
      "  28.64423232  28.68109432  29.31101558  29.35101558  29.98093684\n",
      "  30.01779885  30.64772011  30.68458211  31.31450337  31.35136538\n",
      "  31.98128664  32.01814864  32.6480699   32.6849319   33.31485316\n",
      "  33.35171517  33.98163643  34.01849843  34.64841969  34.68528169\n",
      "  35.31520295  35.35206496  35.98198622  36.01884822  36.64876948\n",
      "  36.68876948  37.31869074  37.35555274  37.985474    38.02233601\n",
      "  38.65225727  38.68911927  39.31904053  39.35590253  39.98582379\n",
      "  40.0226858   40.65260706  40.68946906  41.31939032  41.35625233\n",
      "  41.98617359  42.02303559  42.65295685  42.68981885  43.31974011\n",
      "  43.35660212  43.98652338  44.02652338  44.65644464  44.69330664\n",
      "  45.3232279   45.3600899   45.99001116  46.02687317  46.65679443\n",
      "  46.69365643  47.32357769  47.36043969  47.99036095  48.02722296\n",
      "  48.65714422  48.69400622  49.32392748  49.36078949  49.99071075\n",
      "  50.02757275  50.65749401  50.69435601  51.32427727  51.36427727\n",
      "  51.99419853  52.03106054  52.6609818   52.6978438   53.32776506\n",
      "  53.36462706  53.99454832  54.03141033  54.66133159  54.69819359\n",
      "  55.32811485  55.36497685  55.99489811  56.03176012  56.66168138\n",
      "  56.69854338  57.32846464  57.36532665  57.9952479   58.03210991\n",
      "  58.66203117  58.70203117  59.33195243  59.36881443  59.99873569\n",
      "  60.0355977   60.66551896  60.70238096  61.33230222  61.36916422\n",
      "  61.99908548  62.03594749  62.66586875  62.70273075  63.33265201\n",
      "  63.36951401  63.99943527  64.03629728  64.66621854  64.70308054\n",
      "  65.3330018   65.3698638   65.99978506  66.03978506  66.66970632\n",
      "  66.70656833  67.33648959  67.37335159  68.00327285  68.04013486\n",
      "  68.67005612  68.70691812  69.33683938  69.37370138  70.00362264\n",
      "  70.04048465  70.67040591  70.70726791  71.33718917  71.37405117\n",
      "  72.00397243  72.04083444  72.6707557   72.7076177   73.33753896\n",
      "  73.37753896  74.00746022  74.04432222  74.67424348  74.71110549\n",
      "  75.34102675  75.37788875  76.00781001  76.04467202  76.67459328\n",
      "  76.71145528  77.34137654  77.37823854  78.0081598   78.04502181\n",
      "  78.67494307  78.71180507  79.34172633  79.37858833  80.00850959\n",
      "  80.0453716   80.67529286  80.71529286  81.34521412  81.38207612\n",
      "  82.01199738  82.04885938  82.67878064  82.71564265  83.34556391\n",
      "  83.38242591  84.01234717  84.04920917  84.67913043  84.71599244\n",
      "  85.3459137   85.3827757   86.01269696  86.04955897  86.67948023\n",
      "  86.71634223  87.34626349  87.38312549  88.01304675  88.05304675\n",
      "  88.68296801  88.71983002  89.34975128  89.38661328  90.01653454\n",
      "  90.05339654  90.6833178   90.72017981  91.35010107  91.38696307\n",
      "  92.01688433  92.05374633  92.68366759  92.7205296   93.35045086\n",
      "  93.38731286  94.01723412  94.05409613  94.68401739  94.72087939\n",
      "  95.35080065  95.39080065  96.02072191  96.05758391  96.68750517\n",
      "  96.72436718  97.35428844  97.39115044  98.0210717   98.0579337\n",
      "  98.68785496  98.72471697  99.35463823  99.39150023 100.02142149\n",
      " 100.05828349 100.68820475 100.72506676 101.35498802 101.39185002\n",
      " 102.02177128 102.05863329 102.68855455 102.72855455 103.3584758\n",
      " 103.39533781 104.02525907 104.06212107 104.69204233 104.72890434\n",
      " 105.3588256  105.3956876  106.02560886 106.06247086 106.69239212\n",
      " 106.72925413 107.35917539 107.39603739 108.02595865 108.06282065\n",
      " 108.69274191 108.72960392 109.35952518 109.39638718 110.02630844\n",
      " 110.06630844 110.6962297  110.7330917  111.36301296 111.39987497\n",
      " 112.02979623 112.06665823 112.69657949 112.7334415  113.36336276\n",
      " 113.40022476 114.03014602 114.06700802 114.69692928 114.73379129\n",
      " 115.36371255 115.40057455 116.03049581 116.06735781 116.69727907\n",
      " 116.73414108 117.36406234 117.40406234 118.0339836  118.0708456\n",
      " 118.70076686 118.73762886 119.36755012 119.40441213 120.03433339\n",
      " 120.07119539 120.70111665 120.73797866 121.36789992 121.40476192\n",
      " 122.03468318 122.07154518 122.70146644 122.73832845 123.36824971\n",
      " 123.40511171 124.03503297 124.07189497 124.70181623 124.74181623\n",
      " 125.37173749 125.4085995  126.03852076 126.07538276 126.70530402\n",
      " 126.74216602 127.37208728 127.40894929 128.03887055 128.07573255\n",
      " 128.70565381 128.74251582 129.37243707 129.40929908 130.03922034\n",
      " 130.07608234 130.7060036  130.74286561 131.37278687 131.40964887\n",
      " 132.03957013 132.07957013 132.70949139 132.74635339 133.37627465\n",
      " 133.41313666 134.04305792 134.07991992 134.70984118 134.74670318\n",
      " 135.37662444 135.41348645 136.04340771 136.08026971 136.71019097\n",
      " 136.74705297 137.37697423 137.41383624 138.0437575  138.0806195\n",
      " 138.71054076 138.74740277 139.37732403 139.41732403 140.04724529\n",
      " 140.08410729 140.71402855 140.75089055 141.38081181 141.41767382\n",
      " 142.04759508 142.08445708 142.71437834 142.75124034 143.3811616\n",
      " 143.41802361 144.04794487 144.08480687 144.71472813 144.75159013\n",
      " 145.38151139 145.4183734  146.04829466 146.08515666 146.71507792\n",
      " 146.75507792 147.38499918 147.42186119 148.05178244 148.08864445\n",
      " 148.71856571 148.75542771 149.38534897 149.42221098 150.05213224\n",
      " 150.08899424 150.7189155  150.7557775  151.38569876 151.42256077\n",
      " 152.05248203 152.08934403 152.71926529 152.75612729 153.38604855\n",
      " 153.42291056 154.05283182 154.09283182 154.72275308 154.75961508\n",
      " 155.38953634 155.42639834 156.0563196  156.09318161 156.72310287\n",
      " 156.75996487 157.38988613 157.42674814 158.0566694  158.0935314\n",
      " 158.72345266 158.76031466 159.39023592 159.42709793 160.05701919\n",
      " 160.09388119 160.72380245 160.76066445 161.39058571 161.43058571\n",
      " 162.06050697 162.09736898 162.72729024 162.76415224 163.3940735\n",
      " 163.4309355  164.06085676 164.09771877 164.72764003 164.76450203\n",
      " 165.39442329 165.4312853  166.06120656 166.09806856 166.72798982\n",
      " 166.76485182 167.39477308 167.43163509 168.06155635 168.09841835\n",
      " 168.72833961 168.76833961 169.39826087 169.43512287 170.06504413\n",
      " 170.10190614 170.7318274  170.7686894  171.39861066 171.43547266\n",
      " 172.06539392 172.10225593 172.73217719 172.76903919 173.39896045\n",
      " 173.43582246 174.06574371 174.10260572 174.73252698 174.76938898\n",
      " 175.39931024 175.43617225 176.06609351 176.10609351 176.73601477\n",
      " 176.77287677 177.40279803 177.43966003 178.06958129 178.1064433\n",
      " 178.73636456 178.77322656 179.40314782 179.44000982 180.06993108\n",
      " 180.10679309 180.73671435 180.77357635 181.40349761 181.44035961\n",
      " 182.07028087 182.10714288 182.73706414 182.77392614 183.4038474\n",
      " 183.4438474  184.07376866 184.11063067 184.74055193 184.77741393\n",
      " 185.40733519 185.44419719 186.07411845 186.11098046 186.74090172\n",
      " 186.77776372 187.40768498 187.44454698 188.07446824 188.11133025\n",
      " 188.74125151 188.77811351 189.40803477 189.44489677 190.07481803\n",
      " 190.11168004 190.7416013  190.7816013  191.41152256 191.44838456\n",
      " 192.07830582 192.11516783 192.74508909 192.78195109 193.41187235\n",
      " 193.44873435 194.07865561 194.11551762 194.74543888 194.78230088\n",
      " 195.41222214 195.44908414 196.0790054  196.11586741 196.74578867\n",
      " 196.78265067 197.41257193 197.44943393 198.07935519 198.11935519\n",
      " 198.74927645 198.78613846 199.41605972 199.45292172 200.08284298\n",
      " 200.11970498 200.74962624 200.78648825 201.41640951 201.45327151\n",
      " 202.08319277 202.12005478 202.74997604 202.78683804 203.4167593\n",
      " 203.4536213  204.08354256 204.12040457 204.75032583 204.78718783\n",
      " 205.41710909 205.45710909 206.08703035 206.12389235 206.75381361\n",
      " 206.79067562 207.42059688 207.45745888 208.08738014 208.12424214\n",
      " 208.7541634  208.79102541 209.42094667 209.45780867 210.08772993\n",
      " 210.12459194 210.7545132  210.7913752  211.42129646 211.45815846\n",
      " 212.08807972 212.12494173 212.75486299 212.79486299 213.42478425\n",
      " 213.46164625 214.09156751 214.12842951 214.75835077 214.79521278\n",
      " 215.42513404 215.46199604 216.0919173  216.1287793  216.75870056\n",
      " 216.79556257 217.42548383 217.46234583 218.09226709 218.1291291\n",
      " 218.75905036 218.79591236 219.42583362 219.46269562 220.09261688\n",
      " 220.13261688 220.76253814 220.79940015 221.42932141 221.46618341\n",
      " 222.09610467 222.13296667 222.76288793 222.79974994 223.4296712\n",
      " 223.4665332  224.09645446 224.13331646 224.76323772 224.80009973\n",
      " 225.43002099 225.46688299 226.09680425 226.13366625 226.76358751\n",
      " 226.80044952 227.43037078 227.47037078 228.10029204 228.13715404\n",
      " 228.7670753  228.80393731 229.43385857 229.47072057 230.10064183\n",
      " 230.13750383 230.76742509 230.8042871  231.43420836 231.47107036\n",
      " 232.10099162 232.13785362 232.76777488 232.80463689 233.43455815\n",
      " 233.47142015 234.10134141 234.13820341 234.76812467 234.80812467\n",
      " 235.43804593 235.47490794 236.1048292  236.1416912  236.77161246\n",
      " 236.80847447 237.43839573 237.47525773 238.10517899 238.14204099\n",
      " 238.77196225 238.80882426 239.43874552 239.47560752 240.10552878\n",
      " 240.14239078 240.77231204 240.80917405 241.43909531 241.47595731\n",
      " 242.10587857 242.14587857 242.77579983 242.81266183 243.44258309\n",
      " 243.4794451  244.10936636 244.14622836 244.77614962 244.81301162\n",
      " 245.44293288 245.47979489 246.10971615 246.14657815 246.77649941\n",
      " 246.81336142 247.44328268 247.48014468 248.11006594 248.14692794\n",
      " 248.7768492  248.81371121 249.44363247]\n"
     ]
    }
   ],
   "source": [
    "t_full[0] = 0\n",
    "t_accum = np.cumsum(t_full,axis=0)\n",
    "print(t_accum)"
   ]
  },
  {
   "cell_type": "code",
   "execution_count": 19,
   "metadata": {},
   "outputs": [],
   "source": [
    "xt_data=np.vstack((t_accum, x_full)).T\n",
    "xt_df=pd.DataFrame(xt_data)\n",
    "\n",
    "yt_data=np.vstack((t_accum, y_full)).T\n",
    "yt_df=pd.DataFrame(yt_data)\n",
    "\n",
    "zt_data=np.vstack((t_accum, z_full)).T\n",
    "zt_df=pd.DataFrame(zt_data)"
   ]
  },
  {
   "cell_type": "code",
   "execution_count": 20,
   "metadata": {},
   "outputs": [],
   "source": [
    "xt_df.to_csv('path_x.csv', index=False, header=False)\n",
    "yt_df.to_csv('path_y.csv', index=False, header=False)\n",
    "zt_df.to_csv('path_z.csv', index=False, header=False)"
   ]
  }
 ],
 "metadata": {
  "kernelspec": {
   "display_name": "Python 3",
   "language": "python",
   "name": "python3"
  },
  "language_info": {
   "codemirror_mode": {
    "name": "ipython",
    "version": 3
   },
   "file_extension": ".py",
   "mimetype": "text/x-python",
   "name": "python",
   "nbconvert_exporter": "python",
   "pygments_lexer": "ipython3",
   "version": "3.7.8"
  }
 },
 "nbformat": 4,
 "nbformat_minor": 4
}
