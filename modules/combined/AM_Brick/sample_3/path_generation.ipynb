{
 "cells": [
  {
   "cell_type": "code",
   "execution_count": 1,
   "metadata": {},
   "outputs": [],
   "source": [
    "import numpy as np\n",
    "import pandas as pd\n",
    "import matplotlib.pyplot as plt\n",
    "from mpl_toolkits.mplot3d import Axes3D\n",
    "import csv"
   ]
  },
  {
   "cell_type": "code",
   "execution_count": 2,
   "metadata": {},
   "outputs": [],
   "source": [
    "from matplotlib import rcParams\n",
    "rcParams['font.family'] = 'Serif'"
   ]
  },
  {
   "cell_type": "markdown",
   "metadata": {},
   "source": [
    "## Product parameter"
   ]
  },
  {
   "cell_type": "code",
   "execution_count": 3,
   "metadata": {},
   "outputs": [],
   "source": [
    "dx = [-2, 2] #mm\n",
    "\n",
    "dy = [-2, 2] #mm\n",
    "\n",
    "dz = [4, 14] # mm"
   ]
  },
  {
   "cell_type": "markdown",
   "metadata": {},
   "source": [
    "## Printing parameter"
   ]
  },
  {
   "cell_type": "code",
   "execution_count": 4,
   "metadata": {},
   "outputs": [],
   "source": [
    "h = 0.3 # layer thickness, mm\n",
    "\n",
    "d = 0.39 # hatch spacing, mm\n",
    "\n",
    "v_infill = 6.35 # infill scanning speed, mm/s\n",
    "\n",
    "v_outline = 10.58"
   ]
  },
  {
   "cell_type": "markdown",
   "metadata": {},
   "source": [
    "## Produce parallel scanning path\n",
    "\n",
    "### 1. outline"
   ]
  },
  {
   "cell_type": "code",
   "execution_count": 5,
   "metadata": {},
   "outputs": [],
   "source": [
    "def get_outline_path_A(dt, dx, dy, height, v_outline, x_full, y_full, z_full, t_full):\n",
    "    Lx = dx[1] - dx[0]\n",
    "    Ly = dy[1] - dy[0]\n",
    "    # assume A -> B-> C-> D as\n",
    "    # C --- B\n",
    "    # |     |\n",
    "    # D --- A\n",
    "    x_full.extend([dx[1], dx[1], dx[0], dx[0], dx[1]])\n",
    "    y_full.extend([dy[0], dy[1], dy[1], dy[0], dy[0]])\n",
    "    z_full.extend([height, height, height, height, height])\n",
    "    \n",
    "    t_full.append(dt)\n",
    "    t_full.append(Ly/v_outline)\n",
    "    t_full.append(Lx/v_outline)\n",
    "    t_full.append(Ly/v_outline)\n",
    "    t_full.append(Lx/v_outline)"
   ]
  },
  {
   "cell_type": "code",
   "execution_count": 6,
   "metadata": {},
   "outputs": [],
   "source": [
    "def get_outline_path_B(dt, dx, dy, height, v_outline, x_full, y_full, z_full, t_full):\n",
    "    Lx = dx[1] - dx[0]\n",
    "    Ly = dy[1] - dy[0]\n",
    "    # assume A -> B-> C-> D as\n",
    "    # C --- B\n",
    "    # |     |\n",
    "    # D --- A\n",
    "    x_full.extend([dx[1], dx[0], dx[0], dx[1], dx[1]])\n",
    "    y_full.extend([dy[1], dy[1], dy[0], dy[0], dy[1]])\n",
    "    z_full.extend([height, height, height, height, height])\n",
    "    \n",
    "    t_full.append(dt)\n",
    "    t_full.append(Lx/v_outline)\n",
    "    t_full.append(Ly/v_outline)\n",
    "    t_full.append(Lx/v_outline)\n",
    "    t_full.append(Ly/v_outline)"
   ]
  },
  {
   "cell_type": "code",
   "execution_count": 7,
   "metadata": {},
   "outputs": [],
   "source": [
    "def get_outline_path_C(dt, dx, dy, height, v_outline, x_full, y_full, z_full, t_full):\n",
    "    Lx = dx[1] - dx[0]\n",
    "    Ly = dy[1] - dy[0]\n",
    "    # assume A -> B-> C-> D as\n",
    "    # C --- B\n",
    "    # |     |\n",
    "    # D --- A\n",
    "    x_full.extend([ dx[0], dx[0], dx[1], dx[1], dx[0]])\n",
    "    y_full.extend([ dy[1], dy[0], dy[0], dy[1], dy[1]])\n",
    "    z_full.extend([height, height, height, height, height])\n",
    "    \n",
    "    t_full.append(dt)\n",
    "    t_full.append(Ly/v_outline)\n",
    "    t_full.append(Lx/v_outline)\n",
    "    t_full.append(Ly/v_outline)\n",
    "    t_full.append(Lx/v_outline)"
   ]
  },
  {
   "cell_type": "code",
   "execution_count": 8,
   "metadata": {},
   "outputs": [],
   "source": [
    "def get_outline_path_D(dt, dx, dy, height, v_outline, x_full, y_full, z_full, t_full):\n",
    "    Lx = dx[1] - dx[0]\n",
    "    Ly = dy[1] - dy[0]\n",
    "    # assume A -> B-> C-> D as\n",
    "    # C --- B\n",
    "    # |     |\n",
    "    # D --- A\n",
    "    x_full.extend([  dx[0], dx[1], dx[1], dx[0], dx[0]])\n",
    "    y_full.extend([  dy[0], dy[0], dy[1], dy[1], dy[0]])\n",
    "    z_full.extend([height, height, height, height, height])\n",
    "    \n",
    "    t_full.append(dt)\n",
    "    t_full.append(Lx/v_outline)\n",
    "    t_full.append(Ly/v_outline)\n",
    "    t_full.append(Lx/v_outline)\n",
    "    t_full.append(Ly/v_outline)"
   ]
  },
  {
   "cell_type": "markdown",
   "metadata": {},
   "source": [
    "### 2. filling path"
   ]
  },
  {
   "cell_type": "code",
   "execution_count": 9,
   "metadata": {},
   "outputs": [],
   "source": [
    "def get_horizontal_filling_path(dt, y_start, y_end, move_right,  dx, dy, hatch_spacing, height, v_infill, v_outline, x_full, y_full, z_full, t_full):\n",
    "    Lx = dx[1] - dx[0]\n",
    "    Ly = dy[1] - dy[0]\n",
    "    t_vert = hatch_spacing/v_outline\n",
    "    t_hor = Lx/v_infill\n",
    "    t_full.append(dt)\n",
    "    if move_right == False:\n",
    "        hatch_spacing = - hatch_spacing\n",
    "    for y in np.arange(y_start, y_end, hatch_spacing):\n",
    "        y_full.extend([y,y])\n",
    "        if move_right == True:\n",
    "            x_full.extend(dx)\n",
    "            move_right=False\n",
    "        else:\n",
    "            x_full.extend([dx[1], dx[0]])\n",
    "            move_right=True\n",
    "        z_full.extend([height, height])\n",
    "        t_full.extend([t_hor, t_vert])\n",
    "    del t_full[-1]"
   ]
  },
  {
   "cell_type": "code",
   "execution_count": 10,
   "metadata": {},
   "outputs": [],
   "source": [
    "def get_vertical_filling_path(dt, x_start, x_end, move_up, dx, dy, hatch_spacing, height, v_infill, v_outline, x_full, y_full, z_full, t_full):\n",
    "    Lx = dx[1] - dx[0]\n",
    "    Ly = dy[1] - dy[0]\n",
    "    t_hor = hatch_spacing/v_outline\n",
    "    t_vert = Ly/v_infill\n",
    "    t_full.append(dt)\n",
    "    if move_up == False:\n",
    "        hatch_spacing = -hatch_spacing\n",
    "    for x in np.arange(x_start, x_end, hatch_spacing):\n",
    "        x_full.extend([x,x])\n",
    "        if move_up == True:\n",
    "            y_full.extend(dy)\n",
    "            move_up=False\n",
    "        else:\n",
    "            y_full.extend([dy[1], dy[0]])\n",
    "            move_up=True\n",
    "        z_full.extend([height, height])\n",
    "        t_full.extend([t_vert, t_hor])\n",
    "    del t_full[-1]"
   ]
  },
  {
   "cell_type": "code",
   "execution_count": 11,
   "metadata": {},
   "outputs": [],
   "source": [
    "x_full = []\n",
    "y_full = []\n",
    "z_full = []\n",
    "t_full = []\n",
    "\n",
    "x_start = -1.95\n",
    "x_end = 2.0\n",
    "y_start = -1.95\n",
    "y_end = 2.0\n",
    "hatch_spacing = 0.39\n",
    "\n",
    "height = 0.0\n",
    "\n",
    "total_height = 14\n",
    "\n",
    "dt = 0.01;\n",
    "\n",
    "# get_outline_path_D(dx, dy, 0.0, v_outline,  x_full, y_full, z_full, t_full)\n",
    "\n",
    "\n",
    "\n",
    "# get_outline_path_B(dx, dy, 0.3, v_outline, dt,  x_full, y_full, z_full, t_full)\n",
    "\n",
    "# print(x_full)\n",
    "# print(y_full)\n",
    "# print(z_full)\n",
    "# print(t_full)"
   ]
  },
  {
   "cell_type": "markdown",
   "metadata": {},
   "source": [
    "### get one-layer printing path"
   ]
  },
  {
   "cell_type": "code",
   "execution_count": 12,
   "metadata": {},
   "outputs": [
    {
     "name": "stdout",
     "output_type": "stream",
     "text": [
      "[-1.9, -1.9, -1.5099999999999998, -1.5099999999999998, -1.1199999999999997, -1.1199999999999997, -0.7299999999999995, -0.7299999999999995, -0.3399999999999994, -0.3399999999999994, 0.05000000000000071, 0.05000000000000071, 0.44000000000000083, 0.44000000000000083, 0.830000000000001, 0.830000000000001, 1.220000000000001, 1.220000000000001, 1.6100000000000012, 1.6100000000000012]\n",
      "[-2, 2, 2, -2, -2, 2, 2, -2, -2, 2, 2, -2, -2, 2, 2, -2, -2, 2, 2, -2]\n",
      "[0.0, 0.0, 0.0, 0.0, 0.0, 0.0, 0.0, 0.0, 0.0, 0.0, 0.0, 0.0, 0.0, 0.0, 0.0, 0.0, 0.0, 0.0, 0.0, 0.0]\n",
      "[0.01, 0.6299212598425197, 0.036862003780718335, 0.6299212598425197, 0.036862003780718335, 0.6299212598425197, 0.036862003780718335, 0.6299212598425197, 0.036862003780718335, 0.6299212598425197, 0.036862003780718335, 0.6299212598425197, 0.036862003780718335, 0.6299212598425197, 0.036862003780718335, 0.6299212598425197, 0.036862003780718335, 0.6299212598425197, 0.036862003780718335, 0.6299212598425197]\n"
     ]
    }
   ],
   "source": [
    "x_full = []\n",
    "y_full = []\n",
    "z_full = []\n",
    "t_full = []\n",
    "\n",
    "# get_outline_path_D(dt, dx, dy, height, v_outline,  x_full, y_full, z_full, t_full)\n",
    "get_vertical_filling_path(dt, x_start, x_end, True, dx, dy, hatch_spacing, height, v_infill, v_outline, x_full, y_full, z_full, t_full)\n",
    "# dt = 0.1;\n",
    "# get_outline_path_B(dt, dx, dy, height+0.3, v_outline,  x_full, y_full, z_full, t_full)\n",
    "# get_horizontal_filling_path(2.0, -1.8, False, dx, dy, hatch_spacing, height+0.3, v_infill, x_full, y_full, z_full, t_full)\n",
    "\n",
    "print(x_full)\n",
    "print(y_full)\n",
    "print(z_full)\n",
    "print(t_full)"
   ]
  },
  {
   "cell_type": "code",
   "execution_count": 13,
   "metadata": {},
   "outputs": [
    {
     "data": {
      "image/png": "[encoded data removed]",
      "text/plain": [
       "<Figure size 432x288 with 1 Axes>"
      ]
     },
     "metadata": {
      "needs_background": "light"
     },
     "output_type": "display_data"
    }
   ],
   "source": [
    "# %matplotlib qt\n",
    "%matplotlib inline\n",
    "fig = plt.figure()\n",
    "# ax = fig.add_subplot(111, projection='3d')\n",
    "# ax.plot(x,y,z, '-or')\n",
    "plt.plot(x_full,y_full, ':or')\n",
    "# plt.axis('equal')\n",
    "plt.axis([-2, 2, -2, 2])\n",
    "# plt.xticks([-10, -5, 0, 5, 10])\n",
    "# plt.yticks([-10, -5, 0, 5, 10])\n",
    "plt.gca().set_aspect('equal', adjustable='box')\n",
    "plt.xlabel(\"$x$\", usetex=True, fontsize = 14)\n",
    "plt.ylabel(\"$y$\", usetex=True,fontsize = 14)\n",
    "\n",
    "\n",
    "# fig.savefig('printing_path_2D.pdf', bbox_inches='tight')\n",
    "\n",
    "# show the plot\n",
    "plt.show()"
   ]
  },
  {
   "cell_type": "code",
   "execution_count": 14,
   "metadata": {},
   "outputs": [
    {
     "name": "stdout",
     "output_type": "stream",
     "text": [
      "[2, -2, -2, 2, 2, -2, -2, 2, 2, -2, -2, 2, 2, -2, -2, 2, 2, -2, -2, 2]\n",
      "[1.9, 1.9, 1.5099999999999998, 1.5099999999999998, 1.1199999999999997, 1.1199999999999997, 0.7299999999999995, 0.7299999999999995, 0.3399999999999994, 0.3399999999999994, -0.05000000000000071, -0.05000000000000071, -0.44000000000000083, -0.44000000000000083, -0.830000000000001, -0.830000000000001, -1.220000000000001, -1.220000000000001, -1.6100000000000012, -1.6100000000000012]\n",
      "[0.0, 0.0, 0.0, 0.0, 0.0, 0.0, 0.0, 0.0, 0.0, 0.0, 0.0, 0.0, 0.0, 0.0, 0.0, 0.0, 0.0, 0.0, 0.0, 0.0]\n",
      "[0.1, 0.6299212598425197, 0.036862003780718335, 0.6299212598425197, 0.036862003780718335, 0.6299212598425197, 0.036862003780718335, 0.6299212598425197, 0.036862003780718335, 0.6299212598425197, 0.036862003780718335, 0.6299212598425197, 0.036862003780718335, 0.6299212598425197, 0.036862003780718335, 0.6299212598425197, 0.036862003780718335, 0.6299212598425197, 0.036862003780718335, 0.6299212598425197]\n"
     ]
    }
   ],
   "source": [
    "x_full = []\n",
    "y_full = []\n",
    "z_full = []\n",
    "t_full = []\n",
    "\n",
    "get_horizontal_filling_path(dt, -y_start, -y_end, False, dx, dy, hatch_spacing, 0.0, v_infill, v_outline, x_full, y_full, z_full, t_full)\n",
    "\n",
    "print(x_full)\n",
    "print(y_full)\n",
    "print(z_full)\n",
    "print(t_full)"
   ]
  },
  {
   "cell_type": "code",
   "execution_count": 15,
   "metadata": {},
   "outputs": [
    {
     "data": {
      "image/png": "[encoded data removed]",
      "text/plain": [
       "<Figure size 432x288 with 1 Axes>"
      ]
     },
     "metadata": {
      "needs_background": "light"
     },
     "output_type": "display_data"
    }
   ],
   "source": [
    "# %matplotlib qt\n",
    "%matplotlib inline\n",
    "fig = plt.figure()\n",
    "# ax = fig.add_subplot(111, projection='3d')\n",
    "# ax.plot(x,y,z, '-or')\n",
    "plt.plot(x_full,y_full, ':or')\n",
    "# plt.axis('equal')\n",
    "plt.axis([-2, 2, -2, 2])\n",
    "# plt.xticks([-10, -5, 0, 5, 10])\n",
    "# plt.yticks([-10, -5, 0, 5, 10])\n",
    "plt.gca().set_aspect('equal', adjustable='box')\n",
    "plt.xlabel(\"$x$\", usetex=True, fontsize = 14)\n",
    "plt.ylabel(\"$y$\", usetex=True,fontsize = 14)\n",
    "\n",
    "\n",
    "# fig.savefig('printing_path_2D.pdf', bbox_inches='tight')\n",
    "\n",
    "# show the plot\n",
    "plt.show()"
   ]
  },
  {
   "cell_type": "markdown",
   "metadata": {},
   "source": [
    "### get multi-layer printing path"
   ]
  },
  {
   "cell_type": "code",
   "execution_count": 16,
   "metadata": {},
   "outputs": [
    {
     "name": "stdout",
     "output_type": "stream",
     "text": [
      "4.0\n",
      "4.3\n",
      "4.6\n",
      "4.8999999999999995\n",
      "5.199999999999999\n",
      "5.499999999999999\n",
      "5.799999999999999\n",
      "6.099999999999999\n",
      "6.399999999999999\n",
      "6.699999999999998\n",
      "6.999999999999998\n",
      "7.299999999999998\n",
      "7.599999999999998\n",
      "7.899999999999998\n",
      "8.199999999999998\n",
      "8.499999999999996\n",
      "8.799999999999997\n",
      "9.099999999999998\n",
      "9.399999999999997\n",
      "9.699999999999996\n",
      "9.999999999999996\n",
      "10.299999999999997\n",
      "10.599999999999996\n",
      "10.899999999999995\n",
      "11.199999999999996\n",
      "11.499999999999996\n",
      "11.799999999999995\n",
      "12.099999999999994\n",
      "12.399999999999995\n",
      "12.699999999999996\n",
      "12.999999999999995\n",
      "13.299999999999994\n",
      "13.599999999999994\n",
      "13.899999999999995\n"
     ]
    }
   ],
   "source": [
    "x_full = []\n",
    "y_full = []\n",
    "z_full = []\n",
    "t_full = []\n",
    "\n",
    "dz = 0.3\n",
    "height_substrate = 4\n",
    "\n",
    "\n",
    "vertical_fill = True\n",
    "for z in np.arange(height_substrate, total_height, dz):\n",
    "    print(z)\n",
    "    if vertical_fill == True:\n",
    "#         get_outline_path_D(dt, dx, dy, z, v_outline,  x_full, y_full, z_full, t_full)\n",
    "        get_vertical_filling_path(dt, x_start, x_end, True, dx, dy, hatch_spacing, z, v_infill, v_outline, x_full, y_full, z_full, t_full)\n",
    "        vertical_fill = False\n",
    "    else:\n",
    "#         get_outline_path_B(dt, dx, dy, z, v_outline,  x_full, y_full, z_full, t_full)\n",
    "        get_horizontal_filling_path(dt, -y_start, -y_end, False, dx, dy, hatch_spacing, z, v_infill, v_outline, x_full, y_full, z_full, t_full)\n",
    "        vertical_fill = True\n",
    "\n",
    "\n",
    "# print(x_full)\n",
    "# print(y_full)\n",
    "# print(z_full)\n",
    "# print(t_full)"
   ]
  },
  {
   "cell_type": "code",
   "execution_count": 17,
   "metadata": {},
   "outputs": [
    {
     "data": {
      "image/png": "[encoded data removed]",
      "text/plain": [
       "<Figure size 432x288 with 1 Axes>"
      ]
     },
     "metadata": {
      "needs_background": "light"
     },
     "output_type": "display_data"
    }
   ],
   "source": [
    "# %matplotlib qt\n",
    "%matplotlib inline\n",
    "fig = plt.figure()\n",
    "ax = fig.add_subplot(111, projection='3d')\n",
    "ax.plot(x_full,y_full,z_full, '-or')\n",
    "ax.set_xlim([-3, 3])\n",
    "ax.set_ylim([-3, 3])\n",
    "ax.set_zlim([0, total_height])\n",
    "# ax.set_xticks([-10, -5, 0, 5, 10])\n",
    "# ax.set_yticks([-10, -5, 0, 5, 10])\n",
    "# ax.set_zticks([5, 7, 9, 11, 13, 15, 17, 19, 21, 23])\n",
    "ax.set_xlabel(\"$x$\", usetex=True, fontsize = 14)\n",
    "ax.set_ylabel(\"$y$\", usetex=True,fontsize = 14)\n",
    "ax.set_zlabel(\"$z$\", usetex=True,fontsize = 14)\n",
    "\n",
    "# fig.tight_layout()\n",
    "# fig.savefig('box_printing_path_3layers.pdf', bbox_inches='tight')\n",
    "\n",
    "# show the plot\n",
    "plt.show()"
   ]
  },
  {
   "cell_type": "markdown",
   "metadata": {},
   "source": [
    "### Get accumulated time"
   ]
  },
  {
   "cell_type": "code",
   "execution_count": 18,
   "metadata": {},
   "outputs": [
    {
     "name": "stdout",
     "output_type": "stream",
     "text": [
      "[  0.           0.62992126   0.66678326   1.29670452   1.33356653\n",
      "   1.96348779   2.00034979   2.63027105   2.66713305   3.29705431\n",
      "   3.33391632   3.96383758   4.00069958   4.63062084   4.66748285\n",
      "   5.29740411   5.33426611   5.96418737   6.00104937   6.63097063\n",
      "   6.65097063   7.28089189   7.3177539    7.94767516   7.98453716\n",
      "   8.61445842   8.65132042   9.28124168   9.31810369   9.94802495\n",
      "   9.98488695  10.61480821  10.65167021  11.28159147  11.31845348\n",
      "  11.94837474  11.98523674  12.615158    12.65202001  13.28194126\n",
      "  13.30194126  13.93186252  13.96872453  14.59864579  14.63550779\n",
      "  15.26542905  15.30229106  15.93221232  15.96907432  16.59899558\n",
      "  16.63585758  17.26577884  17.30264085  17.93256211  17.96942411\n",
      "  18.59934537  18.63620737  19.26612863  19.30299064  19.9329119\n",
      "  19.9529119   20.58283316  20.61969516  21.24961642  21.28647842\n",
      "  21.91639968  21.95326169  22.58318295  22.62004495  23.24996621\n",
      "  23.28682822  23.91674948  23.95361148  24.58353274  24.62039474\n",
      "  25.250316    25.28717801  25.91709927  25.95396127  26.58388253\n",
      "  26.60388253  27.23380379  27.27066579  27.90058705  27.93744906\n",
      "  28.56737032  28.60423232  29.23415358  29.27101558  29.90093684\n",
      "  29.93779885  30.56772011  30.60458211  31.23450337  31.27136538\n",
      "  31.90128664  31.93814864  32.5680699   32.6049319   33.23485316\n",
      "  33.25485316  33.88477442  33.92163643  34.55155769  34.58841969\n",
      "  35.21834095  35.25520295  35.88512421  35.92198622  36.55190748\n",
      "  36.58876948  37.21869074  37.25555274  37.885474    37.92233601\n",
      "  38.55225727  38.58911927  39.21904053  39.25590253  39.88582379\n",
      "  39.90582379  40.53574505  40.57260706  41.20252832  41.23939032\n",
      "  41.86931158  41.90617359  42.53609485  42.57295685  43.20287811\n",
      "  43.23974011  43.86966137  43.90652338  44.53644464  44.57330664\n",
      "  45.2032279   45.2400899   45.87001116  45.90687317  46.53679443\n",
      "  46.55679443  47.18671569  47.22357769  47.85349895  47.89036095\n",
      "  48.52028221  48.55714422  49.18706548  49.22392748  49.85384874\n",
      "  49.89071075  50.52063201  50.55749401  51.18741527  51.22427727\n",
      "  51.85419853  51.89106054  52.5209818   52.5578438   53.18776506\n",
      "  53.20776506  53.83768632  53.87454832  54.50446958  54.54133159\n",
      "  55.17125285  55.20811485  55.83803611  55.87489811  56.50481937\n",
      "  56.54168138  57.17160264  57.20846464  57.8383859   57.8752479\n",
      "  58.50516916  58.54203117  59.17195243  59.20881443  59.83873569\n",
      "  59.85873569  60.48865695  60.52551896  61.15544022  61.19230222\n",
      "  61.82222348  61.85908548  62.48900674  62.52586875  63.15579001\n",
      "  63.19265201  63.82257327  63.85943527  64.48935653  64.52621854\n",
      "  65.1561398   65.1930018   65.82292306  65.85978506  66.48970632\n",
      "  66.50970632  67.13962758  67.17648959  67.80641085  67.84327285\n",
      "  68.47319411  68.51005612  69.13997738  69.17683938  69.80676064\n",
      "  69.84362264  70.4735439   70.51040591  71.14032717  71.17718917\n",
      "  71.80711043  71.84397243  72.47389369  72.5107557   73.14067696\n",
      "  73.16067696  73.79059822  73.82746022  74.45738148  74.49424348\n",
      "  75.12416474  75.16102675  75.79094801  75.82781001  76.45773127\n",
      "  76.49459328  77.12451453  77.16137654  77.7912978   77.8281598\n",
      "  78.45808106  78.49494307  79.12486433  79.16172633  79.79164759\n",
      "  79.81164759  80.44156885  80.47843085  81.10835211  81.14521412\n",
      "  81.77513538  81.81199738  82.44191864  82.47878064  83.1087019\n",
      "  83.14556391  83.77548517  83.81234717  84.44226843  84.47913043\n",
      "  85.10905169  85.1459137   85.77583496  85.81269696  86.44261822\n",
      "  86.46261822  87.09253948  87.12940149  87.75932275  87.79618475\n",
      "  88.42610601  88.46296801  89.09288927  89.12975128  89.75967254\n",
      "  89.79653454  90.4264558   90.4633178   91.09323906  91.13010107\n",
      "  91.76002233  91.79688433  92.42680559  92.46366759  93.09358885\n",
      "  93.11358885  93.74351011  93.78037212  94.41029338  94.44715538\n",
      "  95.07707664  95.11393865  95.74385991  95.78072191  96.41064317\n",
      "  96.44750517  97.07742643  97.11428844  97.7442097   97.7810717\n",
      "  98.41099296  98.44785496  99.07777622  99.11463823  99.74455949\n",
      "  99.76455949 100.39448075 100.43134275 101.06126401 101.09812601\n",
      " 101.72804727 101.76490928 102.39483054 102.43169254 103.0616138\n",
      " 103.0984758  103.72839706 103.76525907 104.39518033 104.43204233\n",
      " 105.06196359 105.0988256  105.72874686 105.76560886 106.39553012\n",
      " 106.41553012 107.04545138 107.08231338 107.71223464 107.74909665\n",
      " 108.37901791 108.41587991 109.04580117 109.08266317 109.71258443\n",
      " 109.74944644 110.3793677  110.4162297  111.04615096 111.08301296\n",
      " 111.71293422 111.74979623 112.37971749 112.41657949 113.04650075\n",
      " 113.06650075 113.69642201 113.73328402 114.36320528 114.40006728\n",
      " 115.02998854 115.06685054 115.6967718  115.73363381 116.36355507\n",
      " 116.40041707 117.03033833 117.06720033 117.69712159 117.7339836\n",
      " 118.36390486 118.40076686 119.03068812 119.06755012 119.69747138\n",
      " 119.71747138 120.34739264 120.38425465 121.01417591 121.05103791\n",
      " 121.68095917 121.71782117 122.34774243 122.38460444 123.0145257\n",
      " 123.0513877  123.68130896 123.71817097 124.34809223 124.38495423\n",
      " 125.01487549 125.05173749 125.68165875 125.71852076 126.34844202\n",
      " 126.36844202 126.99836328 127.03522528 127.66514654 127.70200854\n",
      " 128.3319298  128.36879181 128.99871307 129.03557507 129.66549633\n",
      " 129.70235833 130.33227959 130.3691416  130.99906286 131.03592486\n",
      " 131.66584612 131.70270813 132.33262939 132.36949139 132.99941265\n",
      " 133.01941265 133.64933391 133.68619591 134.31611717 134.35297918\n",
      " 134.98290044 135.01976244 135.6496837  135.6865457  136.31646696\n",
      " 136.35332897 136.98325023 137.02011223 137.65003349 137.68689549\n",
      " 138.31681675 138.35367876 138.98360002 139.02046202 139.65038328\n",
      " 139.67038328 140.30030454 140.33716655 140.9670878  141.00394981\n",
      " 141.63387107 141.67073307 142.30065433 142.33751634 142.9674376\n",
      " 143.0042996  143.63422086 143.67108286 144.30100412 144.33786613\n",
      " 144.96778739 145.00464939 145.63457065 145.67143265 146.30135391\n",
      " 146.32135391 146.95127517 146.98813718 147.61805844 147.65492044\n",
      " 148.2848417  148.3217037  148.95162496 148.98848697 149.61840823\n",
      " 149.65527023 150.28519149 150.3220535  150.95197476 150.98883676\n",
      " 151.61875802 151.65562002 152.28554128 152.32240329 152.95232455\n",
      " 152.97232455 153.60224581 153.63910781 154.26902907 154.30589107\n",
      " 154.93581233 154.97267434 155.6025956  155.6394576  156.26937886\n",
      " 156.30624086 156.93616212 156.97302413 157.60294539 157.63980739\n",
      " 158.26972865 158.30659066 158.93651192 158.97337392 159.60329518\n",
      " 159.62329518 160.25321644 160.29007844 160.9199997  160.95686171\n",
      " 161.58678297 161.62364497 162.25356623 162.29042823 162.92034949\n",
      " 162.9572115  163.58713276 163.62399476 164.25391602 164.29077802\n",
      " 164.92069928 164.95756129 165.58748255 165.62434455 166.25426581\n",
      " 166.27426581 166.90418707 166.94104907 167.57097033 167.60783234\n",
      " 168.2377536  168.2746156  168.90453686 168.94139887 169.57132013\n",
      " 169.60818213 170.23810339 170.27496539 170.90488665 170.94174866\n",
      " 171.57166992 171.60853192 172.23845318 172.27531518 172.90523644\n",
      " 172.92523644 173.5551577  173.59201971 174.22194097 174.25880297\n",
      " 174.88872423 174.92558623 175.55550749 175.5923695  176.22229076\n",
      " 176.25915276 176.88907402 176.92593603 177.55585729 177.59271929\n",
      " 178.22264055 178.25950255 178.88942381 178.92628582 179.55620708\n",
      " 179.57620708 180.20612834 180.24299034 180.8729116  180.9097736\n",
      " 181.53969486 181.57655687 182.20647813 182.24334013 182.87326139\n",
      " 182.91012339 183.54004465 183.57690666 184.20682792 184.24368992\n",
      " 184.87361118 184.91047319 185.54039445 185.57725645 186.20717771\n",
      " 186.22717771 186.85709897 186.89396097 187.52388223 187.56074424\n",
      " 188.1906655  188.2275275  188.85744876 188.89431076 189.52423202\n",
      " 189.56109403 190.19101529 190.22787729 190.85779855 190.89466055\n",
      " 191.52458181 191.56144382 192.19136508 192.22822708 192.85814834\n",
      " 192.87814834 193.5080696  193.5449316  194.17485286 194.21171487\n",
      " 194.84163613 194.87849813 195.50841939 195.5452814  196.17520266\n",
      " 196.21206466 196.84198592 196.87884792 197.50876918 197.54563119\n",
      " 198.17555245 198.21241445 198.84233571 198.87919771 199.50911897\n",
      " 199.52911897 200.15904023 200.19590224 200.8258235  200.8626855\n",
      " 201.49260676 201.52946876 202.15939002 202.19625203 202.82617329\n",
      " 202.86303529 203.49295655 203.52981856 204.15973982 204.19660182\n",
      " 204.82652308 204.86338508 205.49330634 205.53016835 206.16008961\n",
      " 206.18008961 206.81001087 206.84687287 207.47679413 207.51365613\n",
      " 208.14357739 208.1804394  208.81036066 208.84722266 209.47714392\n",
      " 209.51400592 210.14392718 210.18078919 210.81071045 210.84757245\n",
      " 211.47749371 211.51435571 212.14427697 212.18113898 212.81106024\n",
      " 212.83106024 213.4609815  213.4978435  214.12776476 214.16462677\n",
      " 214.79454803 214.83141003 215.46133129 215.49819329 216.12811455\n",
      " 216.16497656 216.79489782 216.83175982 217.46168108 217.49854308\n",
      " 218.12846434 218.16532635 218.79524761 218.83210961 219.46203087\n",
      " 219.48203087 220.11195213 220.14881413 220.77873539 220.8155974\n",
      " 221.44551866 221.48238066 222.11230192 222.14916393 222.77908519\n",
      " 222.81594719 223.44586845 223.48273045 224.11265171 224.14951372\n",
      " 224.77943498 224.81629698 225.44621824 225.48308024 226.1130015 ]\n"
     ]
    }
   ],
   "source": [
    "t_full[0] = 0\n",
    "t_accum = np.cumsum(t_full,axis=0)\n",
    "print(t_accum)"
   ]
  },
  {
   "cell_type": "code",
   "execution_count": 19,
   "metadata": {},
   "outputs": [],
   "source": [
    "xt_data=np.vstack((t_accum, x_full)).T\n",
    "xt_df=pd.DataFrame(xt_data)\n",
    "\n",
    "yt_data=np.vstack((t_accum, y_full)).T\n",
    "yt_df=pd.DataFrame(yt_data)\n",
    "\n",
    "zt_data=np.vstack((t_accum, z_full)).T\n",
    "zt_df=pd.DataFrame(zt_data)"
   ]
  },
  {
   "cell_type": "code",
   "execution_count": 20,
   "metadata": {},
   "outputs": [],
   "source": [
    "xt_df.to_csv('path_x.csv', index=False, header=False)\n",
    "yt_df.to_csv('path_y.csv', index=False, header=False)\n",
    "zt_df.to_csv('path_z.csv', index=False, header=False)"
   ]
  }
 ],
 "metadata": {
  "kernelspec": {
   "display_name": "Python 3",
   "language": "python",
   "name": "python3"
  },
  "language_info": {
   "codemirror_mode": {
    "name": "ipython",
    "version": 3
   },
   "file_extension": ".py",
   "mimetype": "text/x-python",
   "name": "python",
   "nbconvert_exporter": "python",
   "pygments_lexer": "ipython3",
   "version": "3.7.8"
  }
 },
 "nbformat": 4,
 "nbformat_minor": 4
}
