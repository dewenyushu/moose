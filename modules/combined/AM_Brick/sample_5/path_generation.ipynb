{
 "cells": [
  {
   "cell_type": "code",
   "execution_count": 1,
   "metadata": {},
   "outputs": [],
   "source": [
    "import numpy as np\n",
    "import pandas as pd\n",
    "import matplotlib.pyplot as plt\n",
    "from mpl_toolkits.mplot3d import Axes3D\n",
    "import csv"
   ]
  },
  {
   "cell_type": "code",
   "execution_count": 2,
   "metadata": {},
   "outputs": [],
   "source": [
    "from matplotlib import rcParams\n",
    "rcParams['font.family'] = 'Serif'"
   ]
  },
  {
   "cell_type": "markdown",
   "metadata": {},
   "source": [
    "## Product parameter"
   ]
  },
  {
   "cell_type": "code",
   "execution_count": 3,
   "metadata": {},
   "outputs": [],
   "source": [
    "dx = [-2, 2] #mm\n",
    "\n",
    "dy = [-2, 2] #mm\n",
    "\n",
    "dz = [4, 16] # mm"
   ]
  },
  {
   "cell_type": "markdown",
   "metadata": {},
   "source": [
    "## Printing parameter"
   ]
  },
  {
   "cell_type": "code",
   "execution_count": 4,
   "metadata": {},
   "outputs": [],
   "source": [
    "h = 0.3 # layer thickness, mm\n",
    "\n",
    "d = 0.33 # hatch spacing, mm\n",
    "\n",
    "v_infill = 6.35 # infill scanning speed, mm/s\n",
    "\n",
    "v_outline = 10.58"
   ]
  },
  {
   "cell_type": "markdown",
   "metadata": {},
   "source": [
    "## Produce parallel scanning path\n",
    "\n",
    "### 1. outline"
   ]
  },
  {
   "cell_type": "code",
   "execution_count": 5,
   "metadata": {},
   "outputs": [],
   "source": [
    "def get_outline_path_A(dt, dx, dy, height, v_outline, x_full, y_full, z_full, t_full):\n",
    "    Lx = dx[1] - dx[0]\n",
    "    Ly = dy[1] - dy[0]\n",
    "    # assume A -> B-> C-> D as\n",
    "    # C --- B\n",
    "    # |     |\n",
    "    # D --- A\n",
    "    x_full.extend([dx[1], dx[1], dx[0], dx[0], dx[1]])\n",
    "    y_full.extend([dy[0], dy[1], dy[1], dy[0], dy[0]])\n",
    "    z_full.extend([height, height, height, height, height])\n",
    "    \n",
    "    t_full.append(dt)\n",
    "    t_full.append(Ly/v_outline)\n",
    "    t_full.append(Lx/v_outline)\n",
    "    t_full.append(Ly/v_outline)\n",
    "    t_full.append(Lx/v_outline)"
   ]
  },
  {
   "cell_type": "code",
   "execution_count": 6,
   "metadata": {},
   "outputs": [],
   "source": [
    "def get_outline_path_B(dt, dx, dy, height, v_outline, x_full, y_full, z_full, t_full):\n",
    "    Lx = dx[1] - dx[0]\n",
    "    Ly = dy[1] - dy[0]\n",
    "    # assume A -> B-> C-> D as\n",
    "    # C --- B\n",
    "    # |     |\n",
    "    # D --- A\n",
    "    x_full.extend([dx[1], dx[0], dx[0], dx[1], dx[1]])\n",
    "    y_full.extend([dy[1], dy[1], dy[0], dy[0], dy[1]])\n",
    "    z_full.extend([height, height, height, height, height])\n",
    "    \n",
    "    t_full.append(dt)\n",
    "    t_full.append(Lx/v_outline)\n",
    "    t_full.append(Ly/v_outline)\n",
    "    t_full.append(Lx/v_outline)\n",
    "    t_full.append(Ly/v_outline)"
   ]
  },
  {
   "cell_type": "code",
   "execution_count": 7,
   "metadata": {},
   "outputs": [],
   "source": [
    "def get_outline_path_C(dt, dx, dy, height, v_outline, x_full, y_full, z_full, t_full):\n",
    "    Lx = dx[1] - dx[0]\n",
    "    Ly = dy[1] - dy[0]\n",
    "    # assume A -> B-> C-> D as\n",
    "    # C --- B\n",
    "    # |     |\n",
    "    # D --- A\n",
    "    x_full.extend([ dx[0], dx[0], dx[1], dx[1], dx[0]])\n",
    "    y_full.extend([ dy[1], dy[0], dy[0], dy[1], dy[1]])\n",
    "    z_full.extend([height, height, height, height, height])\n",
    "    \n",
    "    t_full.append(dt)\n",
    "    t_full.append(Ly/v_outline)\n",
    "    t_full.append(Lx/v_outline)\n",
    "    t_full.append(Ly/v_outline)\n",
    "    t_full.append(Lx/v_outline)"
   ]
  },
  {
   "cell_type": "code",
   "execution_count": 8,
   "metadata": {},
   "outputs": [],
   "source": [
    "def get_outline_path_D(dt, dx, dy, height, v_outline, x_full, y_full, z_full, t_full):\n",
    "    Lx = dx[1] - dx[0]\n",
    "    Ly = dy[1] - dy[0]\n",
    "    # assume A -> B-> C-> D as\n",
    "    # C --- B\n",
    "    # |     |\n",
    "    # D --- A\n",
    "    x_full.extend([  dx[0], dx[1], dx[1], dx[0], dx[0]])\n",
    "    y_full.extend([  dy[0], dy[0], dy[1], dy[1], dy[0]])\n",
    "    z_full.extend([height, height, height, height, height])\n",
    "    \n",
    "    t_full.append(dt)\n",
    "    t_full.append(Lx/v_outline)\n",
    "    t_full.append(Ly/v_outline)\n",
    "    t_full.append(Lx/v_outline)\n",
    "    t_full.append(Ly/v_outline)"
   ]
  },
  {
   "cell_type": "markdown",
   "metadata": {},
   "source": [
    "### 2. filling path"
   ]
  },
  {
   "cell_type": "code",
   "execution_count": 9,
   "metadata": {},
   "outputs": [],
   "source": [
    "def get_horizontal_filling_path(dt, y_start, y_end, move_right,  dx, dy, hatch_spacing, height, v_infill, v_outline, x_full, y_full, z_full, t_full):\n",
    "    Lx = dx[1] - dx[0]\n",
    "    Ly = dy[1] - dy[0]\n",
    "    t_vert = hatch_spacing/v_outline\n",
    "    t_hor = Lx/v_infill\n",
    "    t_full.append(dt)\n",
    "    if move_right == False:\n",
    "        hatch_spacing = - hatch_spacing\n",
    "    for y in np.arange(y_start, y_end, hatch_spacing):\n",
    "        y_full.extend([y,y])\n",
    "        if move_right == True:\n",
    "            x_full.extend(dx)\n",
    "            move_right=False\n",
    "        else:\n",
    "            x_full.extend([dx[1], dx[0]])\n",
    "            move_right=True\n",
    "        z_full.extend([height, height])\n",
    "        t_full.extend([t_hor, t_vert])\n",
    "    del t_full[-1]"
   ]
  },
  {
   "cell_type": "code",
   "execution_count": 10,
   "metadata": {},
   "outputs": [],
   "source": [
    "def get_vertical_filling_path(dt, x_start, x_end, move_up, dx, dy, hatch_spacing, height, v_infill, v_outline, x_full, y_full, z_full, t_full):\n",
    "    Lx = dx[1] - dx[0]\n",
    "    Ly = dy[1] - dy[0]\n",
    "    t_hor = hatch_spacing/v_outline\n",
    "    t_vert = Ly/v_infill\n",
    "    t_full.append(dt)\n",
    "    if move_up == False:\n",
    "        hatch_spacing = -hatch_spacing\n",
    "    for x in np.arange(x_start, x_end, hatch_spacing):\n",
    "        x_full.extend([x,x])\n",
    "        if move_up == True:\n",
    "            y_full.extend(dy)\n",
    "            move_up=False\n",
    "        else:\n",
    "            y_full.extend([dy[1], dy[0]])\n",
    "            move_up=True\n",
    "        z_full.extend([height, height])\n",
    "        t_full.extend([t_vert, t_hor])\n",
    "    del t_full[-1]"
   ]
  },
  {
   "cell_type": "code",
   "execution_count": 11,
   "metadata": {},
   "outputs": [],
   "source": [
    "x_full = []\n",
    "y_full = []\n",
    "z_full = []\n",
    "t_full = []\n",
    "\n",
    "x_start = -1.8\n",
    "x_end = 2.0\n",
    "y_start = -1.8\n",
    "y_end = 2.0\n",
    "hatch_spacing = 0.33\n",
    "\n",
    "height = 0.0\n",
    "\n",
    "total_height = 16\n",
    "\n",
    "dt = 0.01;\n",
    "\n",
    "# get_outline_path_D(dx, dy, 0.0, v_outline,  x_full, y_full, z_full, t_full)\n",
    "\n",
    "\n",
    "\n",
    "# get_outline_path_B(dx, dy, 0.3, v_outline, dt,  x_full, y_full, z_full, t_full)\n",
    "\n",
    "# print(x_full)\n",
    "# print(y_full)\n",
    "# print(z_full)\n",
    "# print(t_full)"
   ]
  },
  {
   "cell_type": "markdown",
   "metadata": {},
   "source": [
    "### get one-layer printing path"
   ]
  },
  {
   "cell_type": "code",
   "execution_count": 12,
   "metadata": {},
   "outputs": [
    {
     "name": "stdout",
     "output_type": "stream",
     "text": [
      "[-1.8, -1.8, -1.47, -1.47, -1.14, -1.14, -0.8099999999999998, -0.8099999999999998, -0.47999999999999976, -0.47999999999999976, -0.1499999999999997, -0.1499999999999997, 0.18000000000000038, 0.18000000000000038, 0.5100000000000005, 0.5100000000000005, 0.8400000000000005, 0.8400000000000005, 1.1700000000000006, 1.1700000000000006, 1.5000000000000007, 1.5000000000000007, 1.8300000000000007, 1.8300000000000007]\n",
      "[-2, 2, 2, -2, -2, 2, 2, -2, -2, 2, 2, -2, -2, 2, 2, -2, -2, 2, 2, -2, -2, 2, 2, -2]\n",
      "[0.0, 0.0, 0.0, 0.0, 0.0, 0.0, 0.0, 0.0, 0.0, 0.0, 0.0, 0.0, 0.0, 0.0, 0.0, 0.0, 0.0, 0.0, 0.0, 0.0, 0.0, 0.0, 0.0, 0.0]\n",
      "[0.01, 0.6299212598425197, 0.03119092627599244, 0.6299212598425197, 0.03119092627599244, 0.6299212598425197, 0.03119092627599244, 0.6299212598425197, 0.03119092627599244, 0.6299212598425197, 0.03119092627599244, 0.6299212598425197, 0.03119092627599244, 0.6299212598425197, 0.03119092627599244, 0.6299212598425197, 0.03119092627599244, 0.6299212598425197, 0.03119092627599244, 0.6299212598425197, 0.03119092627599244, 0.6299212598425197, 0.03119092627599244, 0.6299212598425197]\n"
     ]
    }
   ],
   "source": [
    "x_full = []\n",
    "y_full = []\n",
    "z_full = []\n",
    "t_full = []\n",
    "\n",
    "# get_outline_path_D(dt, dx, dy, height, v_outline,  x_full, y_full, z_full, t_full)\n",
    "get_vertical_filling_path(dt, x_start, x_end, True, dx, dy, hatch_spacing, height, v_infill, v_outline, x_full, y_full, z_full, t_full)\n",
    "# dt = 0.1;\n",
    "# get_outline_path_B(dt, dx, dy, height+0.3, v_outline,  x_full, y_full, z_full, t_full)\n",
    "# get_horizontal_filling_path(2.0, -1.8, False, dx, dy, hatch_spacing, height+0.3, v_infill, x_full, y_full, z_full, t_full)\n",
    "\n",
    "print(x_full)\n",
    "print(y_full)\n",
    "print(z_full)\n",
    "print(t_full)"
   ]
  },
  {
   "cell_type": "code",
   "execution_count": 13,
   "metadata": {},
   "outputs": [
    {
     "data": {
      "image/png": "[encoded data removed]",
      "text/plain": [
       "<Figure size 432x288 with 1 Axes>"
      ]
     },
     "metadata": {
      "needs_background": "light"
     },
     "output_type": "display_data"
    }
   ],
   "source": [
    "# %matplotlib qt\n",
    "%matplotlib inline\n",
    "fig = plt.figure()\n",
    "# ax = fig.add_subplot(111, projection='3d')\n",
    "# ax.plot(x,y,z, '-or')\n",
    "plt.plot(x_full,y_full, ':or')\n",
    "# plt.axis('equal')\n",
    "plt.axis([-2, 2, -2, 2])\n",
    "# plt.xticks([-10, -5, 0, 5, 10])\n",
    "# plt.yticks([-10, -5, 0, 5, 10])\n",
    "plt.gca().set_aspect('equal', adjustable='box')\n",
    "plt.xlabel(\"$x$\", usetex=True, fontsize = 14)\n",
    "plt.ylabel(\"$y$\", usetex=True,fontsize = 14)\n",
    "\n",
    "\n",
    "# fig.savefig('printing_path_2D.pdf', bbox_inches='tight')\n",
    "\n",
    "# show the plot\n",
    "plt.show()"
   ]
  },
  {
   "cell_type": "code",
   "execution_count": 14,
   "metadata": {},
   "outputs": [
    {
     "name": "stdout",
     "output_type": "stream",
     "text": [
      "[2, -2, -2, 2, 2, -2, -2, 2, 2, -2, -2, 2, 2, -2, -2, 2, 2, -2, -2, 2, 2, -2, -2, 2]\n",
      "[1.8, 1.8, 1.47, 1.47, 1.14, 1.14, 0.8099999999999998, 0.8099999999999998, 0.47999999999999976, 0.47999999999999976, 0.1499999999999997, 0.1499999999999997, -0.18000000000000038, -0.18000000000000038, -0.5100000000000005, -0.5100000000000005, -0.8400000000000005, -0.8400000000000005, -1.1700000000000006, -1.1700000000000006, -1.5000000000000007, -1.5000000000000007, -1.8300000000000007, -1.8300000000000007]\n",
      "[0.0, 0.0, 0.0, 0.0, 0.0, 0.0, 0.0, 0.0, 0.0, 0.0, 0.0, 0.0, 0.0, 0.0, 0.0, 0.0, 0.0, 0.0, 0.0, 0.0, 0.0, 0.0, 0.0, 0.0]\n",
      "[0.01, 0.6299212598425197, 0.03119092627599244, 0.6299212598425197, 0.03119092627599244, 0.6299212598425197, 0.03119092627599244, 0.6299212598425197, 0.03119092627599244, 0.6299212598425197, 0.03119092627599244, 0.6299212598425197, 0.03119092627599244, 0.6299212598425197, 0.03119092627599244, 0.6299212598425197, 0.03119092627599244, 0.6299212598425197, 0.03119092627599244, 0.6299212598425197, 0.03119092627599244, 0.6299212598425197, 0.03119092627599244, 0.6299212598425197]\n"
     ]
    }
   ],
   "source": [
    "x_full = []\n",
    "y_full = []\n",
    "z_full = []\n",
    "t_full = []\n",
    "\n",
    "get_horizontal_filling_path(dt, -y_start, -y_end, False, dx, dy, hatch_spacing, 0.0, v_infill, v_outline, x_full, y_full, z_full, t_full)\n",
    "\n",
    "print(x_full)\n",
    "print(y_full)\n",
    "print(z_full)\n",
    "print(t_full)"
   ]
  },
  {
   "cell_type": "code",
   "execution_count": 15,
   "metadata": {},
   "outputs": [
    {
     "data": {
      "image/png": "[encoded data removed]",
      "text/plain": [
       "<Figure size 432x288 with 1 Axes>"
      ]
     },
     "metadata": {
      "needs_background": "light"
     },
     "output_type": "display_data"
    }
   ],
   "source": [
    "# %matplotlib qt\n",
    "%matplotlib inline\n",
    "fig = plt.figure()\n",
    "# ax = fig.add_subplot(111, projection='3d')\n",
    "# ax.plot(x,y,z, '-or')\n",
    "plt.plot(x_full,y_full, ':or')\n",
    "# plt.axis('equal')\n",
    "plt.axis([-2, 2, -2, 2])\n",
    "# plt.xticks([-10, -5, 0, 5, 10])\n",
    "# plt.yticks([-10, -5, 0, 5, 10])\n",
    "plt.gca().set_aspect('equal', adjustable='box')\n",
    "plt.xlabel(\"$x$\", usetex=True, fontsize = 14)\n",
    "plt.ylabel(\"$y$\", usetex=True,fontsize = 14)\n",
    "\n",
    "\n",
    "# fig.savefig('printing_path_2D.pdf', bbox_inches='tight')\n",
    "\n",
    "# show the plot\n",
    "plt.show()"
   ]
  },
  {
   "cell_type": "markdown",
   "metadata": {},
   "source": [
    "### get multi-layer printing path"
   ]
  },
  {
   "cell_type": "code",
   "execution_count": 16,
   "metadata": {},
   "outputs": [
    {
     "name": "stdout",
     "output_type": "stream",
     "text": [
      "4.0\n",
      "4.3\n",
      "4.6\n",
      "4.8999999999999995\n",
      "5.199999999999999\n",
      "5.499999999999999\n",
      "5.799999999999999\n",
      "6.099999999999999\n",
      "6.399999999999999\n",
      "6.699999999999998\n",
      "6.999999999999998\n",
      "7.299999999999998\n",
      "7.599999999999998\n",
      "7.899999999999998\n",
      "8.199999999999998\n",
      "8.499999999999996\n",
      "8.799999999999997\n",
      "9.099999999999998\n",
      "9.399999999999997\n",
      "9.699999999999996\n",
      "9.999999999999996\n",
      "10.299999999999997\n",
      "10.599999999999996\n",
      "10.899999999999995\n",
      "11.199999999999996\n",
      "11.499999999999996\n",
      "11.799999999999995\n",
      "12.099999999999994\n",
      "12.399999999999995\n",
      "12.699999999999996\n",
      "12.999999999999995\n",
      "13.299999999999994\n",
      "13.599999999999994\n",
      "13.899999999999995\n",
      "14.199999999999994\n",
      "14.499999999999993\n",
      "14.799999999999994\n",
      "15.099999999999994\n",
      "15.399999999999993\n",
      "15.699999999999992\n"
     ]
    }
   ],
   "source": [
    "x_full = []\n",
    "y_full = []\n",
    "z_full = []\n",
    "t_full = []\n",
    "\n",
    "dz = 0.3\n",
    "height_substrate = 4\n",
    "\n",
    "\n",
    "vertical_fill = True\n",
    "for z in np.arange(height_substrate, total_height, dz):\n",
    "    print(z)\n",
    "    if vertical_fill == True:\n",
    "#         get_outline_path_D(dt, dx, dy, z, v_outline,  x_full, y_full, z_full, t_full)\n",
    "        get_vertical_filling_path(dt, x_start, x_end, True, dx, dy, hatch_spacing, z, v_infill, v_outline, x_full, y_full, z_full, t_full)\n",
    "        vertical_fill = False\n",
    "    else:\n",
    "#         get_outline_path_B(dt, dx, dy, z, v_outline,  x_full, y_full, z_full, t_full)\n",
    "        get_horizontal_filling_path(dt, -y_start, -y_end, False, dx, dy, hatch_spacing, z, v_infill, v_outline, x_full, y_full, z_full, t_full)\n",
    "        vertical_fill = True\n",
    "\n",
    "\n",
    "# print(x_full)\n",
    "# print(y_full)\n",
    "# print(z_full)\n",
    "# print(t_full)"
   ]
  },
  {
   "cell_type": "code",
   "execution_count": 17,
   "metadata": {},
   "outputs": [
    {
     "data": {
      "image/png": "[encoded data removed]",
      "text/plain": [
       "<Figure size 432x288 with 1 Axes>"
      ]
     },
     "metadata": {
      "needs_background": "light"
     },
     "output_type": "display_data"
    }
   ],
   "source": [
    "# %matplotlib qt\n",
    "%matplotlib inline\n",
    "fig = plt.figure()\n",
    "ax = fig.add_subplot(111, projection='3d')\n",
    "ax.plot(x_full,y_full,z_full, '-or')\n",
    "ax.set_xlim([-3, 3])\n",
    "ax.set_ylim([-3, 3])\n",
    "ax.set_zlim([0, total_height])\n",
    "# ax.set_xticks([-10, -5, 0, 5, 10])\n",
    "# ax.set_yticks([-10, -5, 0, 5, 10])\n",
    "# ax.set_zticks([5, 7, 9, 11, 13, 15, 17, 19, 21, 23])\n",
    "ax.set_xlabel(\"$x$\", usetex=True, fontsize = 14)\n",
    "ax.set_ylabel(\"$y$\", usetex=True,fontsize = 14)\n",
    "ax.set_zlabel(\"$z$\", usetex=True,fontsize = 14)\n",
    "\n",
    "# fig.tight_layout()\n",
    "# fig.savefig('box_printing_path_3layers.pdf', bbox_inches='tight')\n",
    "\n",
    "# show the plot\n",
    "plt.show()"
   ]
  },
  {
   "cell_type": "markdown",
   "metadata": {},
   "source": [
    "### Get accumulated time"
   ]
  },
  {
   "cell_type": "code",
   "execution_count": 18,
   "metadata": {},
   "outputs": [
    {
     "name": "stdout",
     "output_type": "stream",
     "text": [
      "[  0.           0.62992126   0.66111219   1.29103345   1.32222437\n",
      "   1.95214563   1.98333656   2.61325782   2.64444874   3.27437\n",
      "   3.30556093   3.93548219   3.96667312   4.59659438   4.6277853\n",
      "   5.25770656   5.28889749   5.91881875   5.95000968   6.57993093\n",
      "   6.61112186   7.24104312   7.27223405   7.90215531   7.91215531\n",
      "   8.54207657   8.57326749   9.20318875   9.23437968   9.86430094\n",
      "   9.89549187  10.52541313  10.55660405  11.18652531  11.21771624\n",
      "  11.8476375   11.87882842  12.50874968  12.53994061  13.16986187\n",
      "  13.2010528   13.83097406  13.86216498  14.49208624  14.52327717\n",
      "  15.15319843  15.18438935  15.81431061  15.82431061  16.45423187\n",
      "  16.4854228   17.11534406  17.14653499  17.77645625  17.80764717\n",
      "  18.43756843  18.46875936  19.09868062  19.12987154  19.7597928\n",
      "  19.79098373  20.42090499  20.45209592  21.08201718  21.1132081\n",
      "  21.74312936  21.77432029  22.40424155  22.43543248  23.06535374\n",
      "  23.09654466  23.72646592  23.73646592  24.36638718  24.39757811\n",
      "  25.02749937  25.05869029  25.68861155  25.71980248  26.34972374\n",
      "  26.38091467  27.01083593  27.04202685  27.67194811  27.70313904\n",
      "  28.3330603   28.36425122  28.99417248  29.02536341  29.65528467\n",
      "  29.6864756   30.31639686  30.34758778  30.97750904  31.00869997\n",
      "  31.63862123  31.64862123  32.27854249  32.30973341  32.93965467\n",
      "  32.9708456   33.60076686  33.63195779  34.26187905  34.29306997\n",
      "  34.92299123  34.95418216  35.58410342  35.61529435  36.24521561\n",
      "  36.27640653  36.90632779  36.93751872  37.56743998  37.5986309\n",
      "  38.22855216  38.25974309  38.88966435  38.92085528  39.55077654\n",
      "  39.56077654  40.1906978   40.22188872  40.85180998  40.88300091\n",
      "  41.51292217  41.54411309  42.17403435  42.20522528  42.83514654\n",
      "  42.86633747  43.49625873  43.52744965  44.15737091  44.18856184\n",
      "  44.8184831   44.84967402  45.47959528  45.51078621  46.14070747\n",
      "  46.1718984   46.80181966  46.83301058  47.46293184  47.47293184\n",
      "  48.1028531   48.13404403  48.76396529  48.79515622  49.42507747\n",
      "  49.4562684   50.08618966  50.11738059  50.74730185  50.77849277\n",
      "  51.40841403  51.43960496  52.06952622  52.10071715  52.73063841\n",
      "  52.76182933  53.39175059  53.42294152  54.05286278  54.0840537\n",
      "  54.71397496  54.74516589  55.37508715  55.38508715  56.01500841\n",
      "  56.04619934  56.6761206   56.70731152  57.33723278  57.36842371\n",
      "  57.99834497  58.02953589  58.65945715  58.69064808  59.32056934\n",
      "  59.35176027  59.98168153  60.01287245  60.64279371  60.67398464\n",
      "  61.3039059   61.33509683  61.96501808  61.99620901  62.62613027\n",
      "  62.6573212   63.28724246  63.29724246  63.92716372  63.95835464\n",
      "  64.5882759   64.61946683  65.24938809  65.28057902  65.91050028\n",
      "  65.9416912   66.57161246  66.60280339  67.23272465  67.26391557\n",
      "  67.89383683  67.92502776  68.55494902  68.58613995  69.21606121\n",
      "  69.24725213  69.87717339  69.90836432  70.53828558  70.5694765\n",
      "  71.19939776  71.20939776  71.83931902  71.87050995  72.50043121\n",
      "  72.53162214  73.1615434   73.19273432  73.82265558  73.85384651\n",
      "  74.48376777  74.51495869  75.14487995  75.17607088  75.80599214\n",
      "  75.83718307  76.46710433  76.49829525  77.12821651  77.15940744\n",
      "  77.7893287   77.82051963  78.45044089  78.48163181  79.11155307\n",
      "  79.12155307  79.75147433  79.78266526  80.41258652  80.44377744\n",
      "  81.0736987   81.10488963  81.73481089  81.76600182  82.39592308\n",
      "  82.427114    83.05703526  83.08822619  83.71814745  83.74933837\n",
      "  84.37925963  84.41045056  85.04037182  85.07156275  85.70148401\n",
      "  85.73267493  86.36259619  86.39378712  87.02370838  87.03370838\n",
      "  87.66362964  87.69482056  88.32474182  88.35593275  88.98585401\n",
      "  89.01704494  89.6469662   89.67815712  90.30807838  90.33926931\n",
      "  90.96919057  91.0003815   91.63030276  91.66149368  92.29141494\n",
      "  92.32260587  92.95252713  92.98371805  93.61363931  93.64483024\n",
      "  94.2747515   94.30594243  94.93586369  94.94586369  95.57578495\n",
      "  95.60697587  96.23689713  96.26808806  96.89800932  96.92920024\n",
      "  97.5591215   97.59031243  98.22023369  98.25142462  98.88134588\n",
      "  98.9125368   99.54245806  99.57364899 100.20357025 100.23476117\n",
      " 100.86468243 100.89587336 101.52579462 101.55698555 102.18690681\n",
      " 102.21809773 102.84801899 102.85801899 103.48794025 103.51913118\n",
      " 104.14905244 104.18024337 104.81016462 104.84135555 105.47127681\n",
      " 105.50246774 106.132389   106.16357992 106.79350118 106.82469211\n",
      " 107.45461337 107.4858043  108.11572556 108.14691648 108.77683774\n",
      " 108.80802867 109.43794993 109.46914085 110.09906211 110.13025304\n",
      " 110.7601743  110.7701743  111.40009556 111.43128649 112.06120775\n",
      " 112.09239867 112.72231993 112.75351086 113.38343212 113.41462304\n",
      " 114.0445443  114.07573523 114.70565649 114.73684742 115.36676868\n",
      " 115.3979596  116.02788086 116.05907179 116.68899305 116.72018398\n",
      " 117.35010523 117.38129616 118.01121742 118.04240835 118.67232961\n",
      " 118.68232961 119.31225087 119.34344179 119.97336305 120.00455398\n",
      " 120.63447524 120.66566617 121.29558743 121.32677835 121.95669961\n",
      " 121.98789054 122.6178118  122.64900272 123.27892398 123.31011491\n",
      " 123.94003617 123.9712271  124.60114836 124.63233928 125.26226054\n",
      " 125.29345147 125.92337273 125.95456365 126.58448491 126.59448491\n",
      " 127.22440617 127.2555971  127.88551836 127.91670929 128.54663055\n",
      " 128.57782147 129.20774273 129.23893366 129.86885492 129.90004584\n",
      " 130.5299671  130.56115803 131.19107929 131.22227022 131.85219148\n",
      " 131.8833824  132.51330366 132.54449459 133.17441585 133.20560678\n",
      " 133.83552804 133.86671896 134.49664022 134.50664022 135.13656148\n",
      " 135.16775241 135.79767367 135.82886459 136.45878585 136.48997678\n",
      " 137.11989804 137.15108897 137.78101023 137.81220115 138.44212241\n",
      " 138.47331334 139.1032346  139.13442552 139.76434678 139.79553771\n",
      " 140.42545897 140.4566499  141.08657116 141.11776208 141.74768334\n",
      " 141.77887427 142.40879553 142.41879553 143.04871679 143.07990771\n",
      " 143.70982897 143.7410199  144.37094116 144.40213209 145.03205335\n",
      " 145.06324427 145.69316553 145.72435646 146.35427772 146.38546865\n",
      " 147.01538991 147.04658083 147.67650209 147.70769302 148.33761428\n",
      " 148.3688052  148.99872646 149.02991739 149.65983865 149.69102958\n",
      " 150.32095084 150.33095084 150.9608721  150.99206302 151.62198428\n",
      " 151.65317521 152.28309647 152.31428739 152.94420865 152.97539958\n",
      " 153.60532084 153.63651177 154.26643303 154.29762395 154.92754521\n",
      " 154.95873614 155.5886574  155.61984832 156.24976958 156.28096051\n",
      " 156.91088177 156.9420727  157.57199396 157.60318488 158.23310614\n",
      " 158.24310614 158.8730274  158.90421833 159.53413959 159.56533052\n",
      " 160.19525178 160.2264427  160.85636396 160.88755489 161.51747615\n",
      " 161.54866707 162.17858833 162.20977926 162.83970052 162.87089145\n",
      " 163.50081271 163.53200363 164.16192489 164.19311582 164.82303708\n",
      " 164.854228   165.48414926 165.51534019 166.14526145 166.15526145\n",
      " 166.78518271 166.81637364 167.4462949  167.47748582 168.10740708\n",
      " 168.13859801 168.76851927 168.79971019 169.42963145 169.46082238\n",
      " 170.09074364 170.12193457 170.75185583 170.78304675 171.41296801\n",
      " 171.44415894 172.0740802  172.10527113 172.73519238 172.76638331\n",
      " 173.39630457 173.4274955  174.05741676 174.06741676 174.69733802\n",
      " 174.72852894 175.3584502  175.38964113 176.01956239 176.05075332\n",
      " 176.68067458 176.7118655  177.34178676 177.37297769 178.00289895\n",
      " 178.03408987 178.66401113 178.69520206 179.32512332 179.35631425\n",
      " 179.98623551 180.01742643 180.64734769 180.67853862 181.30845988\n",
      " 181.3396508  181.96957206 181.97957206 182.60949332 182.64068425\n",
      " 183.27060551 183.30179644 183.9317177  183.96290862 184.59282988\n",
      " 184.62402081 185.25394207 185.28513299 185.91505425 185.94624518\n",
      " 186.57616644 186.60735737 187.23727863 187.26846955 187.89839081\n",
      " 187.92958174 188.559503   188.59069393 189.22061519 189.25180611\n",
      " 189.88172737 189.89172737 190.52164863 190.55283956 191.18276082\n",
      " 191.21395174 191.843873   191.87506393 192.50498519 192.53617612\n",
      " 193.16609738 193.1972883  193.82720956 193.85840049 194.48832175\n",
      " 194.51951267 195.14943393 195.18062486 195.81054612 195.84173705\n",
      " 196.47165831 196.50284923 197.13277049 197.16396142 197.79388268\n",
      " 197.80388268 198.43380394 198.46499486 199.09491612 199.12610705\n",
      " 199.75602831 199.78721924 200.4171405  200.44833142 201.07825268\n",
      " 201.10944361 201.73936487 201.7705558  202.40047706 202.43166798\n",
      " 203.06158924 203.09278017 203.72270143 203.75389235 204.38381361\n",
      " 204.41500454 205.0449258  205.07611673 205.70603799 205.71603799\n",
      " 206.34595925 206.37715017 207.00707143 207.03826236 207.66818362\n",
      " 207.69937454 208.3292958  208.36048673 208.99040799 209.02159892\n",
      " 209.65152018 209.6827111  210.31263236 210.34382329 210.97374455\n",
      " 211.00493547 211.63485673 211.66604766 212.29596892 212.32715985\n",
      " 212.95708111 212.98827203 213.61819329 213.62819329 214.25811455\n",
      " 214.28930548 214.91922674 214.95041767 215.58033893 215.61152985\n",
      " 216.24145111 216.27264204 216.9025633  216.93375422 217.56367548\n",
      " 217.59486641 218.22478767 218.2559786  218.88589986 218.91709078\n",
      " 219.54701204 219.57820297 220.20812423 220.23931515 220.86923641\n",
      " 220.90042734 221.5303486  221.5403486  222.17026986 222.20146079\n",
      " 222.83138205 222.86257297 223.49249423 223.52368516 224.15360642\n",
      " 224.18479734 224.8147186  224.84590953 225.47583079 225.50702172\n",
      " 226.13694298 226.1681339  226.79805516 226.82924609 227.45916735\n",
      " 227.49035828 228.12027954 228.15147046 228.78139172 228.81258265\n",
      " 229.44250391 229.45250391 230.08242517 230.11361609 230.74353735\n",
      " 230.77472828 231.40464954 231.43584047 232.06576173 232.09695265\n",
      " 232.72687391 232.75806484 233.3879861  233.41917702 234.04909828\n",
      " 234.08028921 234.71021047 234.7414014  235.37132266 235.40251358\n",
      " 236.03243484 236.06362577 236.69354703 236.72473795 237.35465921\n",
      " 237.36465921 237.99458047 238.0257714  238.65569266 238.68688359\n",
      " 239.31680485 239.34799577 239.97791703 240.00910796 240.63902922\n",
      " 240.67022014 241.3001414  241.33133233 241.96125359 241.99244452\n",
      " 242.62236578 242.6535567  243.28347796 243.31466889 243.94459015\n",
      " 243.97578108 244.60570234 244.63689326 245.26681452 245.27681452\n",
      " 245.90673578 245.93792671 246.56784797 246.59903889 247.22896015\n",
      " 247.26015108 247.89007234 247.92126327 248.55118453 248.58237545\n",
      " 249.21229671 249.24348764 249.8734089  249.90459982 250.53452108\n",
      " 250.56571201 251.19563327 251.2268242  251.85674546 251.88793638\n",
      " 252.51785764 252.54904857 253.17896983 253.18896983 253.81889109\n",
      " 253.85008201 254.48000327 254.5111942  255.14111546 255.17230639\n",
      " 255.80222765 255.83341857 256.46333983 256.49453076 257.12445202\n",
      " 257.15564295 257.78556421 257.81675513 258.44667639 258.47786732\n",
      " 259.10778858 259.1389795  259.76890076 259.80009169 260.43001295\n",
      " 260.46120388 261.09112514 261.10112514 261.7310464  261.76223732\n",
      " 262.39215858 262.42334951 263.05327077 263.08446169 263.71438295\n",
      " 263.74557388 264.37549514 264.40668607 265.03660733 265.06779825\n",
      " 265.69771951 265.72891044 266.3588317  266.39002262 267.01994388\n",
      " 267.05113481 267.68105607 267.712247   268.34216826 268.37335918\n",
      " 269.00328044 269.01328044 269.6432017  269.67439263 270.30431389\n",
      " 270.33550482 270.96542608 270.996617   271.62653826 271.65772919\n",
      " 272.28765045 272.31884137 272.94876263 272.97995356 273.60987482\n",
      " 273.64106575 274.27098701 274.30217793 274.93209919 274.96329012\n",
      " 275.59321138 275.6244023  276.25432356 276.28551449 276.91543575\n",
      " 276.92543575 277.55535701 277.58654794 278.2164692  278.24766012\n",
      " 278.87758138 278.90877231 279.53869357 279.56988449 280.19980575\n",
      " 280.23099668 280.86091794 280.89210887 281.52203013 281.55322105\n",
      " 282.18314231 282.21433324 282.8442545  282.87544543 283.50536669\n",
      " 283.53655761 284.16647887 284.1976698  284.82759106 284.83759106\n",
      " 285.46751232 285.49870324 286.1286245  286.15981543 286.78973669\n",
      " 286.82092762 287.45084888 287.4820398  288.11196106 288.14315199\n",
      " 288.77307325 288.80426417 289.43418543 289.46537636 290.09529762\n",
      " 290.12648855 290.75640981 290.78760073 291.41752199 291.44871292\n",
      " 292.07863418 292.1098251  292.73974636 292.74974636 293.37966762\n",
      " 293.41085855 294.04077981 294.07197074 294.701892   294.73308292\n",
      " 295.36300418 295.39419511 296.02411637 296.0553073  296.68522855\n",
      " 296.71641948 297.34634074 297.37753167 298.00745293 298.03864385\n",
      " 298.66856511 298.69975604 299.3296773  299.36086823 299.99078949\n",
      " 300.02198041 300.65190167 300.66190167 301.29182293 301.32301386\n",
      " 301.95293512 301.98412604 302.6140473  302.64523823 303.27515949\n",
      " 303.30635042 303.93627168 303.9674626  304.59738386 304.62857479\n",
      " 305.25849605 305.28968697 305.91960823 305.95079916 306.58072042\n",
      " 306.61191135 307.24183261 307.27302353 307.90294479 307.93413572\n",
      " 308.56405698 308.57405698 309.20397824 309.23516916 309.86509042\n",
      " 309.89628135 310.52620261 310.55739354 311.1873148  311.21850572\n",
      " 311.84842698 311.87961791 312.50953917 312.5407301  313.17065136\n",
      " 313.20184228 313.83176354 313.86295447 314.49287573 314.52406665\n",
      " 315.15398791 315.18517884 315.8151001  315.84629103 316.47621229]\n"
     ]
    }
   ],
   "source": [
    "t_full[0] = 0\n",
    "t_accum = np.cumsum(t_full,axis=0)\n",
    "print(t_accum)"
   ]
  },
  {
   "cell_type": "code",
   "execution_count": 19,
   "metadata": {},
   "outputs": [],
   "source": [
    "xt_data=np.vstack((t_accum, x_full)).T\n",
    "xt_df=pd.DataFrame(xt_data)\n",
    "\n",
    "yt_data=np.vstack((t_accum, y_full)).T\n",
    "yt_df=pd.DataFrame(yt_data)\n",
    "\n",
    "zt_data=np.vstack((t_accum, z_full)).T\n",
    "zt_df=pd.DataFrame(zt_data)"
   ]
  },
  {
   "cell_type": "code",
   "execution_count": 20,
   "metadata": {},
   "outputs": [],
   "source": [
    "xt_df.to_csv('path_x.csv', index=False, header=False)\n",
    "yt_df.to_csv('path_y.csv', index=False, header=False)\n",
    "zt_df.to_csv('path_z.csv', index=False, header=False)"
   ]
  }
 ],
 "metadata": {
  "kernelspec": {
   "display_name": "Python 3",
   "language": "python",
   "name": "python3"
  },
  "language_info": {
   "codemirror_mode": {
    "name": "ipython",
    "version": 3
   },
   "file_extension": ".py",
   "mimetype": "text/x-python",
   "name": "python",
   "nbconvert_exporter": "python",
   "pygments_lexer": "ipython3",
   "version": "3.7.8"
  }
 },
 "nbformat": 4,
 "nbformat_minor": 4
}
