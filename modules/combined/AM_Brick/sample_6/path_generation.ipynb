{
 "cells": [
  {
   "cell_type": "code",
   "execution_count": 1,
   "metadata": {},
   "outputs": [],
   "source": [
    "import numpy as np\n",
    "import pandas as pd\n",
    "import matplotlib.pyplot as plt\n",
    "from mpl_toolkits.mplot3d import Axes3D\n",
    "import csv"
   ]
  },
  {
   "cell_type": "code",
   "execution_count": 2,
   "metadata": {},
   "outputs": [],
   "source": [
    "from matplotlib import rcParams\n",
    "rcParams['font.family'] = 'Serif'"
   ]
  },
  {
   "cell_type": "markdown",
   "metadata": {},
   "source": [
    "## Product parameter"
   ]
  },
  {
   "cell_type": "code",
   "execution_count": 3,
   "metadata": {},
   "outputs": [],
   "source": [
    "dx = [-2, 2] #mm\n",
    "\n",
    "dy = [-2, 2] #mm\n",
    "\n",
    "dz = [4, 14] # mm"
   ]
  },
  {
   "cell_type": "markdown",
   "metadata": {},
   "source": [
    "## Printing parameter"
   ]
  },
  {
   "cell_type": "code",
   "execution_count": 4,
   "metadata": {},
   "outputs": [],
   "source": [
    "h = 0.3 # layer thickness, mm\n",
    "\n",
    "d = 0.3 # hatch spacing, mm\n",
    "\n",
    "v_infill = 6.35 # infill scanning speed, mm/s\n",
    "\n",
    "v_outline = 10.58"
   ]
  },
  {
   "cell_type": "markdown",
   "metadata": {},
   "source": [
    "## Produce parallel scanning path\n",
    "\n",
    "### 1. outline"
   ]
  },
  {
   "cell_type": "code",
   "execution_count": 5,
   "metadata": {},
   "outputs": [],
   "source": [
    "def get_outline_path_A(dt, dx, dy, height, v_outline, x_full, y_full, z_full, t_full):\n",
    "    Lx = dx[1] - dx[0]\n",
    "    Ly = dy[1] - dy[0]\n",
    "    # assume A -> B-> C-> D as\n",
    "    # C --- B\n",
    "    # |     |\n",
    "    # D --- A\n",
    "    x_full.extend([dx[1], dx[1], dx[0], dx[0], dx[1]])\n",
    "    y_full.extend([dy[0], dy[1], dy[1], dy[0], dy[0]])\n",
    "    z_full.extend([height, height, height, height, height])\n",
    "    \n",
    "    t_full.append(dt)\n",
    "    t_full.append(Ly/v_outline)\n",
    "    t_full.append(Lx/v_outline)\n",
    "    t_full.append(Ly/v_outline)\n",
    "    t_full.append(Lx/v_outline)"
   ]
  },
  {
   "cell_type": "code",
   "execution_count": 6,
   "metadata": {},
   "outputs": [],
   "source": [
    "def get_outline_path_B(dt, dx, dy, height, v_outline, x_full, y_full, z_full, t_full):\n",
    "    Lx = dx[1] - dx[0]\n",
    "    Ly = dy[1] - dy[0]\n",
    "    # assume A -> B-> C-> D as\n",
    "    # C --- B\n",
    "    # |     |\n",
    "    # D --- A\n",
    "    x_full.extend([dx[1], dx[0], dx[0], dx[1], dx[1]])\n",
    "    y_full.extend([dy[1], dy[1], dy[0], dy[0], dy[1]])\n",
    "    z_full.extend([height, height, height, height, height])\n",
    "    \n",
    "    t_full.append(dt)\n",
    "    t_full.append(Lx/v_outline)\n",
    "    t_full.append(Ly/v_outline)\n",
    "    t_full.append(Lx/v_outline)\n",
    "    t_full.append(Ly/v_outline)"
   ]
  },
  {
   "cell_type": "code",
   "execution_count": 7,
   "metadata": {},
   "outputs": [],
   "source": [
    "def get_outline_path_C(dt, dx, dy, height, v_outline, x_full, y_full, z_full, t_full):\n",
    "    Lx = dx[1] - dx[0]\n",
    "    Ly = dy[1] - dy[0]\n",
    "    # assume A -> B-> C-> D as\n",
    "    # C --- B\n",
    "    # |     |\n",
    "    # D --- A\n",
    "    x_full.extend([ dx[0], dx[0], dx[1], dx[1], dx[0]])\n",
    "    y_full.extend([ dy[1], dy[0], dy[0], dy[1], dy[1]])\n",
    "    z_full.extend([height, height, height, height, height])\n",
    "    \n",
    "    t_full.append(dt)\n",
    "    t_full.append(Ly/v_outline)\n",
    "    t_full.append(Lx/v_outline)\n",
    "    t_full.append(Ly/v_outline)\n",
    "    t_full.append(Lx/v_outline)"
   ]
  },
  {
   "cell_type": "code",
   "execution_count": 8,
   "metadata": {},
   "outputs": [],
   "source": [
    "def get_outline_path_D(dt, dx, dy, height, v_outline, x_full, y_full, z_full, t_full):\n",
    "    Lx = dx[1] - dx[0]\n",
    "    Ly = dy[1] - dy[0]\n",
    "    # assume A -> B-> C-> D as\n",
    "    # C --- B\n",
    "    # |     |\n",
    "    # D --- A\n",
    "    x_full.extend([  dx[0], dx[1], dx[1], dx[0], dx[0]])\n",
    "    y_full.extend([  dy[0], dy[0], dy[1], dy[1], dy[0]])\n",
    "    z_full.extend([height, height, height, height, height])\n",
    "    \n",
    "    t_full.append(dt)\n",
    "    t_full.append(Lx/v_outline)\n",
    "    t_full.append(Ly/v_outline)\n",
    "    t_full.append(Lx/v_outline)\n",
    "    t_full.append(Ly/v_outline)"
   ]
  },
  {
   "cell_type": "markdown",
   "metadata": {},
   "source": [
    "### 2. filling path"
   ]
  },
  {
   "cell_type": "code",
   "execution_count": 9,
   "metadata": {},
   "outputs": [],
   "source": [
    "def get_horizontal_filling_path(dt, y_start, y_end, move_right,  dx, dy, hatch_spacing, height, v_infill, v_outline, x_full, y_full, z_full, t_full):\n",
    "    Lx = dx[1] - dx[0]\n",
    "    Ly = dy[1] - dy[0]\n",
    "    t_vert = hatch_spacing/v_outline\n",
    "    t_hor = Lx/v_infill\n",
    "    t_full.append(dt)\n",
    "    if move_right == False:\n",
    "        hatch_spacing = - hatch_spacing\n",
    "    for y in np.arange(y_start, y_end, hatch_spacing):\n",
    "        y_full.extend([y,y])\n",
    "        if move_right == True:\n",
    "            x_full.extend(dx)\n",
    "            move_right=False\n",
    "        else:\n",
    "            x_full.extend([dx[1], dx[0]])\n",
    "            move_right=True\n",
    "        z_full.extend([height, height])\n",
    "        t_full.extend([t_hor, t_vert])\n",
    "    del t_full[-1]"
   ]
  },
  {
   "cell_type": "code",
   "execution_count": 10,
   "metadata": {},
   "outputs": [],
   "source": [
    "def get_vertical_filling_path(dt, x_start, x_end, move_up, dx, dy, hatch_spacing, height, v_infill, v_outline, x_full, y_full, z_full, t_full):\n",
    "    Lx = dx[1] - dx[0]\n",
    "    Ly = dy[1] - dy[0]\n",
    "    t_hor = hatch_spacing/v_outline\n",
    "    t_vert = Ly/v_infill\n",
    "    t_full.append(dt)\n",
    "    if move_up == False:\n",
    "        hatch_spacing = -hatch_spacing\n",
    "    for x in np.arange(x_start, x_end, hatch_spacing):\n",
    "        x_full.extend([x,x])\n",
    "        if move_up == True:\n",
    "            y_full.extend(dy)\n",
    "            move_up=False\n",
    "        else:\n",
    "            y_full.extend([dy[1], dy[0]])\n",
    "            move_up=True\n",
    "        z_full.extend([height, height])\n",
    "        t_full.extend([t_vert, t_hor])\n",
    "    del t_full[-1]"
   ]
  },
  {
   "cell_type": "code",
   "execution_count": 11,
   "metadata": {},
   "outputs": [],
   "source": [
    "x_full = []\n",
    "y_full = []\n",
    "z_full = []\n",
    "t_full = []\n",
    "\n",
    "x_start = -1.95\n",
    "x_end = 2.0\n",
    "y_start = -1.95\n",
    "y_end = 2.0\n",
    "hatch_spacing = 0.3\n",
    "\n",
    "height = 0.0\n",
    "\n",
    "total_height = 14\n",
    "\n",
    "dt = 0.01;\n",
    "\n",
    "# get_outline_path_D(dx, dy, 0.0, v_outline,  x_full, y_full, z_full, t_full)\n",
    "\n",
    "\n",
    "\n",
    "# get_outline_path_B(dx, dy, 0.3, v_outline, dt,  x_full, y_full, z_full, t_full)\n",
    "\n",
    "# print(x_full)\n",
    "# print(y_full)\n",
    "# print(z_full)\n",
    "# print(t_full)"
   ]
  },
  {
   "cell_type": "markdown",
   "metadata": {},
   "source": [
    "### get one-layer printing path"
   ]
  },
  {
   "cell_type": "code",
   "execution_count": 12,
   "metadata": {},
   "outputs": [
    {
     "name": "stdout",
     "output_type": "stream",
     "text": [
      "[-1.95, -1.95, -1.65, -1.65, -1.3499999999999999, -1.3499999999999999, -1.0499999999999998, -1.0499999999999998, -0.7499999999999998, -0.7499999999999998, -0.44999999999999973, -0.44999999999999973, -0.1499999999999997, -0.1499999999999997, 0.15000000000000058, 0.15000000000000058, 0.4500000000000004, 0.4500000000000004, 0.7500000000000002, 0.7500000000000002, 1.0500000000000005, 1.0500000000000005, 1.3500000000000008, 1.3500000000000008, 1.6500000000000006, 1.6500000000000006, 1.9500000000000004, 1.9500000000000004]\n",
      "[-2, 2, 2, -2, -2, 2, 2, -2, -2, 2, 2, -2, -2, 2, 2, -2, -2, 2, 2, -2, -2, 2, 2, -2, -2, 2, 2, -2]\n",
      "[0.0, 0.0, 0.0, 0.0, 0.0, 0.0, 0.0, 0.0, 0.0, 0.0, 0.0, 0.0, 0.0, 0.0, 0.0, 0.0, 0.0, 0.0, 0.0, 0.0, 0.0, 0.0, 0.0, 0.0, 0.0, 0.0, 0.0, 0.0]\n",
      "[0.01, 0.6299212598425197, 0.02835538752362949, 0.6299212598425197, 0.02835538752362949, 0.6299212598425197, 0.02835538752362949, 0.6299212598425197, 0.02835538752362949, 0.6299212598425197, 0.02835538752362949, 0.6299212598425197, 0.02835538752362949, 0.6299212598425197, 0.02835538752362949, 0.6299212598425197, 0.02835538752362949, 0.6299212598425197, 0.02835538752362949, 0.6299212598425197, 0.02835538752362949, 0.6299212598425197, 0.02835538752362949, 0.6299212598425197, 0.02835538752362949, 0.6299212598425197, 0.02835538752362949, 0.6299212598425197]\n"
     ]
    }
   ],
   "source": [
    "x_full = []\n",
    "y_full = []\n",
    "z_full = []\n",
    "t_full = []\n",
    "\n",
    "# get_outline_path_D(dt, dx, dy, height, v_outline,  x_full, y_full, z_full, t_full)\n",
    "get_vertical_filling_path(dt, x_start, x_end, True, dx, dy, hatch_spacing, height, v_infill, v_outline, x_full, y_full, z_full, t_full)\n",
    "# dt = 0.1;\n",
    "# get_outline_path_B(dt, dx, dy, height+0.3, v_outline,  x_full, y_full, z_full, t_full)\n",
    "# get_horizontal_filling_path(2.0, -1.8, False, dx, dy, hatch_spacing, height+0.3, v_infill, x_full, y_full, z_full, t_full)\n",
    "\n",
    "print(x_full)\n",
    "print(y_full)\n",
    "print(z_full)\n",
    "print(t_full)"
   ]
  },
  {
   "cell_type": "code",
   "execution_count": 13,
   "metadata": {},
   "outputs": [
    {
     "data": {
      "image/png": "[encoded data removed]",
      "text/plain": [
       "<Figure size 432x288 with 1 Axes>"
      ]
     },
     "metadata": {
      "needs_background": "light"
     },
     "output_type": "display_data"
    }
   ],
   "source": [
    "# %matplotlib qt\n",
    "%matplotlib inline\n",
    "fig = plt.figure()\n",
    "# ax = fig.add_subplot(111, projection='3d')\n",
    "# ax.plot(x,y,z, '-or')\n",
    "plt.plot(x_full,y_full, ':or')\n",
    "# plt.axis('equal')\n",
    "plt.axis([-2, 2, -2, 2])\n",
    "# plt.xticks([-10, -5, 0, 5, 10])\n",
    "# plt.yticks([-10, -5, 0, 5, 10])\n",
    "plt.gca().set_aspect('equal', adjustable='box')\n",
    "plt.xlabel(\"$x$\", usetex=True, fontsize = 14)\n",
    "plt.ylabel(\"$y$\", usetex=True,fontsize = 14)\n",
    "\n",
    "\n",
    "# fig.savefig('printing_path_2D.pdf', bbox_inches='tight')\n",
    "\n",
    "# show the plot\n",
    "plt.show()"
   ]
  },
  {
   "cell_type": "code",
   "execution_count": 14,
   "metadata": {},
   "outputs": [
    {
     "name": "stdout",
     "output_type": "stream",
     "text": [
      "[2, -2, -2, 2, 2, -2, -2, 2, 2, -2, -2, 2, 2, -2, -2, 2, 2, -2, -2, 2, 2, -2, -2, 2, 2, -2, -2, 2]\n",
      "[1.95, 1.95, 1.65, 1.65, 1.3499999999999999, 1.3499999999999999, 1.0499999999999998, 1.0499999999999998, 0.7499999999999998, 0.7499999999999998, 0.44999999999999973, 0.44999999999999973, 0.1499999999999997, 0.1499999999999997, -0.15000000000000058, -0.15000000000000058, -0.4500000000000004, -0.4500000000000004, -0.7500000000000002, -0.7500000000000002, -1.0500000000000005, -1.0500000000000005, -1.3500000000000008, -1.3500000000000008, -1.6500000000000006, -1.6500000000000006, -1.9500000000000004, -1.9500000000000004]\n",
      "[0.0, 0.0, 0.0, 0.0, 0.0, 0.0, 0.0, 0.0, 0.0, 0.0, 0.0, 0.0, 0.0, 0.0, 0.0, 0.0, 0.0, 0.0, 0.0, 0.0, 0.0, 0.0, 0.0, 0.0, 0.0, 0.0, 0.0, 0.0]\n",
      "[0.01, 0.6299212598425197, 0.02835538752362949, 0.6299212598425197, 0.02835538752362949, 0.6299212598425197, 0.02835538752362949, 0.6299212598425197, 0.02835538752362949, 0.6299212598425197, 0.02835538752362949, 0.6299212598425197, 0.02835538752362949, 0.6299212598425197, 0.02835538752362949, 0.6299212598425197, 0.02835538752362949, 0.6299212598425197, 0.02835538752362949, 0.6299212598425197, 0.02835538752362949, 0.6299212598425197, 0.02835538752362949, 0.6299212598425197, 0.02835538752362949, 0.6299212598425197, 0.02835538752362949, 0.6299212598425197]\n"
     ]
    }
   ],
   "source": [
    "x_full = []\n",
    "y_full = []\n",
    "z_full = []\n",
    "t_full = []\n",
    "\n",
    "get_horizontal_filling_path(dt, -y_start, -y_end, False, dx, dy, hatch_spacing, 0.0, v_infill, v_outline, x_full, y_full, z_full, t_full)\n",
    "\n",
    "print(x_full)\n",
    "print(y_full)\n",
    "print(z_full)\n",
    "print(t_full)"
   ]
  },
  {
   "cell_type": "code",
   "execution_count": 15,
   "metadata": {},
   "outputs": [
    {
     "data": {
      "image/png": "[encoded data removed]",
      "text/plain": [
       "<Figure size 432x288 with 1 Axes>"
      ]
     },
     "metadata": {
      "needs_background": "light"
     },
     "output_type": "display_data"
    }
   ],
   "source": [
    "# %matplotlib qt\n",
    "%matplotlib inline\n",
    "fig = plt.figure()\n",
    "# ax = fig.add_subplot(111, projection='3d')\n",
    "# ax.plot(x,y,z, '-or')\n",
    "plt.plot(x_full,y_full, ':or')\n",
    "# plt.axis('equal')\n",
    "plt.axis([-2, 2, -2, 2])\n",
    "# plt.xticks([-10, -5, 0, 5, 10])\n",
    "# plt.yticks([-10, -5, 0, 5, 10])\n",
    "plt.gca().set_aspect('equal', adjustable='box')\n",
    "plt.xlabel(\"$x$\", usetex=True, fontsize = 14)\n",
    "plt.ylabel(\"$y$\", usetex=True,fontsize = 14)\n",
    "\n",
    "\n",
    "# fig.savefig('printing_path_2D.pdf', bbox_inches='tight')\n",
    "\n",
    "# show the plot\n",
    "plt.show()"
   ]
  },
  {
   "cell_type": "markdown",
   "metadata": {},
   "source": [
    "### get multi-layer printing path"
   ]
  },
  {
   "cell_type": "code",
   "execution_count": 16,
   "metadata": {},
   "outputs": [
    {
     "name": "stdout",
     "output_type": "stream",
     "text": [
      "4.0\n",
      "4.3\n",
      "4.6\n",
      "4.8999999999999995\n",
      "5.199999999999999\n",
      "5.499999999999999\n",
      "5.799999999999999\n",
      "6.099999999999999\n",
      "6.399999999999999\n",
      "6.699999999999998\n",
      "6.999999999999998\n",
      "7.299999999999998\n",
      "7.599999999999998\n",
      "7.899999999999998\n",
      "8.199999999999998\n",
      "8.499999999999996\n",
      "8.799999999999997\n",
      "9.099999999999998\n",
      "9.399999999999997\n",
      "9.699999999999996\n",
      "9.999999999999996\n",
      "10.299999999999997\n",
      "10.599999999999996\n",
      "10.899999999999995\n",
      "11.199999999999996\n",
      "11.499999999999996\n",
      "11.799999999999995\n",
      "12.099999999999994\n",
      "12.399999999999995\n",
      "12.699999999999996\n",
      "12.999999999999995\n",
      "13.299999999999994\n",
      "13.599999999999994\n",
      "13.899999999999995\n"
     ]
    }
   ],
   "source": [
    "x_full = []\n",
    "y_full = []\n",
    "z_full = []\n",
    "t_full = []\n",
    "\n",
    "dz = 0.3\n",
    "height_substrate = 4\n",
    "\n",
    "\n",
    "vertical_fill = True\n",
    "for z in np.arange(height_substrate, total_height, dz):\n",
    "    print(z)\n",
    "    if vertical_fill == True:\n",
    "#         get_outline_path_D(dt, dx, dy, z, v_outline,  x_full, y_full, z_full, t_full)\n",
    "        get_vertical_filling_path(dt, x_start, x_end, True, dx, dy, hatch_spacing, z, v_infill, v_outline, x_full, y_full, z_full, t_full)\n",
    "        vertical_fill = False\n",
    "    else:\n",
    "#         get_outline_path_B(dt, dx, dy, z, v_outline,  x_full, y_full, z_full, t_full)\n",
    "        get_horizontal_filling_path(dt, -y_start, -y_end, False, dx, dy, hatch_spacing, z, v_infill, v_outline, x_full, y_full, z_full, t_full)\n",
    "        vertical_fill = True\n",
    "\n",
    "\n",
    "# print(x_full)\n",
    "# print(y_full)\n",
    "# print(z_full)\n",
    "# print(t_full)"
   ]
  },
  {
   "cell_type": "code",
   "execution_count": 17,
   "metadata": {},
   "outputs": [
    {
     "data": {
      "image/png": "[encoded data removed]",
      "text/plain": [
       "<Figure size 432x288 with 1 Axes>"
      ]
     },
     "metadata": {
      "needs_background": "light"
     },
     "output_type": "display_data"
    }
   ],
   "source": [
    "# %matplotlib qt\n",
    "%matplotlib inline\n",
    "fig = plt.figure()\n",
    "ax = fig.add_subplot(111, projection='3d')\n",
    "ax.plot(x_full,y_full,z_full, '-or')\n",
    "ax.set_xlim([-3, 3])\n",
    "ax.set_ylim([-3, 3])\n",
    "ax.set_zlim([0, total_height])\n",
    "# ax.set_xticks([-10, -5, 0, 5, 10])\n",
    "# ax.set_yticks([-10, -5, 0, 5, 10])\n",
    "# ax.set_zticks([5, 7, 9, 11, 13, 15, 17, 19, 21, 23])\n",
    "ax.set_xlabel(\"$x$\", usetex=True, fontsize = 14)\n",
    "ax.set_ylabel(\"$y$\", usetex=True,fontsize = 14)\n",
    "ax.set_zlabel(\"$z$\", usetex=True,fontsize = 14)\n",
    "\n",
    "# fig.tight_layout()\n",
    "# fig.savefig('box_printing_path_3layers.pdf', bbox_inches='tight')\n",
    "\n",
    "# show the plot\n",
    "plt.show()"
   ]
  },
  {
   "cell_type": "markdown",
   "metadata": {},
   "source": [
    "### Get accumulated time"
   ]
  },
  {
   "cell_type": "code",
   "execution_count": 18,
   "metadata": {},
   "outputs": [
    {
     "name": "stdout",
     "output_type": "stream",
     "text": [
      "[  0.           0.62992126   0.65827665   1.28819791   1.31655329\n",
      "   1.94647455   1.97482994   2.6047512    2.63310659   3.26302785\n",
      "   3.29138324   3.9213045    3.94965988   4.57958114   4.60793653\n",
      "   5.23785779   5.26621318   5.89613444   5.92448983   6.55441109\n",
      "   6.58276647   7.21268773   7.24104312   7.87096438   7.89931977\n",
      "   8.52924103   8.55759642   9.18751768   9.19751768   9.82743894\n",
      "   9.85579432  10.48571558  10.51407097  11.14399223  11.17234762\n",
      "  11.80226888  11.83062427  12.46054552  12.48890091  13.11882217\n",
      "  13.14717756  13.77709882  13.80545421  14.43537547  14.46373085\n",
      "  15.09365211  15.1220075   15.75192876  15.78028415  16.41020541\n",
      "  16.4385608   17.06848206  17.09683744  17.7267587   17.75511409\n",
      "  18.38503535  18.39503535  19.02495661  19.053312    19.68323326\n",
      "  19.71158865  20.34150991  20.36986529  20.99978655  21.02814194\n",
      "  21.6580632   21.68641859  22.31633985  22.34469524  22.9746165\n",
      "  23.00297188  23.63289314  23.66124853  24.29116979  24.31952518\n",
      "  24.94944644  24.97780182  25.60772308  25.63607847  26.26599973\n",
      "  26.29435512  26.92427638  26.95263177  27.58255303  27.59255303\n",
      "  28.22247429  28.25082967  28.88075093  28.90910632  29.53902758\n",
      "  29.56738297  30.19730423  30.22565962  30.85558088  30.88393626\n",
      "  31.51385752  31.54221291  32.17213417  32.20048956  32.83041082\n",
      "  32.85876621  33.48868747  33.51704285  34.14696411  34.1753195\n",
      "  34.80524076  34.83359615  35.46351741  35.4918728   36.12179406\n",
      "  36.15014944  36.7800707   36.7900707   37.41999196  37.44834735\n",
      "  38.07826861  38.106624    38.73654526  38.76490064  39.3948219\n",
      "  39.42317729  40.05309855  40.08145394  40.7113752   40.73973059\n",
      "  41.36965185  41.39800723  42.02792849  42.05628388  42.68620514\n",
      "  42.71456053  43.34448179  43.37283718  44.00275844  44.03111382\n",
      "  44.66103508  44.68939047  45.31931173  45.34766712  45.97758838\n",
      "  45.98758838  46.61750964  46.64586503  47.27578629  47.30414167\n",
      "  47.93406293  47.96241832  48.59233958  48.62069497  49.25061623\n",
      "  49.27897161  49.90889287  49.93724826  50.56716952  50.59552491\n",
      "  51.22544617  51.25380156  51.88372282  51.9120782   52.54199946\n",
      "  52.57035485  53.20027611  53.2286315   53.85855276  53.88690815\n",
      "  54.51682941  54.54518479  55.17510605  55.18510605  55.81502731\n",
      "  55.8433827   56.47330396  56.50165935  57.13158061  57.159936\n",
      "  57.78985726  57.81821264  58.4481339   58.47648929  59.10641055\n",
      "  59.13476594  59.7646872   59.79304259  60.42296385  60.45131923\n",
      "  61.08124049  61.10959588  61.73951714  61.76787253  62.39779379\n",
      "  62.42614917  63.05607043  63.08442582  63.71434708  63.74270247\n",
      "  64.37262373  64.38262373  65.01254499  65.04090038  65.67082164\n",
      "  65.69917702  66.32909828  66.35745367  66.98737493  67.01573032\n",
      "  67.64565158  67.67400697  68.30392823  68.33228361  68.96220487\n",
      "  68.99056026  69.62048152  69.64883691  70.27875817  70.30711356\n",
      "  70.93703482  70.9653902   71.59531146  71.62366685  72.25358811\n",
      "  72.2819435   72.91186476  72.94022014  73.5701414   73.5801414\n",
      "  74.21006266  74.23841805  74.86833931  74.8966947   75.52661596\n",
      "  75.55497135  76.18489261  76.21324799  76.84316925  76.87152464\n",
      "  77.5014459   77.52980129  78.15972255  78.18807794  78.8179992\n",
      "  78.84635458  79.47627584  79.50463123  80.13455249  80.16290788\n",
      "  80.79282914  80.82118453  81.45110579  81.47946117  82.10938243\n",
      "  82.13773782  82.76765908  82.77765908  83.40758034  83.43593573\n",
      "  84.06585699  84.09421238  84.72413363  84.75248902  85.38241028\n",
      "  85.41076567  86.04068693  86.06904232  86.69896358  86.72731896\n",
      "  87.35724022  87.38559561  88.01551687  88.04387226  88.67379352\n",
      "  88.70214891  89.33207017  89.36042555  89.99034681  90.0187022\n",
      "  90.64862346  90.67697885  91.30690011  91.3352555   91.96517676\n",
      "  91.97517676  92.60509802  92.6334534   93.26337466  93.29173005\n",
      "  93.92165131  93.9500067   94.57992796  94.60828335  95.23820461\n",
      "  95.26655999  95.89648125  95.92483664  96.5547579   96.58311329\n",
      "  97.21303455  97.24138993  97.87131119  97.89966658  98.52958784\n",
      "  98.55794323  99.18786449  99.21621988  99.84614114  99.87449652\n",
      " 100.50441778 100.53277317 101.16269443 101.17269443 101.80261569\n",
      " 101.83097108 102.46089234 102.48924773 103.11916899 103.14752437\n",
      " 103.77744563 103.80580102 104.43572228 104.46407767 105.09399893\n",
      " 105.12235432 105.75227558 105.78063096 106.41055222 106.43890761\n",
      " 107.06882887 107.09718426 107.72710552 107.75546091 108.38538217\n",
      " 108.41373755 109.04365881 109.0720142  109.70193546 109.73029085\n",
      " 110.36021211 110.37021211 111.00013337 111.02848875 111.65841001\n",
      " 111.6867654  112.31668666 112.34504205 112.97496331 113.0033187\n",
      " 113.63323996 113.66159534 114.2915166  114.31987199 114.94979325\n",
      " 114.97814864 115.6080699  115.63642529 116.26634655 116.29470193\n",
      " 116.92462319 116.95297858 117.58289984 117.61125523 118.24117649\n",
      " 118.26953188 118.89945314 118.92780852 119.55772978 119.56772978\n",
      " 120.19765104 120.22600643 120.85592769 120.88428308 121.51420434\n",
      " 121.54255972 122.17248098 122.20083637 122.83075763 122.85911302\n",
      " 123.48903428 123.51738967 124.14731093 124.17566631 124.80558757\n",
      " 124.83394296 125.46386422 125.49221961 126.12214087 126.15049626\n",
      " 126.78041752 126.8087729  127.43869416 127.46704955 128.09697081\n",
      " 128.1253262  128.75524746 128.76524746 129.39516872 129.42352411\n",
      " 130.05344537 130.08180075 130.71172201 130.7400774  131.36999866\n",
      " 131.39835405 132.02827531 132.0566307  132.68655196 132.71490734\n",
      " 133.3448286  133.37318399 134.00310525 134.03146064 134.6613819\n",
      " 134.68973728 135.31965854 135.34801393 135.97793519 136.00629058\n",
      " 136.63621184 136.66456723 137.29448849 137.32284387 137.95276513\n",
      " 137.96276513 138.59268639 138.62104178 139.25096304 139.27931843\n",
      " 139.90923969 139.93759508 140.56751634 140.59587172 141.22579298\n",
      " 141.25414837 141.88406963 141.91242502 142.54234628 142.57070167\n",
      " 143.20062293 143.22897831 143.85889957 143.88725496 144.51717622\n",
      " 144.54553161 145.17545287 145.20380826 145.83372951 145.8620849\n",
      " 146.49200616 146.52036155 147.15028281 147.16028281 147.79020407\n",
      " 147.81855946 148.44848072 148.4768361  149.10675736 149.13511275\n",
      " 149.76503401 149.7933894  150.42331066 150.45166605 151.08158731\n",
      " 151.10994269 151.73986395 151.76821934 152.3981406  152.42649599\n",
      " 153.05641725 153.08477264 153.7146939  153.74304928 154.37297054\n",
      " 154.40132593 155.03124719 155.05960258 155.68952384 155.71787923\n",
      " 156.34780049 156.35780049 156.98772175 157.01607713 157.64599839\n",
      " 157.67435378 158.30427504 158.33263043 158.96255169 158.99090707\n",
      " 159.62082833 159.64918372 160.27910498 160.30746037 160.93738163\n",
      " 160.96573702 161.59565828 161.62401366 162.25393492 162.28229031\n",
      " 162.91221157 162.94056696 163.57048822 163.59884361 164.22876487\n",
      " 164.25712025 164.88704151 164.9153969  165.54531816 165.55531816\n",
      " 166.18523942 166.21359481 166.84351607 166.87187146 167.50179272\n",
      " 167.5301481  168.16006936 168.18842475 168.81834601 168.8467014\n",
      " 169.47662266 169.50497805 170.1348993  170.16325469 170.79317595\n",
      " 170.82153134 171.4514526  171.47980799 172.10972925 172.13808463\n",
      " 172.76800589 172.79636128 173.42628254 173.45463793 174.08455919\n",
      " 174.11291458 174.74283584 174.75283584 175.3827571  175.41111248\n",
      " 176.04103374 176.06938913 176.69931039 176.72766578 177.35758704\n",
      " 177.38594243 178.01586369 178.04421907 178.67414033 178.70249572\n",
      " 179.33241698 179.36077237 179.99069363 180.01904902 180.64897028\n",
      " 180.67732566 181.30724692 181.33560231 181.96552357 181.99387896\n",
      " 182.62380022 182.6521556  183.28207686 183.31043225 183.94035351\n",
      " 183.95035351 184.58027477 184.60863016 185.23855142 185.26690681\n",
      " 185.89682807 185.92518345 186.55510471 186.5834601  187.21338136\n",
      " 187.24173675 187.87165801 187.9000134  188.52993466 188.55829004\n",
      " 189.1882113  189.21656669 189.84648795 189.87484334 190.5047646\n",
      " 190.53311999 191.16304125 191.19139663 191.82131789 191.84967328\n",
      " 192.47959454 192.50794993 193.13787119 193.14787119 193.77779245\n",
      " 193.80614784 194.43606909 194.46442448 195.09434574 195.12270113\n",
      " 195.75262239 195.78097778 196.41089904 196.43925442 197.06917568\n",
      " 197.09753107 197.72745233 197.75580772 198.38572898 198.41408437\n",
      " 199.04400563 199.07236101 199.70228227 199.73063766 200.36055892\n",
      " 200.38891431 201.01883557 201.04719096 201.67711222 201.7054676\n",
      " 202.33538886 202.34538886 202.97531012 203.00366551 203.63358677\n",
      " 203.66194216 204.29186342 204.32021881 204.95014007 204.97849545\n",
      " 205.60841671 205.6367721  206.26669336 206.29504875 206.92497001\n",
      " 206.95332539 207.58324665 207.61160204 208.2415233  208.26987869\n",
      " 208.89979995 208.92815534 209.5580766  209.58643198 210.21635324\n",
      " 210.24470863 210.87462989 210.90298528 211.53290654 211.54290654\n",
      " 212.1728278  212.20118319 212.83110445 212.85945983 213.48938109\n",
      " 213.51773648 214.14765774 214.17601313 214.80593439 214.83428978\n",
      " 215.46421104 215.49256642 216.12248768 216.15084307 216.78076433\n",
      " 216.80911972 217.43904098 217.46739637 218.09731762 218.12567301\n",
      " 218.75559427 218.78394966 219.41387092 219.44222631 220.07214757\n",
      " 220.10050295 220.73042421 220.74042421 221.37034547 221.39870086\n",
      " 222.02862212 222.05697751 222.68689877 222.71525416 223.34517542\n",
      " 223.3735308  224.00345206 224.03180745 224.66172871 224.6900841\n",
      " 225.32000536 225.34836075 225.97828201 226.00663739 226.63655865\n",
      " 226.66491404 227.2948353  227.32319069 227.95311195 227.98146734\n",
      " 228.6113886  228.63974398 229.26966524 229.29802063 229.92794189\n",
      " 229.93794189 230.56786315 230.59621854 231.2261398  231.25449518\n",
      " 231.88441644 231.91277183 232.54269309 232.57104848 233.20096974\n",
      " 233.22932513 233.85924639 233.88760177 234.51752303 234.54587842\n",
      " 235.17579968 235.20415507 235.83407633 235.86243172 236.49235298\n",
      " 236.52070836 237.15062962 237.17898501 237.80890627 237.83726166\n",
      " 238.46718292 238.49553831 239.12545957 239.13545957 239.76538083\n",
      " 239.79373621 240.42365747 240.45201286 241.08193412 241.11028951\n",
      " 241.74021077 241.76856616 242.39848741 242.4268428  243.05676406\n",
      " 243.08511945 243.71504071 243.7433961  244.37331736 244.40167274\n",
      " 245.031594   245.05994939 245.68987065 245.71822604 246.3481473\n",
      " 246.37650269 247.00642395 247.03477933 247.66470059 247.69305598\n",
      " 248.32297724 248.33297724 248.9628985  248.99125389 249.62117515\n",
      " 249.64953054 250.2794518  250.30780718 250.93772844 250.96608383\n",
      " 251.59600509 251.62436048 252.25428174 252.28263713 252.91255839\n",
      " 252.94091377 253.57083503 253.59919042 254.22911168 254.25746707\n",
      " 254.88738833 254.91574371 255.54566497 255.57402036 256.20394162\n",
      " 256.23229701 256.86221827 256.89057366 257.52049492 257.53049492\n",
      " 258.16041618 258.18877156 258.81869282 258.84704821 259.47696947\n",
      " 259.50532486 260.13524612 260.16360151 260.79352277 260.82187815\n",
      " 261.45179941 261.4801548  262.11007606 262.13843145 262.76835271\n",
      " 262.7967081  263.42662936 263.45498474 264.084906   264.11326139\n",
      " 264.74318265 264.77153804 265.4014593  265.42981469 266.05973595\n",
      " 266.08809133 266.71801259 266.72801259 267.35793385 267.38628924\n",
      " 268.0162105  268.04456589 268.67448715 268.70284253 269.33276379\n",
      " 269.36111918 269.99104044 270.01939583 270.64931709 270.67767248\n",
      " 271.30759374 271.33594912 271.96587038 271.99422577 272.62414703\n",
      " 272.65250242 273.28242368 273.31077907 273.94070033 273.96905571\n",
      " 274.59897697 274.62733236 275.25725362 275.28560901 275.91553027\n",
      " 275.92553027 276.55545153 276.58380692 277.21372818 277.24208356\n",
      " 277.87200482 277.90036021 278.53028147 278.55863686 279.18855812\n",
      " 279.2169135  279.84683476 279.87519015 280.50511141 280.5334668\n",
      " 281.16338806 281.19174345 281.82166471 281.85002009 282.47994135\n",
      " 282.50829674 283.138218   283.16657339 283.79649465 283.82485004\n",
      " 284.4547713  284.48312668 285.11304794 285.12304794 285.7529692\n",
      " 285.78132459 286.41124585 286.43960124 287.0695225  287.09787789\n",
      " 287.72779915 287.75615453 288.38607579 288.41443118 289.04435244\n",
      " 289.07270783 289.70262909 289.73098448 290.36090574 290.38926112\n",
      " 291.01918238 291.04753777 291.67745903 291.70581442 292.33573568\n",
      " 292.36409106 292.99401232 293.02236771 293.65228897 293.68064436\n",
      " 294.31056562 294.32056562 294.95048688 294.97884227 295.60876353\n",
      " 295.63711891 296.26704017 296.29539556 296.92531682 296.95367221\n",
      " 297.58359347 297.61194886 298.24187012 298.2702255  298.90014676\n",
      " 298.92850215 299.55842341 299.5867788  300.21670006 300.24505545\n",
      " 300.87497671 300.90333209 301.53325335 301.56160874 302.19153\n",
      " 302.21988539 302.84980665 302.87816204 303.50808329 303.51808329\n",
      " 304.14800455 304.17635994 304.8062812  304.83463659 305.46455785\n",
      " 305.49291324 306.1228345  306.15118988 306.78111114 306.80946653\n",
      " 307.43938779 307.46774318 308.09766444 308.12601983 308.75594109\n",
      " 308.78429647 309.41421773 309.44257312 310.07249438 310.10084977\n",
      " 310.73077103 310.75912642 311.38904768 311.41740306 312.04732432\n",
      " 312.07567971 312.70560097]\n"
     ]
    }
   ],
   "source": [
    "t_full[0] = 0\n",
    "t_accum = np.cumsum(t_full,axis=0)\n",
    "print(t_accum)"
   ]
  },
  {
   "cell_type": "code",
   "execution_count": 19,
   "metadata": {},
   "outputs": [],
   "source": [
    "xt_data=np.vstack((t_accum, x_full)).T\n",
    "xt_df=pd.DataFrame(xt_data)\n",
    "\n",
    "yt_data=np.vstack((t_accum, y_full)).T\n",
    "yt_df=pd.DataFrame(yt_data)\n",
    "\n",
    "zt_data=np.vstack((t_accum, z_full)).T\n",
    "zt_df=pd.DataFrame(zt_data)"
   ]
  },
  {
   "cell_type": "code",
   "execution_count": 20,
   "metadata": {},
   "outputs": [],
   "source": [
    "xt_df.to_csv('path_x.csv', index=False, header=False)\n",
    "yt_df.to_csv('path_y.csv', index=False, header=False)\n",
    "zt_df.to_csv('path_z.csv', index=False, header=False)"
   ]
  }
 ],
 "metadata": {
  "kernelspec": {
   "display_name": "Python 3",
   "language": "python",
   "name": "python3"
  },
  "language_info": {
   "codemirror_mode": {
    "name": "ipython",
    "version": 3
   },
   "file_extension": ".py",
   "mimetype": "text/x-python",
   "name": "python",
   "nbconvert_exporter": "python",
   "pygments_lexer": "ipython3",
   "version": "3.7.8"
  }
 },
 "nbformat": 4,
 "nbformat_minor": 4
}
