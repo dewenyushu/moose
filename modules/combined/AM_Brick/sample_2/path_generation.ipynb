{
 "cells": [
  {
   "cell_type": "code",
   "execution_count": 1,
   "metadata": {},
   "outputs": [],
   "source": [
    "import numpy as np\n",
    "import pandas as pd\n",
    "import matplotlib.pyplot as plt\n",
    "from mpl_toolkits.mplot3d import Axes3D\n",
    "import csv"
   ]
  },
  {
   "cell_type": "code",
   "execution_count": 2,
   "metadata": {},
   "outputs": [],
   "source": [
    "from matplotlib import rcParams\n",
    "rcParams['font.family'] = 'Serif'"
   ]
  },
  {
   "cell_type": "markdown",
   "metadata": {},
   "source": [
    "## Product parameter"
   ]
  },
  {
   "cell_type": "code",
   "execution_count": 3,
   "metadata": {},
   "outputs": [],
   "source": [
    "dx = [-2, 2] #mm\n",
    "\n",
    "dy = [-2, 2] #mm\n",
    "\n",
    "dz = [4, 16] # mm"
   ]
  },
  {
   "cell_type": "markdown",
   "metadata": {},
   "source": [
    "## Printing parameter"
   ]
  },
  {
   "cell_type": "code",
   "execution_count": 4,
   "metadata": {},
   "outputs": [],
   "source": [
    "h = 0.3 # layer thickness, mm\n",
    "\n",
    "d = 0.42 # hatch spacing, mm\n",
    "\n",
    "v_infill = 6.35 # infill scanning speed, mm/s\n",
    "\n",
    "v_outline = 10.58"
   ]
  },
  {
   "cell_type": "markdown",
   "metadata": {},
   "source": [
    "## Produce parallel scanning path\n",
    "\n",
    "### 1. outline"
   ]
  },
  {
   "cell_type": "code",
   "execution_count": 5,
   "metadata": {},
   "outputs": [],
   "source": [
    "def get_outline_path_A(dt, dx, dy, height, v_outline, x_full, y_full, z_full, t_full):\n",
    "    Lx = dx[1] - dx[0]\n",
    "    Ly = dy[1] - dy[0]\n",
    "    # assume A -> B-> C-> D as\n",
    "    # C --- B\n",
    "    # |     |\n",
    "    # D --- A\n",
    "    x_full.extend([dx[1], dx[1], dx[0], dx[0], dx[1]])\n",
    "    y_full.extend([dy[0], dy[1], dy[1], dy[0], dy[0]])\n",
    "    z_full.extend([height, height, height, height, height])\n",
    "    \n",
    "    t_full.append(dt)\n",
    "    t_full.append(Ly/v_outline)\n",
    "    t_full.append(Lx/v_outline)\n",
    "    t_full.append(Ly/v_outline)\n",
    "    t_full.append(Lx/v_outline)"
   ]
  },
  {
   "cell_type": "code",
   "execution_count": 6,
   "metadata": {},
   "outputs": [],
   "source": [
    "def get_outline_path_B(dt, dx, dy, height, v_outline, x_full, y_full, z_full, t_full):\n",
    "    Lx = dx[1] - dx[0]\n",
    "    Ly = dy[1] - dy[0]\n",
    "    # assume A -> B-> C-> D as\n",
    "    # C --- B\n",
    "    # |     |\n",
    "    # D --- A\n",
    "    x_full.extend([dx[1], dx[0], dx[0], dx[1], dx[1]])\n",
    "    y_full.extend([dy[1], dy[1], dy[0], dy[0], dy[1]])\n",
    "    z_full.extend([height, height, height, height, height])\n",
    "    \n",
    "    t_full.append(dt)\n",
    "    t_full.append(Lx/v_outline)\n",
    "    t_full.append(Ly/v_outline)\n",
    "    t_full.append(Lx/v_outline)\n",
    "    t_full.append(Ly/v_outline)"
   ]
  },
  {
   "cell_type": "code",
   "execution_count": 7,
   "metadata": {},
   "outputs": [],
   "source": [
    "def get_outline_path_C(dt, dx, dy, height, v_outline, x_full, y_full, z_full, t_full):\n",
    "    Lx = dx[1] - dx[0]\n",
    "    Ly = dy[1] - dy[0]\n",
    "    # assume A -> B-> C-> D as\n",
    "    # C --- B\n",
    "    # |     |\n",
    "    # D --- A\n",
    "    x_full.extend([ dx[0], dx[0], dx[1], dx[1], dx[0]])\n",
    "    y_full.extend([ dy[1], dy[0], dy[0], dy[1], dy[1]])\n",
    "    z_full.extend([height, height, height, height, height])\n",
    "    \n",
    "    t_full.append(dt)\n",
    "    t_full.append(Ly/v_outline)\n",
    "    t_full.append(Lx/v_outline)\n",
    "    t_full.append(Ly/v_outline)\n",
    "    t_full.append(Lx/v_outline)"
   ]
  },
  {
   "cell_type": "code",
   "execution_count": 8,
   "metadata": {},
   "outputs": [],
   "source": [
    "def get_outline_path_D(dt, dx, dy, height, v_outline, x_full, y_full, z_full, t_full):\n",
    "    Lx = dx[1] - dx[0]\n",
    "    Ly = dy[1] - dy[0]\n",
    "    # assume A -> B-> C-> D as\n",
    "    # C --- B\n",
    "    # |     |\n",
    "    # D --- A\n",
    "    x_full.extend([  dx[0], dx[1], dx[1], dx[0], dx[0]])\n",
    "    y_full.extend([  dy[0], dy[0], dy[1], dy[1], dy[0]])\n",
    "    z_full.extend([height, height, height, height, height])\n",
    "    \n",
    "    t_full.append(dt)\n",
    "    t_full.append(Lx/v_outline)\n",
    "    t_full.append(Ly/v_outline)\n",
    "    t_full.append(Lx/v_outline)\n",
    "    t_full.append(Ly/v_outline)"
   ]
  },
  {
   "cell_type": "markdown",
   "metadata": {},
   "source": [
    "### 2. filling path"
   ]
  },
  {
   "cell_type": "code",
   "execution_count": 9,
   "metadata": {},
   "outputs": [],
   "source": [
    "def get_horizontal_filling_path(dt, y_start, y_end, move_right,  dx, dy, hatch_spacing, height, v_infill, v_outline, x_full, y_full, z_full, t_full):\n",
    "    Lx = dx[1] - dx[0]\n",
    "    Ly = dy[1] - dy[0]\n",
    "    t_vert = hatch_spacing/v_outline\n",
    "    t_hor = Lx/v_infill\n",
    "    t_full.append(dt)\n",
    "    if move_right == False:\n",
    "        hatch_spacing = - hatch_spacing\n",
    "    for y in np.arange(y_start, y_end, hatch_spacing):\n",
    "        y_full.extend([y,y])\n",
    "        if move_right == True:\n",
    "            x_full.extend(dx)\n",
    "            move_right=False\n",
    "        else:\n",
    "            x_full.extend([dx[1], dx[0]])\n",
    "            move_right=True\n",
    "        z_full.extend([height, height])\n",
    "        t_full.extend([t_hor, t_vert])\n",
    "    del t_full[-1]"
   ]
  },
  {
   "cell_type": "code",
   "execution_count": 10,
   "metadata": {},
   "outputs": [],
   "source": [
    "def get_vertical_filling_path(dt, x_start, x_end, move_up, dx, dy, hatch_spacing, height, v_infill, v_outline, x_full, y_full, z_full, t_full):\n",
    "    Lx = dx[1] - dx[0]\n",
    "    Ly = dy[1] - dy[0]\n",
    "    t_hor = hatch_spacing/v_outline\n",
    "    t_vert = Ly/v_infill\n",
    "    t_full.append(dt)\n",
    "    if move_up == False:\n",
    "        hatch_spacing = -hatch_spacing\n",
    "    for x in np.arange(x_start, x_end, hatch_spacing):\n",
    "        x_full.extend([x,x])\n",
    "        if move_up == True:\n",
    "            y_full.extend(dy)\n",
    "            move_up=False\n",
    "        else:\n",
    "            y_full.extend([dy[1], dy[0]])\n",
    "            move_up=True\n",
    "        z_full.extend([height, height])\n",
    "        t_full.extend([t_vert, t_hor])\n",
    "    del t_full[-1]"
   ]
  },
  {
   "cell_type": "code",
   "execution_count": 11,
   "metadata": {},
   "outputs": [],
   "source": [
    "x_full = []\n",
    "y_full = []\n",
    "z_full = []\n",
    "t_full = []\n",
    "\n",
    "x_start = -1.9\n",
    "x_end = 2.0\n",
    "y_start = -1.9\n",
    "y_end = 2.0\n",
    "hatch_spacing = 0.42\n",
    "\n",
    "height = 0.0\n",
    "\n",
    "total_height = 16\n",
    "\n",
    "dt = 0.01;\n",
    "\n",
    "# get_outline_path_D(dx, dy, 0.0, v_outline,  x_full, y_full, z_full, t_full)\n",
    "\n",
    "\n",
    "\n",
    "# get_outline_path_B(dx, dy, 0.3, v_outline, dt,  x_full, y_full, z_full, t_full)\n",
    "\n",
    "# print(x_full)\n",
    "# print(y_full)\n",
    "# print(z_full)\n",
    "# print(t_full)"
   ]
  },
  {
   "cell_type": "markdown",
   "metadata": {},
   "source": [
    "### get one-layer printing path"
   ]
  },
  {
   "cell_type": "code",
   "execution_count": 12,
   "metadata": {},
   "outputs": [
    {
     "name": "stdout",
     "output_type": "stream",
     "text": [
      "[-1.9, -1.9, -1.48, -1.48, -1.06, -1.06, -0.6400000000000001, -0.6400000000000001, -0.2200000000000002, -0.2200000000000002, 0.19999999999999973, 0.19999999999999973, 0.6199999999999997, 0.6199999999999997, 1.0399999999999996, 1.0399999999999996, 1.4599999999999995, 1.4599999999999995, 1.8799999999999994, 1.8799999999999994]\n",
      "[-2, 2, 2, -2, -2, 2, 2, -2, -2, 2, 2, -2, -2, 2, 2, -2, -2, 2, 2, -2]\n",
      "[0.0, 0.0, 0.0, 0.0, 0.0, 0.0, 0.0, 0.0, 0.0, 0.0, 0.0, 0.0, 0.0, 0.0, 0.0, 0.0, 0.0, 0.0, 0.0, 0.0]\n",
      "[0.01, 0.6299212598425197, 0.03969754253308128, 0.6299212598425197, 0.03969754253308128, 0.6299212598425197, 0.03969754253308128, 0.6299212598425197, 0.03969754253308128, 0.6299212598425197, 0.03969754253308128, 0.6299212598425197, 0.03969754253308128, 0.6299212598425197, 0.03969754253308128, 0.6299212598425197, 0.03969754253308128, 0.6299212598425197, 0.03969754253308128, 0.6299212598425197]\n"
     ]
    }
   ],
   "source": [
    "x_full = []\n",
    "y_full = []\n",
    "z_full = []\n",
    "t_full = []\n",
    "\n",
    "# get_outline_path_D(dt, dx, dy, height, v_outline,  x_full, y_full, z_full, t_full)\n",
    "get_vertical_filling_path(dt, x_start, x_end, True, dx, dy, hatch_spacing, height, v_infill, v_outline, x_full, y_full, z_full, t_full)\n",
    "# dt = 0.1;\n",
    "# get_outline_path_B(dt, dx, dy, height+0.3, v_outline,  x_full, y_full, z_full, t_full)\n",
    "# get_horizontal_filling_path(2.0, -1.8, False, dx, dy, hatch_spacing, height+0.3, v_infill, x_full, y_full, z_full, t_full)\n",
    "\n",
    "print(x_full)\n",
    "print(y_full)\n",
    "print(z_full)\n",
    "print(t_full)"
   ]
  },
  {
   "cell_type": "code",
   "execution_count": 13,
   "metadata": {},
   "outputs": [
    {
     "data": {
      "image/png": "[encoded data removed]",
      "text/plain": [
       "<Figure size 432x288 with 1 Axes>"
      ]
     },
     "metadata": {
      "needs_background": "light"
     },
     "output_type": "display_data"
    }
   ],
   "source": [
    "# %matplotlib qt\n",
    "%matplotlib inline\n",
    "fig = plt.figure()\n",
    "# ax = fig.add_subplot(111, projection='3d')\n",
    "# ax.plot(x,y,z, '-or')\n",
    "plt.plot(x_full,y_full, ':or')\n",
    "# plt.axis('equal')\n",
    "plt.axis([-2, 2, -2, 2])\n",
    "# plt.xticks([-10, -5, 0, 5, 10])\n",
    "# plt.yticks([-10, -5, 0, 5, 10])\n",
    "plt.gca().set_aspect('equal', adjustable='box')\n",
    "plt.xlabel(\"$x$\", usetex=True, fontsize = 14)\n",
    "plt.ylabel(\"$y$\", usetex=True,fontsize = 14)\n",
    "\n",
    "\n",
    "# fig.savefig('printing_path_2D.pdf', bbox_inches='tight')\n",
    "\n",
    "# show the plot\n",
    "plt.show()"
   ]
  },
  {
   "cell_type": "code",
   "execution_count": 14,
   "metadata": {},
   "outputs": [
    {
     "name": "stdout",
     "output_type": "stream",
     "text": [
      "[2, -2, -2, 2, 2, -2, -2, 2, 2, -2, -2, 2, 2, -2, -2, 2, 2, -2, -2, 2]\n",
      "[1.9, 1.9, 1.48, 1.48, 1.06, 1.06, 0.6400000000000001, 0.6400000000000001, 0.2200000000000002, 0.2200000000000002, -0.19999999999999973, -0.19999999999999973, -0.6199999999999997, -0.6199999999999997, -1.0399999999999996, -1.0399999999999996, -1.4599999999999995, -1.4599999999999995, -1.8799999999999994, -1.8799999999999994]\n",
      "[0.0, 0.0, 0.0, 0.0, 0.0, 0.0, 0.0, 0.0, 0.0, 0.0, 0.0, 0.0, 0.0, 0.0, 0.0, 0.0, 0.0, 0.0, 0.0, 0.0]\n",
      "[0.1, 0.6299212598425197, 0.03969754253308128, 0.6299212598425197, 0.03969754253308128, 0.6299212598425197, 0.03969754253308128, 0.6299212598425197, 0.03969754253308128, 0.6299212598425197, 0.03969754253308128, 0.6299212598425197, 0.03969754253308128, 0.6299212598425197, 0.03969754253308128, 0.6299212598425197, 0.03969754253308128, 0.6299212598425197, 0.03969754253308128, 0.6299212598425197]\n"
     ]
    }
   ],
   "source": [
    "x_full = []\n",
    "y_full = []\n",
    "z_full = []\n",
    "t_full = []\n",
    "\n",
    "get_horizontal_filling_path(dt, -y_start, -y_end, False, dx, dy, hatch_spacing, 0.0, v_infill, v_outline, x_full, y_full, z_full, t_full)\n",
    "\n",
    "print(x_full)\n",
    "print(y_full)\n",
    "print(z_full)\n",
    "print(t_full)"
   ]
  },
  {
   "cell_type": "code",
   "execution_count": 15,
   "metadata": {},
   "outputs": [
    {
     "data": {
      "image/png": "[encoded data removed]",
      "text/plain": [
       "<Figure size 432x288 with 1 Axes>"
      ]
     },
     "metadata": {
      "needs_background": "light"
     },
     "output_type": "display_data"
    }
   ],
   "source": [
    "# %matplotlib qt\n",
    "%matplotlib inline\n",
    "fig = plt.figure()\n",
    "# ax = fig.add_subplot(111, projection='3d')\n",
    "# ax.plot(x,y,z, '-or')\n",
    "plt.plot(x_full,y_full, ':or')\n",
    "# plt.axis('equal')\n",
    "plt.axis([-2, 2, -2, 2])\n",
    "# plt.xticks([-10, -5, 0, 5, 10])\n",
    "# plt.yticks([-10, -5, 0, 5, 10])\n",
    "plt.gca().set_aspect('equal', adjustable='box')\n",
    "plt.xlabel(\"$x$\", usetex=True, fontsize = 14)\n",
    "plt.ylabel(\"$y$\", usetex=True,fontsize = 14)\n",
    "\n",
    "\n",
    "# fig.savefig('printing_path_2D.pdf', bbox_inches='tight')\n",
    "\n",
    "# show the plot\n",
    "plt.show()"
   ]
  },
  {
   "cell_type": "markdown",
   "metadata": {},
   "source": [
    "### get multi-layer printing path"
   ]
  },
  {
   "cell_type": "code",
   "execution_count": 16,
   "metadata": {},
   "outputs": [
    {
     "name": "stdout",
     "output_type": "stream",
     "text": [
      "4.0\n",
      "4.3\n",
      "4.6\n",
      "4.8999999999999995\n",
      "5.199999999999999\n",
      "5.499999999999999\n",
      "5.799999999999999\n",
      "6.099999999999999\n",
      "6.399999999999999\n",
      "6.699999999999998\n",
      "6.999999999999998\n",
      "7.299999999999998\n",
      "7.599999999999998\n",
      "7.899999999999998\n",
      "8.199999999999998\n",
      "8.499999999999996\n",
      "8.799999999999997\n",
      "9.099999999999998\n",
      "9.399999999999997\n",
      "9.699999999999996\n",
      "9.999999999999996\n",
      "10.299999999999997\n",
      "10.599999999999996\n",
      "10.899999999999995\n",
      "11.199999999999996\n",
      "11.499999999999996\n",
      "11.799999999999995\n"
     ]
    }
   ],
   "source": [
    "x_full = []\n",
    "y_full = []\n",
    "z_full = []\n",
    "t_full = []\n",
    "\n",
    "dz = 0.3\n",
    "height_substrate = 4\n",
    "\n",
    "\n",
    "vertical_fill = True\n",
    "for z in np.arange(height_substrate, total_height, dz):\n",
    "    print(z)\n",
    "    if vertical_fill == True:\n",
    "#         get_outline_path_D(dt, dx, dy, z, v_outline,  x_full, y_full, z_full, t_full)\n",
    "        get_vertical_filling_path(dt, x_start, x_end, True, dx, dy, hatch_spacing, z, v_infill, v_outline, x_full, y_full, z_full, t_full)\n",
    "        vertical_fill = False\n",
    "    else:\n",
    "#         get_outline_path_B(dt, dx, dy, z, v_outline,  x_full, y_full, z_full, t_full)\n",
    "        get_horizontal_filling_path(dt, -y_start, -y_end, False, dx, dy, hatch_spacing, z, v_infill, v_outline, x_full, y_full, z_full, t_full)\n",
    "        vertical_fill = True\n",
    "\n",
    "\n",
    "# print(x_full)\n",
    "# print(y_full)\n",
    "# print(z_full)\n",
    "# print(t_full)"
   ]
  },
  {
   "cell_type": "code",
   "execution_count": 17,
   "metadata": {},
   "outputs": [
    {
     "data": {
      "image/png": "[encoded data removed]",
      "text/plain": [
       "<Figure size 432x288 with 1 Axes>"
      ]
     },
     "metadata": {
      "needs_background": "light"
     },
     "output_type": "display_data"
    }
   ],
   "source": [
    "# %matplotlib qt\n",
    "%matplotlib inline\n",
    "fig = plt.figure()\n",
    "ax = fig.add_subplot(111, projection='3d')\n",
    "ax.plot(x_full,y_full,z_full, '-or')\n",
    "ax.set_xlim([-3, 3])\n",
    "ax.set_ylim([-3, 3])\n",
    "ax.set_zlim([0, total_height])\n",
    "# ax.set_xticks([-10, -5, 0, 5, 10])\n",
    "# ax.set_yticks([-10, -5, 0, 5, 10])\n",
    "# ax.set_zticks([5, 7, 9, 11, 13, 15, 17, 19, 21, 23])\n",
    "ax.set_xlabel(\"$x$\", usetex=True, fontsize = 14)\n",
    "ax.set_ylabel(\"$y$\", usetex=True,fontsize = 14)\n",
    "ax.set_zlabel(\"$z$\", usetex=True,fontsize = 14)\n",
    "\n",
    "# fig.tight_layout()\n",
    "# fig.savefig('box_printing_path_3layers.pdf', bbox_inches='tight')\n",
    "\n",
    "# show the plot\n",
    "plt.show()"
   ]
  },
  {
   "cell_type": "markdown",
   "metadata": {},
   "source": [
    "### Get accumulated time"
   ]
  },
  {
   "cell_type": "code",
   "execution_count": 18,
   "metadata": {},
   "outputs": [
    {
     "name": "stdout",
     "output_type": "stream",
     "text": [
      "[  0.           0.62992126   0.6696188    1.29954006   1.3392376\n",
      "   1.96915886   2.00885641   2.63877767   2.67847521   3.30839647\n",
      "   3.34809401   3.97801527   4.01771281   4.64763407   4.68733162\n",
      "   5.31725288   5.35695042   5.98687168   6.02656922   6.65649048\n",
      "   6.67649048   7.30641174   7.34610928   7.97603054   8.01572809\n",
      "   8.64564935   8.68534689   9.31526815   9.35496569   9.98488695\n",
      "  10.02458449  10.65450575  10.6942033   11.32412456  11.3638221\n",
      "  11.99374336  12.0334409   12.66336216  12.7030597   13.33298096\n",
      "  13.35298096  13.98290222  14.02259976  14.65252102  14.69221857\n",
      "  15.32213983  15.36183737  15.99175863  16.03145617  16.66137743\n",
      "  16.70107497  17.33099623  17.37069378  18.00061504  18.04031258\n",
      "  18.67023384  18.70993138  19.33985264  19.37955018  20.00947144\n",
      "  20.02947144  20.6593927   20.69909025  21.32901151  21.36870905\n",
      "  21.99863031  22.03832785  22.66824911  22.70794665  23.33786791\n",
      "  23.37756546  24.00748672  24.04718426  24.67710552  24.71680306\n",
      "  25.34672432  25.38642186  26.01634312  26.05604067  26.68596192\n",
      "  26.70596192  27.33588318  27.37558073  28.00550199  28.04519953\n",
      "  28.67512079  28.71481833  29.34473959  29.38443713  30.01435839\n",
      "  30.05405594  30.6839772   30.72367474  31.353596    31.39329354\n",
      "  32.0232148   32.06291234  32.6928336   32.73253115  33.36245241\n",
      "  33.38245241  34.01237367  34.05207121  34.68199247  34.72169001\n",
      "  35.35161127  35.39130881  36.02123007  36.06092762  36.69084888\n",
      "  36.73054642  37.36046768  37.40016522  38.03008648  38.06978402\n",
      "  38.69970528  38.73940283  39.36932408  39.40902163  40.03894289\n",
      "  40.05894289  40.68886415  40.72856169  41.35848295  41.39818049\n",
      "  42.02810175  42.06779929  42.69772055  42.7374181   43.36733936\n",
      "  43.4070369   44.03695816  44.0766557   44.70657696  44.7462745\n",
      "  45.37619576  45.41589331  46.04581457  46.08551211  46.71543337\n",
      "  46.73543337  47.36535463  47.40505217  48.03497343  48.07467097\n",
      "  48.70459223  48.74428978  49.37421104  49.41390858  50.04382984\n",
      "  50.08352738  50.71344864  50.75314618  51.38306744  51.42276499\n",
      "  52.05268625  52.09238379  52.72230505  52.76200259  53.39192385\n",
      "  53.41192385  54.04184511  54.08154265  54.71146391  54.75116145\n",
      "  55.38108271  55.42078026  56.05070152  56.09039906  56.72032032\n",
      "  56.76001786  57.38993912  57.42963666  58.05955792  58.09925547\n",
      "  58.72917673  58.76887427  59.39879553  59.43849307  60.06841433\n",
      "  60.08841433  60.71833559  60.75803313  61.38795439  61.42765194\n",
      "  62.0575732   62.09727074  62.727192    62.76688954  63.3968108\n",
      "  63.43650834  64.0664296   64.10612715  64.73604841  64.77574595\n",
      "  65.40566721  65.44536475  66.07528601  66.11498355  66.74490481\n",
      "  66.76490481  67.39482607  67.43452361  68.06444487  68.10414242\n",
      "  68.73406368  68.77376122  69.40368248  69.44338002  70.07330128\n",
      "  70.11299882  70.74292008  70.78261763  71.41253889  71.45223643\n",
      "  72.08215769  72.12185523  72.75177649  72.79147403  73.42139529\n",
      "  73.44139529  74.07131655  74.1110141   74.74093536  74.7806329\n",
      "  75.41055416  75.4502517   76.08017296  76.1198705   76.74979176\n",
      "  76.78948931  77.41941057  77.45910811  78.08902937  78.12872691\n",
      "  78.75864817  78.79834571  79.42826697  79.46796451  80.09788577\n",
      "  80.11788577  80.74780703  80.78750458  81.41742584  81.45712338\n",
      "  82.08704464  82.12674218  82.75666344  82.79636098  83.42628224\n",
      "  83.46597979  84.09590105  84.13559859  84.76551985  84.80521739\n",
      "  85.43513865  85.47483619  86.10475745  86.144455    86.77437626\n",
      "  86.79437626  87.42429752  87.46399506  88.09391632  88.13361386\n",
      "  88.76353512  88.80323266  89.43315392  89.47285147  90.10277273\n",
      "  90.14247027  90.77239153  90.81208907  91.44201033  91.48170787\n",
      "  92.11162913  92.15132667  92.78124793  92.82094548  93.45086674\n",
      "  93.47086674  94.100788    94.14048554  94.7704068   94.81010434\n",
      "  95.4400256   95.47972314  96.1096444   96.14934195  96.77926321\n",
      "  96.81896075  97.44888201  97.48857955  98.11850081  98.15819835\n",
      "  98.78811961  98.82781716  99.45773842  99.49743596 100.12735722\n",
      " 100.14735722 100.77727848 100.81697602 101.44689728 101.48659482\n",
      " 102.11651608 102.15621363 102.78613489 102.82583243 103.45575369\n",
      " 103.49545123 104.12537249 104.16507003 104.79499129 104.83468883\n",
      " 105.46461009 105.50430764 106.1342289  106.17392644 106.8038477\n",
      " 106.8238477  107.45376896 107.4934665  108.12338776 108.1630853\n",
      " 108.79300656 108.83270411 109.46262537 109.50232291 110.13224417\n",
      " 110.17194171 110.80186297 110.84156051 111.47148177 111.51117932\n",
      " 112.14110058 112.18079812 112.81071938 112.85041692 113.48033818\n",
      " 113.50033818 114.13025944 114.16995698 114.79987824 114.83957579\n",
      " 115.46949705 115.50919459 116.13911585 116.17881339 116.80873465\n",
      " 116.84843219 117.47835345 117.518051   118.14797225 118.1876698\n",
      " 118.81759106 118.8572886  119.48720986 119.5269074  120.15682866\n",
      " 120.17682866 120.80674992 120.84644746 121.47636872 121.51606627\n",
      " 122.14598753 122.18568507 122.81560633 122.85530387 123.48522513\n",
      " 123.52492267 124.15484393 124.19454148 124.82446274 124.86416028\n",
      " 125.49408154 125.53377908 126.16370034 126.20339788 126.83331914\n",
      " 126.85331914 127.4832404  127.52293795 128.15285921 128.19255675\n",
      " 128.82247801 128.86217555 129.49209681 129.53179435 130.16171561\n",
      " 130.20141316 130.83133441 130.87103196 131.50095322 131.54065076\n",
      " 132.17057202 132.21026956 132.84019082 132.87988836 133.50980962\n",
      " 133.52980962 134.15973088 134.19942843 134.82934969 134.86904723\n",
      " 135.49896849 135.53866603 136.16858729 136.20828483 136.83820609\n",
      " 136.87790364 137.5078249  137.54752244 138.1774437  138.21714124\n",
      " 138.8470625  138.88676004 139.5166813  139.55637885 140.18630011\n",
      " 140.20630011 140.83622137 140.87591891 141.50584017 141.54553771\n",
      " 142.17545897 142.21515651 142.84507777 142.88477532 143.51469658\n",
      " 143.55439412 144.18431538 144.22401292 144.85393418 144.89363172\n",
      " 145.52355298 145.56325052 146.19317178 146.23286933 146.86279059\n",
      " 146.88279059 147.51271185 147.55240939 148.18233065 148.22202819\n",
      " 148.85194945 148.89164699 149.52156825 149.5612658  150.19118706\n",
      " 150.2308846  150.86080586 150.9005034  151.53042466 151.5701222\n",
      " 152.20004346 152.23974101 152.86966227 152.90935981 153.53928107\n",
      " 153.55928107 154.18920233 154.22889987 154.85882113 154.89851867\n",
      " 155.52843993 155.56813748 156.19805874 156.23775628 156.86767754\n",
      " 156.90737508 157.53729634 157.57699388 158.20691514 158.24661268\n",
      " 158.87653394 158.91623149 159.54615275 159.58585029 160.21577155\n",
      " 160.23577155 160.86569281 160.90539035 161.53531161 161.57500915\n",
      " 162.20493041 162.24462796 162.87454922 162.91424676 163.54416802\n",
      " 163.58386556 164.21378682 164.25348436 164.88340562 164.92310317\n",
      " 165.55302443 165.59272197 166.22264323 166.26234077 166.89226203\n",
      " 166.91226203 167.54218329 167.58188083 168.21180209 168.25149964\n",
      " 168.8814209  168.92111844 169.5510397  169.59073724 170.2206585\n",
      " 170.26035604 170.8902773  170.92997484 171.5598961  171.59959365\n",
      " 172.22951491 172.26921245 172.89913371 172.93883125 173.56875251\n",
      " 173.58875251 174.21867377 174.25837131 174.88829257 174.92799012\n",
      " 175.55791138 175.59760892 176.22753018 176.26722772 176.89714898\n",
      " 176.93684652 177.56676778 177.60646533 178.23638659 178.27608413\n",
      " 178.90600539 178.94570293 179.57562419 179.61532173 180.24524299]\n"
     ]
    }
   ],
   "source": [
    "t_full[0] = 0\n",
    "t_accum = np.cumsum(t_full,axis=0)\n",
    "print(t_accum)"
   ]
  },
  {
   "cell_type": "code",
   "execution_count": 19,
   "metadata": {},
   "outputs": [],
   "source": [
    "xt_data=np.vstack((t_accum, x_full)).T\n",
    "xt_df=pd.DataFrame(xt_data)\n",
    "\n",
    "yt_data=np.vstack((t_accum, y_full)).T\n",
    "yt_df=pd.DataFrame(yt_data)\n",
    "\n",
    "zt_data=np.vstack((t_accum, z_full)).T\n",
    "zt_df=pd.DataFrame(zt_data)"
   ]
  },
  {
   "cell_type": "code",
   "execution_count": 20,
   "metadata": {},
   "outputs": [],
   "source": [
    "xt_df.to_csv('path_x.csv', index=False, header=False)\n",
    "yt_df.to_csv('path_y.csv', index=False, header=False)\n",
    "zt_df.to_csv('path_z.csv', index=False, header=False)"
   ]
  }
 ],
 "metadata": {
  "kernelspec": {
   "display_name": "Python 3",
   "language": "python",
   "name": "python3"
  },
  "language_info": {
   "codemirror_mode": {
    "name": "ipython",
    "version": 3
   },
   "file_extension": ".py",
   "mimetype": "text/x-python",
   "name": "python",
   "nbconvert_exporter": "python",
   "pygments_lexer": "ipython3",
   "version": "3.7.8"
  }
 },
 "nbformat": 4,
 "nbformat_minor": 4
}
