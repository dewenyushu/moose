{
 "cells": [
  {
   "cell_type": "code",
   "execution_count": 1,
   "metadata": {},
   "outputs": [],
   "source": [
    "import numpy as np\n",
    "import json\n",
    "import scipy.sparse as sparse\n",
    "import matplotlib.pylab as plt"
   ]
  },
  {
   "cell_type": "code",
   "execution_count": 2,
   "metadata": {},
   "outputs": [],
   "source": [
    "# Read DOF Map\n",
    "def getDOFMap(fname):\n",
    "    with open(fname, 'r') as dof_file:\n",
    "      dof_data = json.load(dof_file)\n",
    "\n",
    "#     print(json.dumps(dof_data, indent = 4))\n",
    "#     print(json.dumps(dof_data[\"vars\"][0], indent = 4))\n",
    "\n",
    "    var_num = len(dof_data[\"vars\"])\n",
    "    dof_num = dof_data[\"ndof\"]\n",
    "\n",
    "    # Save dofs in DOFs: var_num * dof_per_var\n",
    "    DOFs = []\n",
    "    for var in dof_data[\"vars\"]:\n",
    "        DOF_list = []\n",
    "        for dm in var[\"subdomains\"]:\n",
    "            id = dm[\"id\"]\n",
    "            dofs = dm[\"dofs\"]\n",
    "            DOF_list += dofs\n",
    "        DOFs.append(DOF_list)\n",
    "    return DOFs, dof_num"
   ]
  },
  {
   "cell_type": "code",
   "execution_count": 3,
   "metadata": {},
   "outputs": [],
   "source": [
    "# Get DOF list for variable name \"Var\" and subdomain \"ID\"\n",
    "def getDOFMapVarID(fname, Var, ID):\n",
    "    with open(fname, 'r') as dof_file:\n",
    "      dof_data = json.load(dof_file)\n",
    "    for var in dof_data[\"vars\"]:\n",
    "        if Var == var[\"name\"]:\n",
    "            for dm in var[\"subdomains\"]:\n",
    "                if ID == dm[\"id\"]:\n",
    "                    return dm[\"dofs\"]"
   ]
  },
  {
   "cell_type": "code",
   "execution_count": 4,
   "metadata": {},
   "outputs": [],
   "source": [
    "# Read Matrix \n",
    "def getJacobianMatrix(fname, tol):\n",
    "    data = open(fname, 'r')\n",
    "    if data.mode == 'r':\n",
    "        lines = data.readlines()\n",
    "        lin_num = 0\n",
    "        # Matrix size\n",
    "        row_num = 0\n",
    "        col_num = 0\n",
    "        # Total nonzeros\n",
    "        nonzero_num = 0\n",
    "        # Row and Col indices\n",
    "        row_ind = []\n",
    "        col_ind = []\n",
    "        vals = []\n",
    "        for line in lines:\n",
    "            lin_num = lin_num +1\n",
    "            if lin_num == 3: # get matrix size\n",
    "                tmp = [int(i) for i in line.split() if i.isdigit()] \n",
    "                row_num = tmp[0]\n",
    "                col_num = tmp[1]\n",
    "            if lin_num == 4: # get number of nonzeros\n",
    "                tmp = [int(i) for i in line.split() if i.isdigit()]\n",
    "                nonzero_num = tmp[0]\n",
    "            if lin_num > 6 and lin_num - nonzero_num< 7: # get each nonzero entry\n",
    "                tmp = list( map( float,  filter( None  , [ x for x in line.strip().split(' ') ] )) )\n",
    "                if abs(tmp[2])> tol:\n",
    "                    row_ind.append(int(tmp[0]))\n",
    "                    col_ind.append(int(tmp[1]))\n",
    "                    vals.append(tmp[2])\n",
    "                    #print([idx, idy, val])\n",
    "#     print(len(vals))            \n",
    "    MAT = sparse.coo_matrix((vals, (row_ind, col_ind)))\n",
    "    return MAT, len(vals)\n",
    "\n",
    "# print(MAT.tocsc())\n",
    "# visualize the sparse matrix with Spy\n",
    "# plt.spy(MAT, markersize=1)"
   ]
  },
  {
   "cell_type": "code",
   "execution_count": 5,
   "metadata": {},
   "outputs": [],
   "source": [
    "def coo_submatrix_pull(matr, rows, cols):\n",
    "    \"\"\"\n",
    "    Pulls out an arbitrary i.e. non-contiguous submatrix out of\n",
    "    a sparse.coo_matrix. \n",
    "    \"\"\"\n",
    "    if type(matr) != sparse.coo_matrix:\n",
    "        raise TypeError('Matrix must be sparse COOrdinate format')\n",
    "    \n",
    "    gr = -1 * np.ones(matr.shape[0])\n",
    "    gc = -1 * np.ones(matr.shape[1])\n",
    "    \n",
    "    lr = len(rows)\n",
    "    lc = len(cols)\n",
    "    \n",
    "    ar = np.arange(0, lr)\n",
    "    ac = np.arange(0, lc)\n",
    "    gr[rows[ar]] = ar\n",
    "    gc[cols[ac]] = ac\n",
    "    mrow = matr.row\n",
    "    mcol = matr.col\n",
    "    newelem = (gr[mrow] > -1) & (gc[mcol] > -1)\n",
    "    newrows = mrow[newelem]\n",
    "    newcols = mcol[newelem]\n",
    "    return sparse.coo_matrix((matr.data[newelem], np.array([gr[newrows], gc[newcols]])),(lr, lc))"
   ]
  },
  {
   "cell_type": "code",
   "execution_count": 6,
   "metadata": {},
   "outputs": [
    {
     "name": "stdout",
     "output_type": "stream",
     "text": [
      "dual nonzeros: 8708; nonzeros: 8732; Difference: 24\n"
     ]
    }
   ],
   "source": [
    "refine = 2;\n",
    "dof_map, dof_num = getDOFMap('contact_sliding_LU_refine_'+str(refine)+'_out.json')\n",
    "dual_mat, dual_nonzeros = getJacobianMatrix('./dual_matrix_ref'+str(refine)+'.m', 1e-8)\n",
    "mat, nonzeros = getJacobianMatrix('./matrix_ref'+str(refine)+'.m', 1e-8)\n",
    "\n",
    "ux1_dofs = getDOFMapVarID('contact_sliding_LU_refine_'+str(refine)+'_out.json', 'disp_x', 1)\n",
    "ux2_dofs = getDOFMapVarID('contact_sliding_LU_refine_'+str(refine)+'_out.json', 'disp_x', 2)\n",
    "\n",
    "uy1_dofs = getDOFMapVarID('contact_sliding_LU_refine_'+str(refine)+'_out.json', 'disp_y', 1)\n",
    "uy2_dofs = getDOFMapVarID('contact_sliding_LU_refine_'+str(refine)+'_out.json', 'disp_y', 2)\n",
    "\n",
    "lm_dofs = getDOFMapVarID('contact_sliding_LU_refine_'+str(refine)+'_out.json', 'leftright_normal_lm', 4)\n",
    "\n",
    "# print(dof_map)\n",
    "\n",
    "# print(ux1_dofs)\n",
    "# print(ux2_dofs)\n",
    "# print(uy1_dofs)\n",
    "# print(uy2_dofs)\n",
    "\n",
    "disp_1_dofs=ux1_dofs+uy1_dofs\n",
    "disp_2_dofs=ux2_dofs+uy2_dofs\n",
    "\n",
    "disp_1_dofs.sort()\n",
    "disp_2_dofs.sort()\n",
    "\n",
    "# print(disp_1_dofs)\n",
    "\n",
    "# print(disp_2_dofs)\n",
    "\n",
    "\n",
    "print(\"dual nonzeros: \" + str(dual_nonzeros) + \"; nonzeros: \" +str(nonzeros)+ \"; Difference: \"+ str(nonzeros-dual_nonzeros))"
   ]
  },
  {
   "cell_type": "code",
   "execution_count": 7,
   "metadata": {},
   "outputs": [
    {
     "data": {
      "text/plain": [
       "<matplotlib.lines.Line2D at 0x7fed807cf810>"
      ]
     },
     "execution_count": 7,
     "metadata": {},
     "output_type": "execute_result"
    },
    {
     "data": {
      "image/png": "[encoded data removed]",
      "text/plain": [
       "<Figure size 432x288 with 2 Axes>"
      ]
     },
     "metadata": {
      "needs_background": "light"
     },
     "output_type": "display_data"
    }
   ],
   "source": [
    "fig = plt.figure()\n",
    "\n",
    "# submat = coo_submatrix_pull(mat, np.array(dof_map[1])+1, np.array(u1_dofs)+1)\n",
    "# submat_ur = coo_submatrix_pull(mat, np.array(u1_dofs)+1, np.array(dof_map[1])+1)\n",
    "plt.subplot(1, 2, 1)\n",
    "plt.axhspan(np.array(lm_dofs)[0]+1, np.array(lm_dofs)[-1]+1, facecolor='r', alpha=0.3,zorder=-100)\n",
    "plt.axvspan(np.array(lm_dofs)[0]+1, np.array(lm_dofs)[-1]+1, facecolor='r', alpha=0.3,zorder=-100)\n",
    "plt.axhspan(np.array(disp_1_dofs)[0]+1, np.array(disp_1_dofs)[-1]+1, facecolor='y', alpha=0.3,zorder=-100)\n",
    "plt.axvspan(np.array(disp_1_dofs)[0]+1, np.array(disp_1_dofs)[-1]+1, facecolor='y', alpha=0.3,zorder=-100)\n",
    "plt.spy(mat, markersize=1)\n",
    "# nonzeros = np.count_nonzero(submat.toarray())\n",
    "# nonzeros_ur = np.count_nonzero(submat_ur.toarray())\n",
    "\n",
    "# dual_submat = coo_submatrix_pull(dual_mat, np.array(dof_map[1])+1, np.array(u1_dofs)+1)\n",
    "# dual_submat_ur = coo_submatrix_pull(dual_mat, np.array(u1_dofs)+1, np.array(dof_map[1])+1)\n",
    "plt.subplot(1, 2, 2)\n",
    "plt.axhspan(np.array(lm_dofs)[0]+1, np.array(lm_dofs)[-1]+1, facecolor='r', alpha=0.3,zorder=-100)\n",
    "plt.axvspan(np.array(lm_dofs)[0]+1, np.array(lm_dofs)[-1]+1, facecolor='r', alpha=0.3,zorder=-100)\n",
    "plt.axhspan(np.array(disp_1_dofs)[0]+1, np.array(disp_1_dofs)[-1]+1, facecolor='y', alpha=0.3,zorder=-100)\n",
    "plt.axvspan(np.array(disp_1_dofs)[0]+1, np.array(disp_1_dofs)[-1]+1, facecolor='y', alpha=0.3,zorder=-100)\n",
    "plt.spy(dual_mat, markersize=1)\n",
    "\n",
    "# dual_nonzeros = np.count_nonzero(dual_submat.toarray())\n",
    "# dual_nonzeros_ur = np.count_nonzero(dual_submat_ur.toarray())\n",
    "\n",
    "# fname = '/Users/yushd/Desktop/Jacobian_nonconform_refine'+str(refine)+'.pdf'\n",
    "# plt.savefig(fname)\n",
    "\n",
    "# print(\"LM dofs: \"+str(len(dof_map[-1])))\n",
    "# print(\"lower-left dual nonzeros: \" + str(dual_nonzeros) + \"; lower-left nonzeros: \" +str(nonzeros)+ \"; Difference: \"+ str(nonzeros-dual_nonzeros))\n",
    "# print(\"upper-right dual nonzeros: \" + str(dual_nonzeros_ur) + \"; upper-right nonzeros: \" +str(nonzeros_ur)+ \"; Difference: \"+ str(nonzeros_ur-dual_nonzeros_ur))"
   ]
  },
  {
   "cell_type": "code",
   "execution_count": 8,
   "metadata": {},
   "outputs": [],
   "source": [
    "# fig.savefig('case2_mortar_contact_Jacobian_compare_ref'+str(refine)+'.pdf', bbox_inches='tight')"
   ]
  },
  {
   "cell_type": "code",
   "execution_count": 9,
   "metadata": {},
   "outputs": [
    {
     "name": "stdout",
     "output_type": "stream",
     "text": [
      "13\n"
     ]
    }
   ],
   "source": [
    "print(len(lm_dofs))"
   ]
  },
  {
   "cell_type": "code",
   "execution_count": null,
   "metadata": {},
   "outputs": [],
   "source": []
  }
 ],
 "metadata": {
  "kernelspec": {
   "display_name": "Python 3",
   "language": "python",
   "name": "python3"
  },
  "language_info": {
   "codemirror_mode": {
    "name": "ipython",
    "version": 3
   },
   "file_extension": ".py",
   "mimetype": "text/x-python",
   "name": "python",
   "nbconvert_exporter": "python",
   "pygments_lexer": "ipython3",
   "version": "3.7.4"
  }
 },
 "nbformat": 4,
 "nbformat_minor": 2
}
